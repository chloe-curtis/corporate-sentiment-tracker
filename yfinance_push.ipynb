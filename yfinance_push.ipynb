{
 "cells": [
  {
   "cell_type": "code",
   "execution_count": 3,
   "id": "c691efba-5dd5-46fd-b268-8f3736fa4515",
   "metadata": {
    "execution": {
     "iopub.execute_input": "2025-06-08T16:07:29.588894Z",
     "iopub.status.busy": "2025-06-08T16:07:29.588348Z",
     "iopub.status.idle": "2025-06-08T16:07:30.023398Z",
     "shell.execute_reply": "2025-06-08T16:07:30.023189Z",
     "shell.execute_reply.started": "2025-06-08T16:07:29.588856Z"
    }
   },
   "outputs": [],
   "source": [
    "import yfinance as yf\n",
    "import pandas as pd\n",
    "from datetime import datetime\n",
    "from pandas.tseries.offsets import QuarterEnd\n",
    "import pytz\n",
    "import time\n",
    "import os"
   ]
  },
  {
   "cell_type": "code",
   "execution_count": 55,
   "id": "e43fd3a8-7179-4510-a0ef-68831807580e",
   "metadata": {
    "execution": {
     "iopub.execute_input": "2025-06-08T13:42:37.532622Z",
     "iopub.status.busy": "2025-06-08T13:42:37.531753Z",
     "iopub.status.idle": "2025-06-08T13:42:37.537356Z",
     "shell.execute_reply": "2025-06-08T13:42:37.536156Z",
     "shell.execute_reply.started": "2025-06-08T13:42:37.532583Z"
    }
   },
   "outputs": [],
   "source": [
    "#1) Read CSV"
   ]
  },
  {
   "cell_type": "code",
   "execution_count": 47,
   "id": "c3eee9f2-cc2e-4017-b14a-974ef2d09d5f",
   "metadata": {
    "execution": {
     "iopub.execute_input": "2025-06-08T13:39:27.819015Z",
     "iopub.status.busy": "2025-06-08T13:39:27.818448Z",
     "iopub.status.idle": "2025-06-08T13:39:27.841260Z",
     "shell.execute_reply": "2025-06-08T13:39:27.840830Z",
     "shell.execute_reply.started": "2025-06-08T13:39:27.818980Z"
    }
   },
   "outputs": [
    {
     "data": {
      "text/html": [
       "<div>\n",
       "<style scoped>\n",
       "    .dataframe tbody tr th:only-of-type {\n",
       "        vertical-align: middle;\n",
       "    }\n",
       "\n",
       "    .dataframe tbody tr th {\n",
       "        vertical-align: top;\n",
       "    }\n",
       "\n",
       "    .dataframe thead th {\n",
       "        text-align: right;\n",
       "    }\n",
       "</style>\n",
       "<table border=\"1\" class=\"dataframe\">\n",
       "  <thead>\n",
       "    <tr style=\"text-align: right;\">\n",
       "      <th></th>\n",
       "      <th>quarter</th>\n",
       "      <th>ticker</th>\n",
       "      <th>cik</th>\n",
       "    </tr>\n",
       "  </thead>\n",
       "  <tbody>\n",
       "    <tr>\n",
       "      <th>0</th>\n",
       "      <td>Q1-19</td>\n",
       "      <td>A</td>\n",
       "      <td>1090872</td>\n",
       "    </tr>\n",
       "    <tr>\n",
       "      <th>1</th>\n",
       "      <td>Q1-19</td>\n",
       "      <td>AAL</td>\n",
       "      <td>6201</td>\n",
       "    </tr>\n",
       "    <tr>\n",
       "      <th>2</th>\n",
       "      <td>Q1-19</td>\n",
       "      <td>AAP</td>\n",
       "      <td>1158449</td>\n",
       "    </tr>\n",
       "    <tr>\n",
       "      <th>3</th>\n",
       "      <td>Q1-19</td>\n",
       "      <td>AAPL</td>\n",
       "      <td>320193</td>\n",
       "    </tr>\n",
       "    <tr>\n",
       "      <th>4</th>\n",
       "      <td>Q1-19</td>\n",
       "      <td>ABBV</td>\n",
       "      <td>1551152</td>\n",
       "    </tr>\n",
       "  </tbody>\n",
       "</table>\n",
       "</div>"
      ],
      "text/plain": [
       "  quarter ticker      cik\n",
       "0   Q1-19      A  1090872\n",
       "1   Q1-19    AAL     6201\n",
       "2   Q1-19    AAP  1158449\n",
       "3   Q1-19   AAPL   320193\n",
       "4   Q1-19   ABBV  1551152"
      ]
     },
     "execution_count": 47,
     "metadata": {},
     "output_type": "execute_result"
    }
   ],
   "source": [
    "df = pd.read_csv(\"step_2_table.csv\")\n",
    "df = df[[\"quarter\",\"ticker\",\"cik\"]]\n",
    "df.head()"
   ]
  },
  {
   "cell_type": "code",
   "execution_count": 54,
   "id": "5a238150-abe2-4656-be03-07d2a03c093c",
   "metadata": {
    "execution": {
     "iopub.execute_input": "2025-06-08T13:42:23.682381Z",
     "iopub.status.busy": "2025-06-08T13:42:23.681841Z",
     "iopub.status.idle": "2025-06-08T13:42:23.686317Z",
     "shell.execute_reply": "2025-06-08T13:42:23.685359Z",
     "shell.execute_reply.started": "2025-06-08T13:42:23.682348Z"
    }
   },
   "outputs": [],
   "source": [
    "#2) get sector and industry\n",
    "# unique ids to not get blocked"
   ]
  },
  {
   "cell_type": "code",
   "execution_count": 57,
   "id": "89f64530-1d7c-4ae8-92fe-17d578206a82",
   "metadata": {
    "execution": {
     "iopub.execute_input": "2025-06-08T13:43:07.122430Z",
     "iopub.status.busy": "2025-06-08T13:43:07.121736Z",
     "iopub.status.idle": "2025-06-08T13:43:07.130684Z",
     "shell.execute_reply": "2025-06-08T13:43:07.129946Z",
     "shell.execute_reply.started": "2025-06-08T13:43:07.122380Z"
    }
   },
   "outputs": [
    {
     "data": {
      "text/plain": [
       "(632,)"
      ]
     },
     "execution_count": 57,
     "metadata": {},
     "output_type": "execute_result"
    }
   ],
   "source": [
    "unique_tickers = df['ticker'].unique()\n",
    "unique_tickers.shape"
   ]
  },
  {
   "cell_type": "code",
   "execution_count": 62,
   "id": "f4012430-24f6-4601-af77-467b66fcfe15",
   "metadata": {
    "execution": {
     "iopub.execute_input": "2025-06-08T13:46:49.298666Z",
     "iopub.status.busy": "2025-06-08T13:46:49.298138Z",
     "iopub.status.idle": "2025-06-08T13:46:49.305139Z",
     "shell.execute_reply": "2025-06-08T13:46:49.304246Z",
     "shell.execute_reply.started": "2025-06-08T13:46:49.298634Z"
    }
   },
   "outputs": [],
   "source": [
    "\"\"\"tickers = df['ticker'].unique()\n",
    "\n",
    "# Function to split list into batches\n",
    "def batch_list(lst, batch_size):\n",
    "    for i in range(0, len(lst), batch_size):\n",
    "        yield lst[i:i + batch_size]\n",
    "\n",
    "# Storage for metadata\n",
    "sector_industry_map = {}"
   ]
  },
  {
   "cell_type": "code",
   "execution_count": 65,
   "id": "ca511225-0077-4ca6-a2de-5dbf32d4adfc",
   "metadata": {
    "execution": {
     "iopub.execute_input": "2025-06-08T13:46:56.910402Z",
     "iopub.status.busy": "2025-06-08T13:46:56.909921Z",
     "iopub.status.idle": "2025-06-08T13:49:10.823645Z",
     "shell.execute_reply": "2025-06-08T13:49:10.822506Z",
     "shell.execute_reply.started": "2025-06-08T13:46:56.910370Z"
    }
   },
   "outputs": [
    {
     "name": "stdout",
     "output_type": "stream",
     "text": [
      "Processing batch: A to COST\n",
      "Processing batch: COTY to HRB\n",
      "Processing batch: HRL to NOC\n",
      "Processing batch: NOV to UDR\n",
      "Processing batch: UHS to FDS\n",
      "Processing batch: SEDG to KSU\n",
      "Failed to fetch HCP: HTTP Error 404: \n",
      "Processing batch: LLL to SBNY\n"
     ]
    }
   ],
   "source": [
    "for batch in batch_list(tickers, 100):  # adjust size if needed\n",
    "    print(f\"Processing batch: {batch[0]} to {batch[-1]}\")\n",
    "    for ticker in batch:\n",
    "        try:\n",
    "            info = yf.Ticker(ticker).info\n",
    "            sector_industry_map[ticker] = {\n",
    "                'sector': info.get('sector', None),\n",
    "                'industry': info.get('industry', None)\n",
    "            }\n",
    "        except Exception as e:\n",
    "            print(f\"Failed to fetch {ticker}: {e}\")\n",
    "            sector_industry_map[ticker] = {'sector': None, 'industry': None}\n",
    "        time.sleep(0.1)  # slight pause to be polite to Yahoo servers"
   ]
  },
  {
   "cell_type": "code",
   "execution_count": 69,
   "id": "ab86ea16-8a4c-4c1c-aec8-1e028b73c29a",
   "metadata": {
    "execution": {
     "iopub.execute_input": "2025-06-08T13:56:40.914439Z",
     "iopub.status.busy": "2025-06-08T13:56:40.913960Z",
     "iopub.status.idle": "2025-06-08T13:56:40.935050Z",
     "shell.execute_reply": "2025-06-08T13:56:40.934526Z",
     "shell.execute_reply.started": "2025-06-08T13:56:40.914405Z"
    }
   },
   "outputs": [
    {
     "data": {
      "text/html": [
       "<div>\n",
       "<style scoped>\n",
       "    .dataframe tbody tr th:only-of-type {\n",
       "        vertical-align: middle;\n",
       "    }\n",
       "\n",
       "    .dataframe tbody tr th {\n",
       "        vertical-align: top;\n",
       "    }\n",
       "\n",
       "    .dataframe thead th {\n",
       "        text-align: right;\n",
       "    }\n",
       "</style>\n",
       "<table border=\"1\" class=\"dataframe\">\n",
       "  <thead>\n",
       "    <tr style=\"text-align: right;\">\n",
       "      <th></th>\n",
       "      <th>quarter</th>\n",
       "      <th>ticker</th>\n",
       "      <th>cik</th>\n",
       "      <th>quarter_end</th>\n",
       "      <th>sector</th>\n",
       "      <th>industry</th>\n",
       "    </tr>\n",
       "  </thead>\n",
       "  <tbody>\n",
       "    <tr>\n",
       "      <th>0</th>\n",
       "      <td>Q1-19</td>\n",
       "      <td>A</td>\n",
       "      <td>1090872</td>\n",
       "      <td>2019-03-31</td>\n",
       "      <td>Healthcare</td>\n",
       "      <td>Diagnostics &amp; Research</td>\n",
       "    </tr>\n",
       "    <tr>\n",
       "      <th>1</th>\n",
       "      <td>Q1-19</td>\n",
       "      <td>AAL</td>\n",
       "      <td>6201</td>\n",
       "      <td>2019-03-31</td>\n",
       "      <td>Industrials</td>\n",
       "      <td>Airlines</td>\n",
       "    </tr>\n",
       "    <tr>\n",
       "      <th>2</th>\n",
       "      <td>Q1-19</td>\n",
       "      <td>AAP</td>\n",
       "      <td>1158449</td>\n",
       "      <td>2019-03-31</td>\n",
       "      <td>Consumer Cyclical</td>\n",
       "      <td>Auto Parts</td>\n",
       "    </tr>\n",
       "    <tr>\n",
       "      <th>3</th>\n",
       "      <td>Q1-19</td>\n",
       "      <td>AAPL</td>\n",
       "      <td>320193</td>\n",
       "      <td>2019-03-31</td>\n",
       "      <td>Technology</td>\n",
       "      <td>Consumer Electronics</td>\n",
       "    </tr>\n",
       "    <tr>\n",
       "      <th>4</th>\n",
       "      <td>Q1-19</td>\n",
       "      <td>ABBV</td>\n",
       "      <td>1551152</td>\n",
       "      <td>2019-03-31</td>\n",
       "      <td>Healthcare</td>\n",
       "      <td>Drug Manufacturers - General</td>\n",
       "    </tr>\n",
       "  </tbody>\n",
       "</table>\n",
       "</div>"
      ],
      "text/plain": [
       "  quarter ticker      cik quarter_end             sector  \\\n",
       "0   Q1-19      A  1090872  2019-03-31         Healthcare   \n",
       "1   Q1-19    AAL     6201  2019-03-31        Industrials   \n",
       "2   Q1-19    AAP  1158449  2019-03-31  Consumer Cyclical   \n",
       "3   Q1-19   AAPL   320193  2019-03-31         Technology   \n",
       "4   Q1-19   ABBV  1551152  2019-03-31         Healthcare   \n",
       "\n",
       "                       industry  \n",
       "0        Diagnostics & Research  \n",
       "1                      Airlines  \n",
       "2                    Auto Parts  \n",
       "3          Consumer Electronics  \n",
       "4  Drug Manufacturers - General  "
      ]
     },
     "execution_count": 69,
     "metadata": {},
     "output_type": "execute_result"
    }
   ],
   "source": [
    "#map back\n",
    "df['sector'] = df['ticker'].map(lambda t: sector_industry_map.get(t, {}).get('sector'))\n",
    "df['industry'] = df['ticker'].map(lambda t: sector_industry_map.get(t, {}).get('industry'))\n",
    "df.head()"
   ]
  },
  {
   "cell_type": "code",
   "execution_count": 111,
   "id": "3c50ef1b-e123-49b7-ab19-aa80c2410757",
   "metadata": {
    "execution": {
     "iopub.execute_input": "2025-06-08T14:10:17.234395Z",
     "iopub.status.busy": "2025-06-08T14:10:17.233831Z",
     "iopub.status.idle": "2025-06-08T14:10:17.245663Z",
     "shell.execute_reply": "2025-06-08T14:10:17.244846Z",
     "shell.execute_reply.started": "2025-06-08T14:10:17.234357Z"
    }
   },
   "outputs": [],
   "source": [
    "#saving just in case\n",
    "industry_df = pd.DataFrame.from_dict(sector_industry_map, orient='index')\n",
    "industry_df.reset_index(inplace=True)\n",
    "industry_df.columns = ['ticker', 'sector', 'industry']\n",
    "industry_df.to_csv('ticker_sector_industry.csv', index=False)"
   ]
  },
  {
   "cell_type": "code",
   "execution_count": 112,
   "id": "84d08d4d-0bbe-4fbb-8b8b-6a75171ee667",
   "metadata": {
    "execution": {
     "iopub.execute_input": "2025-06-08T14:10:17.430137Z",
     "iopub.status.busy": "2025-06-08T14:10:17.429658Z",
     "iopub.status.idle": "2025-06-08T14:10:17.438210Z",
     "shell.execute_reply": "2025-06-08T14:10:17.437584Z",
     "shell.execute_reply.started": "2025-06-08T14:10:17.430107Z"
    }
   },
   "outputs": [],
   "source": [
    "industry_df = pd.read_csv('ticker_sector_industry.csv')\n",
    "industry_df.replace('None', pd.NA, inplace=True)"
   ]
  },
  {
   "cell_type": "code",
   "execution_count": 113,
   "id": "464a0547-39ae-44c6-a4f4-6ed4cf11ee69",
   "metadata": {
    "execution": {
     "iopub.execute_input": "2025-06-08T14:10:17.599275Z",
     "iopub.status.busy": "2025-06-08T14:10:17.598781Z",
     "iopub.status.idle": "2025-06-08T14:10:17.605684Z",
     "shell.execute_reply": "2025-06-08T14:10:17.604703Z",
     "shell.execute_reply.started": "2025-06-08T14:10:17.599240Z"
    }
   },
   "outputs": [],
   "source": [
    "missing_industry = industry_df[industry_df['sector'].isna() | industry_df['industry'].isna()]"
   ]
  },
  {
   "cell_type": "code",
   "execution_count": 114,
   "id": "116d0451-3133-449d-a0d6-740375d72adc",
   "metadata": {
    "execution": {
     "iopub.execute_input": "2025-06-08T14:10:17.812456Z",
     "iopub.status.busy": "2025-06-08T14:10:17.811912Z",
     "iopub.status.idle": "2025-06-08T14:10:17.818543Z",
     "shell.execute_reply": "2025-06-08T14:10:17.817832Z",
     "shell.execute_reply.started": "2025-06-08T14:10:17.812417Z"
    }
   },
   "outputs": [
    {
     "data": {
      "text/plain": [
       "69"
      ]
     },
     "execution_count": 114,
     "metadata": {},
     "output_type": "execute_result"
    }
   ],
   "source": [
    "len(missing_industry)"
   ]
  },
  {
   "cell_type": "code",
   "execution_count": 115,
   "id": "2a7b6711-44d4-41d3-a9bc-e8be64e0ab8f",
   "metadata": {
    "execution": {
     "iopub.execute_input": "2025-06-08T14:10:18.134282Z",
     "iopub.status.busy": "2025-06-08T14:10:18.133797Z",
     "iopub.status.idle": "2025-06-08T14:10:18.138131Z",
     "shell.execute_reply": "2025-06-08T14:10:18.137161Z",
     "shell.execute_reply.started": "2025-06-08T14:10:18.134251Z"
    }
   },
   "outputs": [],
   "source": [
    "#trying wiki"
   ]
  },
  {
   "cell_type": "code",
   "execution_count": 119,
   "id": "00a1b42e-a0eb-4745-bb96-fd88aff27688",
   "metadata": {
    "execution": {
     "iopub.execute_input": "2025-06-08T14:10:45.797519Z",
     "iopub.status.busy": "2025-06-08T14:10:45.797012Z",
     "iopub.status.idle": "2025-06-08T14:10:45.815876Z",
     "shell.execute_reply": "2025-06-08T14:10:45.815241Z",
     "shell.execute_reply.started": "2025-06-08T14:10:45.797487Z"
    }
   },
   "outputs": [],
   "source": [
    "df_wiki = pd.read_csv(\"step_2_table.csv\")\n",
    "df_wiki = df_wiki[[\"ticker\", \"company_name\"]]\n",
    "df_wiki = df_wiki.drop_duplicates(subset=['ticker', 'company_name'])"
   ]
  },
  {
   "cell_type": "code",
   "execution_count": 120,
   "id": "a5e52c49-388c-4cf9-addd-116dd418476a",
   "metadata": {
    "execution": {
     "iopub.execute_input": "2025-06-08T14:10:46.362988Z",
     "iopub.status.busy": "2025-06-08T14:10:46.362121Z",
     "iopub.status.idle": "2025-06-08T14:10:46.370509Z",
     "shell.execute_reply": "2025-06-08T14:10:46.369379Z",
     "shell.execute_reply.started": "2025-06-08T14:10:46.362952Z"
    }
   },
   "outputs": [],
   "source": [
    "wiki_df = missing_industry.merge(df_wiki, on='ticker', how='left')"
   ]
  },
  {
   "cell_type": "code",
   "execution_count": null,
   "id": "a3632d72-0f7d-49dc-9ce1-acdf1d934f3a",
   "metadata": {},
   "outputs": [],
   "source": []
  },
  {
   "cell_type": "code",
   "execution_count": null,
   "id": "b1497a2e-2db7-4dfc-bda3-7775b9b1d855",
   "metadata": {},
   "outputs": [],
   "source": []
  },
  {
   "cell_type": "code",
   "execution_count": null,
   "id": "65d98436-0558-4af2-ba02-8c18246c5df8",
   "metadata": {},
   "outputs": [],
   "source": []
  },
  {
   "cell_type": "code",
   "execution_count": 123,
   "id": "27942e7f-a854-4401-a29c-07ee04565e88",
   "metadata": {
    "execution": {
     "iopub.execute_input": "2025-06-08T14:11:35.534123Z",
     "iopub.status.busy": "2025-06-08T14:11:35.533655Z",
     "iopub.status.idle": "2025-06-08T14:11:35.544837Z",
     "shell.execute_reply": "2025-06-08T14:11:35.544115Z",
     "shell.execute_reply.started": "2025-06-08T14:11:35.534092Z"
    }
   },
   "outputs": [],
   "source": [
    "import wikipedia\n",
    "\n",
    "def get_wikipedia_industry(name):\n",
    "    try:\n",
    "        # Search using company name\n",
    "        summary = wikipedia.summary(name, auto_suggest=False)\n",
    "        # Try to extract industry manually from summary (very naive)\n",
    "        for line in summary.split('.'):\n",
    "            if 'industry' in line.lower():\n",
    "                return line.strip()\n",
    "        return None\n",
    "    except Exception as e:\n",
    "        print(f\"Wiki lookup failed for {name}: {e}\")\n",
    "        return None"
   ]
  },
  {
   "cell_type": "code",
   "execution_count": null,
   "id": "4d905edc-1e9d-47a1-bc92-a9735127b5b9",
   "metadata": {},
   "outputs": [],
   "source": [
    "#3) get quarter end exact date for price"
   ]
  },
  {
   "cell_type": "code",
   "execution_count": 126,
   "id": "a3113c81-7401-4743-8b02-c6138c1423ac",
   "metadata": {
    "execution": {
     "iopub.execute_input": "2025-06-08T14:17:38.626940Z",
     "iopub.status.busy": "2025-06-08T14:17:38.626387Z",
     "iopub.status.idle": "2025-06-08T14:17:38.649011Z",
     "shell.execute_reply": "2025-06-08T14:17:38.648552Z",
     "shell.execute_reply.started": "2025-06-08T14:17:38.626904Z"
    }
   },
   "outputs": [
    {
     "data": {
      "text/html": [
       "<div>\n",
       "<style scoped>\n",
       "    .dataframe tbody tr th:only-of-type {\n",
       "        vertical-align: middle;\n",
       "    }\n",
       "\n",
       "    .dataframe tbody tr th {\n",
       "        vertical-align: top;\n",
       "    }\n",
       "\n",
       "    .dataframe thead th {\n",
       "        text-align: right;\n",
       "    }\n",
       "</style>\n",
       "<table border=\"1\" class=\"dataframe\">\n",
       "  <thead>\n",
       "    <tr style=\"text-align: right;\">\n",
       "      <th></th>\n",
       "      <th>quarter</th>\n",
       "      <th>ticker</th>\n",
       "      <th>cik</th>\n",
       "    </tr>\n",
       "  </thead>\n",
       "  <tbody>\n",
       "    <tr>\n",
       "      <th>0</th>\n",
       "      <td>Q1-19</td>\n",
       "      <td>A</td>\n",
       "      <td>1090872</td>\n",
       "    </tr>\n",
       "    <tr>\n",
       "      <th>1</th>\n",
       "      <td>Q1-19</td>\n",
       "      <td>AAL</td>\n",
       "      <td>6201</td>\n",
       "    </tr>\n",
       "    <tr>\n",
       "      <th>2</th>\n",
       "      <td>Q1-19</td>\n",
       "      <td>AAP</td>\n",
       "      <td>1158449</td>\n",
       "    </tr>\n",
       "    <tr>\n",
       "      <th>3</th>\n",
       "      <td>Q1-19</td>\n",
       "      <td>AAPL</td>\n",
       "      <td>320193</td>\n",
       "    </tr>\n",
       "    <tr>\n",
       "      <th>4</th>\n",
       "      <td>Q1-19</td>\n",
       "      <td>ABBV</td>\n",
       "      <td>1551152</td>\n",
       "    </tr>\n",
       "  </tbody>\n",
       "</table>\n",
       "</div>"
      ],
      "text/plain": [
       "  quarter ticker      cik\n",
       "0   Q1-19      A  1090872\n",
       "1   Q1-19    AAL     6201\n",
       "2   Q1-19    AAP  1158449\n",
       "3   Q1-19   AAPL   320193\n",
       "4   Q1-19   ABBV  1551152"
      ]
     },
     "execution_count": 126,
     "metadata": {},
     "output_type": "execute_result"
    }
   ],
   "source": [
    "df = pd.read_csv(\"step_2_table.csv\")\n",
    "df = df[[\"quarter\",\"ticker\",\"cik\"]]\n",
    "df.head()"
   ]
  },
  {
   "cell_type": "code",
   "execution_count": 127,
   "id": "e1813ae8-6844-44b9-bbbe-3ecce2790736",
   "metadata": {
    "execution": {
     "iopub.execute_input": "2025-06-08T14:17:51.790107Z",
     "iopub.status.busy": "2025-06-08T14:17:51.789605Z",
     "iopub.status.idle": "2025-06-08T14:17:51.796205Z",
     "shell.execute_reply": "2025-06-08T14:17:51.795318Z",
     "shell.execute_reply.started": "2025-06-08T14:17:51.790075Z"
    }
   },
   "outputs": [],
   "source": [
    "def get_quarter_end(quarter_str):\n",
    "    q, y = quarter_str.split('-')\n",
    "    year = int('20' + y)\n",
    "    quarter_end_dates = {\n",
    "        'Q1': datetime(year, 3, 31),\n",
    "        'Q2': datetime(year, 6, 30),\n",
    "        'Q3': datetime(year, 9, 30),\n",
    "        'Q4': datetime(year, 12, 31),\n",
    "    }\n",
    "    return quarter_end_dates[q]"
   ]
  },
  {
   "cell_type": "code",
   "execution_count": 128,
   "id": "c8601fd0-e764-415e-a5e4-6219f226cfb4",
   "metadata": {
    "execution": {
     "iopub.execute_input": "2025-06-08T14:17:52.172923Z",
     "iopub.status.busy": "2025-06-08T14:17:52.172112Z",
     "iopub.status.idle": "2025-06-08T14:17:52.179127Z",
     "shell.execute_reply": "2025-06-08T14:17:52.178223Z",
     "shell.execute_reply.started": "2025-06-08T14:17:52.172890Z"
    }
   },
   "outputs": [
    {
     "data": {
      "text/plain": [
       "datetime.datetime(2019, 3, 31, 0, 0)"
      ]
     },
     "execution_count": 128,
     "metadata": {},
     "output_type": "execute_result"
    }
   ],
   "source": [
    "get_quarter_end(\"Q1-19\")"
   ]
  },
  {
   "cell_type": "code",
   "execution_count": 129,
   "id": "260c4fc7-6194-402d-850f-2de58af196eb",
   "metadata": {
    "execution": {
     "iopub.execute_input": "2025-06-08T14:17:53.349649Z",
     "iopub.status.busy": "2025-06-08T14:17:53.348798Z",
     "iopub.status.idle": "2025-06-08T14:17:53.382222Z",
     "shell.execute_reply": "2025-06-08T14:17:53.381791Z",
     "shell.execute_reply.started": "2025-06-08T14:17:53.349614Z"
    }
   },
   "outputs": [],
   "source": [
    "df['quarter_end'] = df['quarter'].apply(get_quarter_end)"
   ]
  },
  {
   "cell_type": "code",
   "execution_count": 130,
   "id": "1b5967ee-6d01-45a3-9f57-cc406b1d0df3",
   "metadata": {
    "execution": {
     "iopub.execute_input": "2025-06-08T14:17:54.289057Z",
     "iopub.status.busy": "2025-06-08T14:17:54.288231Z",
     "iopub.status.idle": "2025-06-08T14:17:54.295151Z",
     "shell.execute_reply": "2025-06-08T14:17:54.294520Z",
     "shell.execute_reply.started": "2025-06-08T14:17:54.289022Z"
    }
   },
   "outputs": [
    {
     "data": {
      "text/plain": [
       "(11596, 4)"
      ]
     },
     "execution_count": 130,
     "metadata": {},
     "output_type": "execute_result"
    }
   ],
   "source": [
    "df.shape"
   ]
  },
  {
   "cell_type": "code",
   "execution_count": 136,
   "id": "ab765560-4d88-4cf3-84bc-d5a0af8fc0b7",
   "metadata": {
    "execution": {
     "iopub.execute_input": "2025-06-08T14:30:05.961803Z",
     "iopub.status.busy": "2025-06-08T14:30:05.961435Z",
     "iopub.status.idle": "2025-06-08T14:30:05.970171Z",
     "shell.execute_reply": "2025-06-08T14:30:05.969132Z",
     "shell.execute_reply.started": "2025-06-08T14:30:05.961776Z"
    }
   },
   "outputs": [
    {
     "data": {
      "text/html": [
       "<div>\n",
       "<style scoped>\n",
       "    .dataframe tbody tr th:only-of-type {\n",
       "        vertical-align: middle;\n",
       "    }\n",
       "\n",
       "    .dataframe tbody tr th {\n",
       "        vertical-align: top;\n",
       "    }\n",
       "\n",
       "    .dataframe thead th {\n",
       "        text-align: right;\n",
       "    }\n",
       "</style>\n",
       "<table border=\"1\" class=\"dataframe\">\n",
       "  <thead>\n",
       "    <tr style=\"text-align: right;\">\n",
       "      <th></th>\n",
       "      <th>quarter</th>\n",
       "      <th>ticker</th>\n",
       "      <th>cik</th>\n",
       "      <th>quarter_end</th>\n",
       "    </tr>\n",
       "  </thead>\n",
       "  <tbody>\n",
       "    <tr>\n",
       "      <th>0</th>\n",
       "      <td>Q1-19</td>\n",
       "      <td>A</td>\n",
       "      <td>1090872</td>\n",
       "      <td>2019-03-31</td>\n",
       "    </tr>\n",
       "    <tr>\n",
       "      <th>1</th>\n",
       "      <td>Q1-19</td>\n",
       "      <td>AAL</td>\n",
       "      <td>6201</td>\n",
       "      <td>2019-03-31</td>\n",
       "    </tr>\n",
       "    <tr>\n",
       "      <th>2</th>\n",
       "      <td>Q1-19</td>\n",
       "      <td>AAP</td>\n",
       "      <td>1158449</td>\n",
       "      <td>2019-03-31</td>\n",
       "    </tr>\n",
       "    <tr>\n",
       "      <th>3</th>\n",
       "      <td>Q1-19</td>\n",
       "      <td>AAPL</td>\n",
       "      <td>320193</td>\n",
       "      <td>2019-03-31</td>\n",
       "    </tr>\n",
       "    <tr>\n",
       "      <th>4</th>\n",
       "      <td>Q1-19</td>\n",
       "      <td>ABBV</td>\n",
       "      <td>1551152</td>\n",
       "      <td>2019-03-31</td>\n",
       "    </tr>\n",
       "    <tr>\n",
       "      <th>...</th>\n",
       "      <td>...</td>\n",
       "      <td>...</td>\n",
       "      <td>...</td>\n",
       "      <td>...</td>\n",
       "    </tr>\n",
       "    <tr>\n",
       "      <th>11591</th>\n",
       "      <td>Q2-24</td>\n",
       "      <td>CTLT</td>\n",
       "      <td>1596783</td>\n",
       "      <td>2024-06-30</td>\n",
       "    </tr>\n",
       "    <tr>\n",
       "      <th>11592</th>\n",
       "      <td>Q2-24</td>\n",
       "      <td>MRO</td>\n",
       "      <td>101778</td>\n",
       "      <td>2024-06-30</td>\n",
       "    </tr>\n",
       "    <tr>\n",
       "      <th>11593</th>\n",
       "      <td>Q2-24</td>\n",
       "      <td>WRK</td>\n",
       "      <td>1732845</td>\n",
       "      <td>2024-06-30</td>\n",
       "    </tr>\n",
       "    <tr>\n",
       "      <th>11594</th>\n",
       "      <td>Q3-24</td>\n",
       "      <td>CTLT</td>\n",
       "      <td>1596783</td>\n",
       "      <td>2024-09-30</td>\n",
       "    </tr>\n",
       "    <tr>\n",
       "      <th>11595</th>\n",
       "      <td>Q3-24</td>\n",
       "      <td>MRO</td>\n",
       "      <td>101778</td>\n",
       "      <td>2024-09-30</td>\n",
       "    </tr>\n",
       "  </tbody>\n",
       "</table>\n",
       "<p>11596 rows × 4 columns</p>\n",
       "</div>"
      ],
      "text/plain": [
       "      quarter ticker      cik quarter_end\n",
       "0       Q1-19      A  1090872  2019-03-31\n",
       "1       Q1-19    AAL     6201  2019-03-31\n",
       "2       Q1-19    AAP  1158449  2019-03-31\n",
       "3       Q1-19   AAPL   320193  2019-03-31\n",
       "4       Q1-19   ABBV  1551152  2019-03-31\n",
       "...       ...    ...      ...         ...\n",
       "11591   Q2-24   CTLT  1596783  2024-06-30\n",
       "11592   Q2-24    MRO   101778  2024-06-30\n",
       "11593   Q2-24    WRK  1732845  2024-06-30\n",
       "11594   Q3-24   CTLT  1596783  2024-09-30\n",
       "11595   Q3-24    MRO   101778  2024-09-30\n",
       "\n",
       "[11596 rows x 4 columns]"
      ]
     },
     "execution_count": 136,
     "metadata": {},
     "output_type": "execute_result"
    }
   ],
   "source": [
    "df"
   ]
  },
  {
   "cell_type": "code",
   "execution_count": 140,
   "id": "e90c4f5e-d14b-4361-a905-b61f294b8a43",
   "metadata": {
    "execution": {
     "iopub.execute_input": "2025-06-08T14:30:34.230505Z",
     "iopub.status.busy": "2025-06-08T14:30:34.230195Z",
     "iopub.status.idle": "2025-06-08T14:30:34.233422Z",
     "shell.execute_reply": "2025-06-08T14:30:34.232832Z",
     "shell.execute_reply.started": "2025-06-08T14:30:34.230482Z"
    }
   },
   "outputs": [],
   "source": [
    "master_filename = \"quarterly_prices_all.csv\""
   ]
  },
  {
   "cell_type": "code",
   "execution_count": 141,
   "id": "b6845bbc-7170-479f-87ee-fb01f7029049",
   "metadata": {
    "execution": {
     "iopub.execute_input": "2025-06-08T14:30:34.598462Z",
     "iopub.status.busy": "2025-06-08T14:30:34.597959Z",
     "iopub.status.idle": "2025-06-08T14:30:34.604626Z",
     "shell.execute_reply": "2025-06-08T14:30:34.603426Z",
     "shell.execute_reply.started": "2025-06-08T14:30:34.598429Z"
    }
   },
   "outputs": [],
   "source": [
    "# Load existing results if continuing from previous run\n",
    "if os.path.exists(master_filename):\n",
    "    all_results = pd.read_csv(master_filename, parse_dates=['quarter_end'])\n",
    "    completed_quarters = set(all_results['quarter'].unique())\n",
    "    print(f\"📄 Loaded existing results for {len(completed_quarters)} quarters.\")\n",
    "else:\n",
    "    all_results = pd.DataFrame()\n",
    "    completed_quarters = set()"
   ]
  },
  {
   "cell_type": "code",
   "execution_count": 142,
   "id": "f2a81a62-9c84-4086-ab37-873b5cca3f22",
   "metadata": {
    "execution": {
     "iopub.execute_input": "2025-06-08T14:31:53.487101Z",
     "iopub.status.busy": "2025-06-08T14:31:53.486601Z",
     "iopub.status.idle": "2025-06-08T14:39:12.181792Z",
     "shell.execute_reply": "2025-06-08T14:39:12.181576Z",
     "shell.execute_reply.started": "2025-06-08T14:31:53.487068Z"
    }
   },
   "outputs": [
    {
     "name": "stdout",
     "output_type": "stream",
     "text": [
      "\n",
      "🔄 Fetching 505 tickers for Q1-19 (ending 2019-03-31)\n"
     ]
    },
    {
     "name": "stderr",
     "output_type": "stream",
     "text": [
      "\n",
      "66 Failed downloads:\n",
      "['NBL', 'CELG', 'FISV', 'CXO', 'DISCK', 'UTX', 'ABMD', 'BLL', 'ETFC', 'FBHS', 'WLTW', 'WRK', 'FLT', 'WCG', 'ATVI', 'RTN', 'FRC', 'AGN', 'PBCT', 'BHGE', 'XLNX', 'VIAB', 'BBT', 'ANTM', 'DISH', 'TSS', 'RE', 'COG', 'HRS', 'CTXS', 'VAR', 'DWDP', 'GPS', 'MXIM', 'APC', 'JEC', 'TWTR', 'ALXN', 'ADS', 'CERN', 'FB', 'MRO', 'ABC', 'ARNC', 'SIVB', 'TMK', 'TIF', 'FLIR', 'HCP', 'HFC', 'DRE', 'CBS', 'KSU', 'PKI', 'SYMC', 'CTL', 'MYL', 'NLSN', 'DISCA', 'LLL', 'XEC', 'RHT', 'PXD']: YFTzMissingError('possibly delisted; no timezone found')\n",
      "['INFO', 'STI', 'LB']: YFPricesMissingError('possibly delisted; no price data found  (1d 2019-03-24 00:00:00 -> 2019-04-01 00:00:00) (Yahoo error = \"Data doesn\\'t exist for startDate = 1553400000, endDate = 1554091200\")')\n"
     ]
    },
    {
     "name": "stdout",
     "output_type": "stream",
     "text": [
      "💾 Appended 505 results to quarterly_prices_all.csv\n",
      "\n",
      "🔄 Fetching 505 tickers for Q1-20 (ending 2020-03-31)\n"
     ]
    },
    {
     "name": "stderr",
     "output_type": "stream",
     "text": [
      "\n",
      "51 Failed downloads:\n",
      "['NBL', 'FISV', 'UTX', 'DISCK', 'CXO', 'BLL', 'ETFC', 'FLT', 'FBHS', 'WLTW', 'WRK', 'ATVI', 'AGN', 'RTN', 'FRC', 'ABMD', 'PBCT', 'XLNX', 'ANTM', 'DISH', 'RE', 'CTXS', 'VAR', 'COG', 'MXIM', 'TWTR', 'ALXN', 'ADS', 'GPS', 'CERN', 'MRO', 'FB', 'ARNC', 'SIVB', 'TIF', 'ABC', 'FLIR', 'PEAK', 'MYL', 'HFC', 'DRE', 'KSU', 'PKI', 'NLSN', 'NLOK', 'CTL', 'DISCA', 'VIAC', 'PXD']: YFTzMissingError('possibly delisted; no timezone found')\n",
      "['INFO', 'LB']: YFPricesMissingError('possibly delisted; no price data found  (1d 2020-03-24 00:00:00 -> 2020-04-01 00:00:00) (Yahoo error = \"Data doesn\\'t exist for startDate = 1585022400, endDate = 1585713600\")')\n"
     ]
    },
    {
     "name": "stdout",
     "output_type": "stream",
     "text": [
      "💾 Appended 505 results to quarterly_prices_all.csv\n",
      "\n",
      "🔄 Fetching 505 tickers for Q1-21 (ending 2021-03-31)\n"
     ]
    },
    {
     "name": "stderr",
     "output_type": "stream",
     "text": [
      "\n",
      "41 Failed downloads:\n",
      "['FISV', 'DISCK', 'ABMD', 'BLL', 'FBHS', 'WRK', 'FLT', 'WLTW', 'ATVI', 'FRC', 'PBCT', 'XLNX', 'ANTM', 'DISH', 'RE', 'COG', 'CTXS', 'VAR', 'GPS', 'MXIM', 'ALXN', 'CERN', 'MRO', 'TWTR', 'ABC', 'FB', 'SIVB', 'FLIR', 'PEAK', 'HFC', 'DRE', 'KSU', 'PKI', 'NLSN', 'NLOK', 'CTLT', 'VIAC', 'PXD', 'DISCA']: YFTzMissingError('possibly delisted; no timezone found')\n",
      "['INFO', 'LB']: YFPricesMissingError('possibly delisted; no price data found  (1d 2021-03-24 00:00:00 -> 2021-04-01 00:00:00) (Yahoo error = \"Data doesn\\'t exist for startDate = 1616558400, endDate = 1617249600\")')\n"
     ]
    },
    {
     "name": "stdout",
     "output_type": "stream",
     "text": [
      "💾 Appended 505 results to quarterly_prices_all.csv\n",
      "\n",
      "🔄 Fetching 505 tickers for Q1-22 (ending 2022-03-31)\n"
     ]
    },
    {
     "name": "stderr",
     "output_type": "stream",
     "text": [
      "\n",
      "30 Failed downloads:\n",
      "['FISV', 'DISCK', 'ABMD', 'BLL', 'FBHS', 'FLT', 'WRK', 'ATVI', 'FRC', 'PBCT', 'ANTM', 'DISH', 'RE', 'CTXS', 'TWTR', 'MRO', 'CERN', 'FB', 'ABC', 'SIVB', 'PEAK', 'DRE', 'CDAY', 'PKI', 'NLOK', 'NLSN', 'DISCA', 'CTLT', 'PXD']: YFTzMissingError('possibly delisted; no timezone found')\n",
      "['SBNY']: YFPricesMissingError('possibly delisted; no price data found  (1d 2022-03-24 00:00:00 -> 2022-04-01 00:00:00) (Yahoo error = \"Data doesn\\'t exist for startDate = 1648094400, endDate = 1648785600\")')\n"
     ]
    },
    {
     "name": "stdout",
     "output_type": "stream",
     "text": [
      "💾 Appended 505 results to quarterly_prices_all.csv\n",
      "\n",
      "🔄 Fetching 503 tickers for Q1-23 (ending 2023-03-31)\n"
     ]
    },
    {
     "name": "stderr",
     "output_type": "stream",
     "text": [
      "\n",
      "14 Failed downloads:\n",
      "['FISV', 'FLT', 'WRK', 'ATVI', 'DISH', 'RE', 'FRC', 'MRO', 'ABC', 'PEAK', 'CDAY', 'PKI', 'CTLT', 'PXD']: YFTzMissingError('possibly delisted; no timezone found')\n"
     ]
    },
    {
     "name": "stdout",
     "output_type": "stream",
     "text": [
      "💾 Appended 503 results to quarterly_prices_all.csv\n",
      "\n",
      "🔄 Fetching 503 tickers for Q1-24 (ending 2024-03-31)\n"
     ]
    },
    {
     "name": "stderr",
     "output_type": "stream",
     "text": [
      "\n",
      "4 Failed downloads:\n",
      "['WRK', 'MRO', 'CTLT', 'PXD']: YFTzMissingError('possibly delisted; no timezone found')\n"
     ]
    },
    {
     "name": "stdout",
     "output_type": "stream",
     "text": [
      "💾 Appended 503 results to quarterly_prices_all.csv\n",
      "\n",
      "🔄 Fetching 505 tickers for Q2-19 (ending 2019-06-30)\n"
     ]
    },
    {
     "name": "stderr",
     "output_type": "stream",
     "text": [
      "\n",
      "64 Failed downloads:\n",
      "['NBL', 'CELG', 'FISV', 'CXO', 'DISCK', 'UTX', 'ABMD', 'BLL', 'ETFC', 'FLT', 'WLTW', 'WRK', 'FBHS', 'WCG', 'ATVI', 'FRC', 'RTN', 'PBCT', 'BHGE', 'VIAB', 'XLNX', 'BBT', 'ANTM', 'DISH', 'RE', 'TSS', 'COG', 'CTXS', 'AGN', 'GPS', 'MXIM', 'APC', 'JEC', 'TWTR', 'ALXN', 'ADS', 'MRO', 'CERN', 'FB', 'ABC', 'ARNC', 'TMK', 'SIVB', 'VAR', 'TIF', 'FLIR', 'HCP', 'MYL', 'HFC', 'DRE', 'CBS', 'KSU', 'PKI', 'SYMC', 'NLSN', 'CTL', 'DISCA', 'XEC', 'LLL', 'RHT', 'PXD']: YFTzMissingError('possibly delisted; no timezone found')\n",
      "['INFO', 'STI', 'LB']: YFPricesMissingError('possibly delisted; no price data found  (1d 2019-06-23 00:00:00 -> 2019-07-01 00:00:00) (Yahoo error = \"Data doesn\\'t exist for startDate = 1561262400, endDate = 1561953600\")')\n"
     ]
    },
    {
     "name": "stdout",
     "output_type": "stream",
     "text": [
      "💾 Appended 505 results to quarterly_prices_all.csv\n",
      "\n",
      "🔄 Fetching 505 tickers for Q2-20 (ending 2020-06-30)\n"
     ]
    },
    {
     "name": "stderr",
     "output_type": "stream",
     "text": [
      "\n",
      "46 Failed downloads:\n",
      "['FISV', 'CXO', 'DISCK', 'ABMD', 'BLL', 'FBHS', 'ETFC', 'NBL', 'WLTW', 'FLT', 'WRK', 'ATVI', 'FRC', 'PBCT', 'XLNX', 'ANTM', 'DISH', 'RE', 'COG', 'VAR', 'CTXS', 'GPS', 'MXIM', 'TWTR', 'ALXN', 'CERN', 'MRO', 'FB', 'ABC', 'SIVB', 'TIF', 'FLIR', 'MYL', 'PEAK', 'HFC', 'DRE', 'KSU', 'PKI', 'NLOK', 'NLSN', 'CTL', 'DISCA', 'PXD', 'VIAC']: YFTzMissingError('possibly delisted; no timezone found')\n",
      "['INFO', 'LB']: YFPricesMissingError('possibly delisted; no price data found  (1d 2020-06-23 00:00:00 -> 2020-07-01 00:00:00) (Yahoo error = \"Data doesn\\'t exist for startDate = 1592884800, endDate = 1593576000\")')\n"
     ]
    },
    {
     "name": "stdout",
     "output_type": "stream",
     "text": [
      "💾 Appended 505 results to quarterly_prices_all.csv\n",
      "\n",
      "🔄 Fetching 505 tickers for Q2-21 (ending 2021-06-30)\n"
     ]
    },
    {
     "name": "stderr",
     "output_type": "stream",
     "text": [
      "\n",
      "38 Failed downloads:\n",
      "['FISV', 'DISCK', 'BLL', 'ABMD', 'FLT', 'FBHS', 'WRK', 'WLTW', 'ATVI', 'FRC', 'PBCT', 'XLNX', 'ANTM', 'DISH', 'RE', 'COG', 'CTXS', 'GPS', 'TWTR', 'ALXN', 'CERN', 'MRO', 'MXIM', 'FB', 'ABC', 'SIVB', 'PEAK', 'DRE', 'KSU', 'PKI', 'NLOK', 'NLSN', 'DISCA', 'CTLT', 'VIAC', 'PXD']: YFTzMissingError('possibly delisted; no timezone found')\n",
      "['INFO', 'LB']: YFPricesMissingError('possibly delisted; no price data found  (1d 2021-06-23 00:00:00 -> 2021-07-01 00:00:00) (Yahoo error = \"Data doesn\\'t exist for startDate = 1624420800, endDate = 1625112000\")')\n"
     ]
    },
    {
     "name": "stdout",
     "output_type": "stream",
     "text": [
      "💾 Appended 505 results to quarterly_prices_all.csv\n",
      "\n",
      "🔄 Fetching 503 tickers for Q2-22 (ending 2022-06-30)\n"
     ]
    },
    {
     "name": "stderr",
     "output_type": "stream",
     "text": [
      "\n",
      "23 Failed downloads:\n",
      "['FISV', 'ABMD', 'FLT', 'FBHS', 'WRK', 'ATVI', 'FRC', 'DISH', 'CTXS', 'TWTR', 'RE', 'MRO', 'ABC', 'SIVB', 'PEAK', 'DRE', 'PKI', 'CDAY', 'NLOK', 'NLSN', 'CTLT', 'PXD']: YFTzMissingError('possibly delisted; no timezone found')\n",
      "['SBNY']: YFPricesMissingError('possibly delisted; no price data found  (1d 2022-06-23 00:00:00 -> 2022-07-01 00:00:00) (Yahoo error = \"Data doesn\\'t exist for startDate = 1655956800, endDate = 1656648000\")')\n"
     ]
    },
    {
     "name": "stdout",
     "output_type": "stream",
     "text": [
      "💾 Appended 503 results to quarterly_prices_all.csv\n",
      "\n",
      "🔄 Fetching 503 tickers for Q2-23 (ending 2023-06-30)\n"
     ]
    },
    {
     "name": "stderr",
     "output_type": "stream",
     "text": [
      "\n",
      "9 Failed downloads:\n",
      "['FLT', 'WRK', 'ATVI', 'MRO', 'ABC', 'PEAK', 'CDAY', 'CTLT', 'PXD']: YFTzMissingError('possibly delisted; no timezone found')\n"
     ]
    },
    {
     "name": "stdout",
     "output_type": "stream",
     "text": [
      "💾 Appended 503 results to quarterly_prices_all.csv\n",
      "\n",
      "🔄 Fetching 503 tickers for Q2-24 (ending 2024-06-30)\n"
     ]
    },
    {
     "name": "stderr",
     "output_type": "stream",
     "text": [
      "\n",
      "3 Failed downloads:\n",
      "['WRK', 'MRO', 'CTLT']: YFTzMissingError('possibly delisted; no timezone found')\n"
     ]
    },
    {
     "name": "stdout",
     "output_type": "stream",
     "text": [
      "💾 Appended 503 results to quarterly_prices_all.csv\n",
      "\n",
      "🔄 Fetching 505 tickers for Q3-19 (ending 2019-09-30)\n"
     ]
    },
    {
     "name": "stderr",
     "output_type": "stream",
     "text": [
      "\n",
      "59 Failed downloads:\n",
      "['NBL', 'CELG', 'FISV', 'DISCK', 'UTX', 'ABMD', 'BLL', 'ETFC', 'FLT', 'FBHS', 'WCG', 'WRK', 'WLTW', 'ATVI', 'FRC', 'RTN', 'AGN', 'PBCT', 'BHGE', 'XLNX', 'VIAB', 'BBT', 'ANTM', 'DISH', 'CXO', 'RE', 'COG', 'VAR', 'CTXS', 'GPS', 'MXIM', 'JEC', 'TWTR', 'ALXN', 'ADS', 'CERN', 'MRO', 'FB', 'ABC', 'ARNC', 'SIVB', 'TIF', 'FLIR', 'HCP', 'MYL', 'DRE', 'CBS', 'KSU', 'CTL', 'SYMC', 'NLSN', 'XEC', 'DISCA', 'HFC', 'PXD', 'PKI']: YFTzMissingError('possibly delisted; no timezone found')\n",
      "['INFO', 'STI', 'LB']: YFPricesMissingError('possibly delisted; no price data found  (1d 2019-09-23 00:00:00 -> 2019-10-01 00:00:00) (Yahoo error = \"Data doesn\\'t exist for startDate = 1569211200, endDate = 1569902400\")')\n"
     ]
    },
    {
     "name": "stdout",
     "output_type": "stream",
     "text": [
      "💾 Appended 505 results to quarterly_prices_all.csv\n",
      "\n",
      "🔄 Fetching 505 tickers for Q3-20 (ending 2020-09-30)\n"
     ]
    },
    {
     "name": "stderr",
     "output_type": "stream",
     "text": [
      "\n",
      "46 Failed downloads:\n",
      "['NBL', 'FISV', 'CXO', 'DISCK', 'ABMD', 'BLL', 'ETFC', 'FBHS', 'FLT', 'WRK', 'WLTW', 'FRC', 'ATVI', 'PBCT', 'XLNX', 'ANTM', 'DISH', 'RE', 'COG', 'CTXS', 'VAR', 'GPS', 'MXIM', 'TWTR', 'ALXN', 'MRO', 'CERN', 'ABC', 'SIVB', 'TIF', 'FB', 'FLIR', 'PEAK', 'MYL', 'HFC', 'DRE', 'KSU', 'NLOK', 'PKI', 'NLSN', 'DISCA', 'CTLT', 'VIAC', 'PXD']: YFTzMissingError('possibly delisted; no timezone found')\n",
      "['INFO', 'LB']: YFPricesMissingError('possibly delisted; no price data found  (1d 2020-09-23 00:00:00 -> 2020-10-01 00:00:00) (Yahoo error = \"Data doesn\\'t exist for startDate = 1600833600, endDate = 1601524800\")')\n"
     ]
    },
    {
     "name": "stdout",
     "output_type": "stream",
     "text": [
      "💾 Appended 505 results to quarterly_prices_all.csv\n",
      "\n",
      "🔄 Fetching 505 tickers for Q3-21 (ending 2021-09-30)\n"
     ]
    },
    {
     "name": "stderr",
     "output_type": "stream",
     "text": [
      "\n",
      "36 Failed downloads:\n",
      "['FISV', 'DISCK', 'ABMD', 'BLL', 'FBHS', 'FLT', 'WLTW', 'WRK', 'ATVI', 'FRC', 'PBCT', 'XLNX', 'ANTM', 'DISH', 'RE', 'COG', 'CTXS', 'GPS', 'TWTR', 'CERN', 'MRO', 'FB', 'ABC', 'SIVB', 'PEAK', 'DRE', 'KSU', 'CDAY', 'PKI', 'NLOK', 'NLSN', 'DISCA', 'CTLT', 'VIAC', 'PXD']: YFTzMissingError('possibly delisted; no timezone found')\n",
      "['INFO']: YFPricesMissingError('possibly delisted; no price data found  (1d 2021-09-23 00:00:00 -> 2021-10-01 00:00:00) (Yahoo error = \"Data doesn\\'t exist for startDate = 1632369600, endDate = 1633060800\")')\n"
     ]
    },
    {
     "name": "stdout",
     "output_type": "stream",
     "text": [
      "💾 Appended 505 results to quarterly_prices_all.csv\n",
      "\n",
      "🔄 Fetching 503 tickers for Q3-22 (ending 2022-09-30)\n"
     ]
    },
    {
     "name": "stderr",
     "output_type": "stream",
     "text": [
      "\n",
      "23 Failed downloads:\n",
      "['FISV', 'ABMD', 'FBHS', 'WRK', 'FLT', 'ATVI', 'FRC', 'DISH', 'CTXS', 'RE', 'TWTR', 'MRO', 'ABC', 'SIVB', 'PEAK', 'DRE', 'PKI', 'CDAY', 'NLOK', 'NLSN', 'CTLT', 'PXD']: YFTzMissingError('possibly delisted; no timezone found')\n",
      "['SBNY']: YFPricesMissingError('possibly delisted; no price data found  (1d 2022-09-23 00:00:00 -> 2022-10-01 00:00:00) (Yahoo error = \"Data doesn\\'t exist for startDate = 1663905600, endDate = 1664596800\")')\n"
     ]
    },
    {
     "name": "stdout",
     "output_type": "stream",
     "text": [
      "💾 Appended 503 results to quarterly_prices_all.csv\n",
      "\n",
      "🔄 Fetching 503 tickers for Q3-23 (ending 2023-09-30)\n"
     ]
    },
    {
     "name": "stderr",
     "output_type": "stream",
     "text": [
      "\n",
      "8 Failed downloads:\n",
      "['FLT', 'WRK', 'ATVI', 'MRO', 'PEAK', 'CDAY', 'CTLT', 'PXD']: YFTzMissingError('possibly delisted; no timezone found')\n"
     ]
    },
    {
     "name": "stdout",
     "output_type": "stream",
     "text": [
      "💾 Appended 503 results to quarterly_prices_all.csv\n",
      "\n",
      "🔄 Fetching 504 tickers for Q3-24 (ending 2024-09-30)\n"
     ]
    },
    {
     "name": "stderr",
     "output_type": "stream",
     "text": [
      "\n",
      "2 Failed downloads:\n",
      "['MRO', 'CTLT']: YFTzMissingError('possibly delisted; no timezone found')\n"
     ]
    },
    {
     "name": "stdout",
     "output_type": "stream",
     "text": [
      "💾 Appended 504 results to quarterly_prices_all.csv\n",
      "\n",
      "🔄 Fetching 505 tickers for Q4-19 (ending 2019-12-31)\n"
     ]
    },
    {
     "name": "stderr",
     "output_type": "stream",
     "text": [
      "\n",
      "53 Failed downloads:\n",
      "['NBL', 'UTX', 'FISV', 'CXO', 'BLL', 'FBHS', 'WLTW', 'FLT', 'ETFC', 'WRK', 'WCG', 'ATVI', 'FRC', 'AGN', 'RTN', 'DISCK', 'PBCT', 'XLNX', 'ANTM', 'DISH', 'ABMD', 'RE', 'COG', 'CTXS', 'VAR', 'GPS', 'MXIM', 'TWTR', 'ALXN', 'ADS', 'MRO', 'CERN', 'FB', 'ABC', 'ARNC', 'SIVB', 'TIF', 'FLIR', 'PEAK', 'MYL', 'HFC', 'DRE', 'KSU', 'PKI', 'NLOK', 'NLSN', 'CTL', 'XEC', 'DISCA', 'VIAC', 'PXD']: YFTzMissingError('possibly delisted; no timezone found')\n",
      "['INFO', 'LB']: YFPricesMissingError('possibly delisted; no price data found  (1d 2019-12-24 00:00:00 -> 2020-01-01 00:00:00) (Yahoo error = \"Data doesn\\'t exist for startDate = 1577163600, endDate = 1577854800\")')\n"
     ]
    },
    {
     "name": "stdout",
     "output_type": "stream",
     "text": [
      "💾 Appended 505 results to quarterly_prices_all.csv\n",
      "\n",
      "🔄 Fetching 505 tickers for Q4-20 (ending 2020-12-31)\n"
     ]
    },
    {
     "name": "stderr",
     "output_type": "stream",
     "text": [
      "\n",
      "43 Failed downloads:\n",
      "['FISV', 'CXO', 'DISCK', 'BLL', 'ABMD', 'FBHS', 'FLT', 'WRK', 'WLTW', 'ATVI', 'FRC', 'PBCT', 'XLNX', 'ANTM', 'DISH', 'RE', 'COG', 'CTXS', 'VAR', 'GPS', 'MXIM', 'TWTR', 'ALXN', 'MRO', 'FB', 'ABC', 'SIVB', 'TIF', 'FLIR', 'PEAK', 'HFC', 'DRE', 'KSU', 'PKI', 'NLSN', 'DISCA', 'CTLT', 'VIAC', 'PXD', 'CERN', 'NLOK']: YFTzMissingError('possibly delisted; no timezone found')\n",
      "['INFO', 'LB']: YFPricesMissingError('possibly delisted; no price data found  (1d 2020-12-24 00:00:00 -> 2021-01-01 00:00:00) (Yahoo error = \"Data doesn\\'t exist for startDate = 1608786000, endDate = 1609477200\")')\n"
     ]
    },
    {
     "name": "stdout",
     "output_type": "stream",
     "text": [
      "💾 Appended 505 results to quarterly_prices_all.csv\n",
      "\n",
      "🔄 Fetching 505 tickers for Q4-21 (ending 2021-12-31)\n"
     ]
    },
    {
     "name": "stderr",
     "output_type": "stream",
     "text": [
      "\n",
      "35 Failed downloads:\n",
      "['FISV', 'DISCK', 'ABMD', 'BLL', 'WLTW', 'FBHS', 'FLT', 'WRK', 'ATVI', 'FRC', 'ANTM', 'DISH', 'RE', 'CTXS', 'GPS', 'PBCT', 'XLNX', 'TWTR', 'CERN', 'MRO', 'FB', 'ABC', 'SIVB', 'PEAK', 'DRE', 'CDAY', 'NLOK', 'PKI', 'NLSN', 'DISCA', 'CTLT', 'VIAC', 'PXD']: YFTzMissingError('possibly delisted; no timezone found')\n",
      "['SBNY', 'INFO']: YFPricesMissingError('possibly delisted; no price data found  (1d 2021-12-24 00:00:00 -> 2022-01-01 00:00:00) (Yahoo error = \"Data doesn\\'t exist for startDate = 1640322000, endDate = 1641013200\")')\n"
     ]
    },
    {
     "name": "stdout",
     "output_type": "stream",
     "text": [
      "💾 Appended 505 results to quarterly_prices_all.csv\n",
      "\n",
      "🔄 Fetching 503 tickers for Q4-22 (ending 2022-12-31)\n"
     ]
    },
    {
     "name": "stderr",
     "output_type": "stream",
     "text": [
      "\n",
      "16 Failed downloads:\n",
      "['FISV', 'FLT', 'WRK', 'ATVI', 'FRC', 'DISH', 'RE', 'ABC', 'MRO', 'PEAK', 'CDAY', 'PKI', 'CTLT', 'SIVB', 'PXD']: YFTzMissingError('possibly delisted; no timezone found')\n",
      "['SBNY']: YFPricesMissingError('possibly delisted; no price data found  (1d 2022-12-24 00:00:00 -> 2023-01-01 00:00:00) (Yahoo error = \"Data doesn\\'t exist for startDate = 1671858000, endDate = 1672549200\")')\n"
     ]
    },
    {
     "name": "stdout",
     "output_type": "stream",
     "text": [
      "💾 Appended 503 results to quarterly_prices_all.csv\n",
      "\n",
      "🔄 Fetching 503 tickers for Q4-24 (ending 2024-12-31)\n",
      "💾 Appended 503 results to quarterly_prices_all.csv\n"
     ]
    }
   ],
   "source": [
    "# Load existing results if continuing from previous run\n",
    "if os.path.exists(master_filename):\n",
    "    all_results = pd.read_csv(master_filename, parse_dates=['quarter_end'])\n",
    "    completed_quarters = set(all_results['quarter'].unique())\n",
    "    print(f\"📄 Loaded existing results for {len(completed_quarters)} quarters.\")\n",
    "else:\n",
    "    all_results = pd.DataFrame()\n",
    "    completed_quarters = set()\n",
    "\n",
    "# --- Loop through each quarter ---\n",
    "for q in sorted(df['quarter'].unique()):\n",
    "    if q in completed_quarters:\n",
    "        print(f\"✅ {q} already processed — skipping.\")\n",
    "        continue\n",
    "\n",
    "    q_end = get_quarter_end(q)\n",
    "    tickers = df[df['quarter'] == q]['ticker'].unique().tolist()\n",
    "    start_date = q_end - timedelta(days=7)\n",
    "    end_date = q_end + timedelta(days=1)\n",
    "\n",
    "    print(f\"\\n🔄 Fetching {len(tickers)} tickers for {q} (ending {q_end.date()})\")\n",
    "\n",
    "    try:\n",
    "        data = yf.download(tickers, start=start_date, end=end_date, group_by='ticker', progress=False)\n",
    "    except Exception as e:\n",
    "        print(f\"❌ Error downloading for {q}: {e}\")\n",
    "        continue\n",
    "\n",
    "    quarter_results = []\n",
    "\n",
    "    for ticker in tickers:\n",
    "        try:\n",
    "            if len(tickers) == 1:\n",
    "                closes = data['Close'].dropna()\n",
    "            else:\n",
    "                closes = data[ticker]['Close'].dropna()\n",
    "\n",
    "            if not closes.empty:\n",
    "                last_close_date = closes.index[closes.index <= pd.Timestamp(q_end)].max()\n",
    "                last_price = closes.loc[last_close_date]\n",
    "            else:\n",
    "                last_price = float('nan')\n",
    "        except Exception as e:\n",
    "            print(f\"⚠️  Error processing {ticker}: {e}\")\n",
    "            last_price = float('nan')\n",
    "\n",
    "        quarter_results.append({\n",
    "            'ticker': ticker,\n",
    "            'quarter': q,\n",
    "            'quarter_end': q_end,\n",
    "            'Q_End_Price': last_price\n",
    "        })\n",
    "\n",
    "    # --- Append and overwrite master CSV ---\n",
    "    new_df = pd.DataFrame(quarter_results)\n",
    "    all_results = pd.concat([all_results, new_df], ignore_index=True)\n",
    "    all_results.to_csv(master_filename, index=False)\n",
    "    print(f\"💾 Appended {len(new_df)} results to {master_filename}\")"
   ]
  },
  {
   "cell_type": "code",
   "execution_count": null,
   "id": "dd9cb56d-1b87-445c-8a19-893601af9290",
   "metadata": {},
   "outputs": [],
   "source": []
  },
  {
   "cell_type": "code",
   "execution_count": null,
   "id": "c55adc50-3777-4bd0-a812-5f19c2b56f45",
   "metadata": {},
   "outputs": [],
   "source": []
  },
  {
   "cell_type": "code",
   "execution_count": 4,
   "id": "1d693a09-6201-4336-9997-61f324431e99",
   "metadata": {
    "execution": {
     "iopub.execute_input": "2025-06-08T16:07:35.013189Z",
     "iopub.status.busy": "2025-06-08T16:07:35.012000Z",
     "iopub.status.idle": "2025-06-08T16:07:35.035008Z",
     "shell.execute_reply": "2025-06-08T16:07:35.034451Z",
     "shell.execute_reply.started": "2025-06-08T16:07:35.013154Z"
    }
   },
   "outputs": [],
   "source": [
    "df = pd.read_csv(\"quarterly_prices_all.csv\")"
   ]
  },
  {
   "cell_type": "code",
   "execution_count": 5,
   "id": "aec6ec69-c84d-457c-893d-2de85e250fce",
   "metadata": {
    "execution": {
     "iopub.execute_input": "2025-06-08T16:07:35.299309Z",
     "iopub.status.busy": "2025-06-08T16:07:35.298884Z",
     "iopub.status.idle": "2025-06-08T16:07:35.314856Z",
     "shell.execute_reply": "2025-06-08T16:07:35.314399Z",
     "shell.execute_reply.started": "2025-06-08T16:07:35.299281Z"
    }
   },
   "outputs": [
    {
     "data": {
      "text/html": [
       "<div>\n",
       "<style scoped>\n",
       "    .dataframe tbody tr th:only-of-type {\n",
       "        vertical-align: middle;\n",
       "    }\n",
       "\n",
       "    .dataframe tbody tr th {\n",
       "        vertical-align: top;\n",
       "    }\n",
       "\n",
       "    .dataframe thead th {\n",
       "        text-align: right;\n",
       "    }\n",
       "</style>\n",
       "<table border=\"1\" class=\"dataframe\">\n",
       "  <thead>\n",
       "    <tr style=\"text-align: right;\">\n",
       "      <th></th>\n",
       "      <th>ticker</th>\n",
       "      <th>quarter</th>\n",
       "      <th>quarter_end</th>\n",
       "      <th>Q_End_Price</th>\n",
       "    </tr>\n",
       "  </thead>\n",
       "  <tbody>\n",
       "    <tr>\n",
       "      <th>0</th>\n",
       "      <td>A</td>\n",
       "      <td>Q1-19</td>\n",
       "      <td>31/03/2019</td>\n",
       "      <td>76.857788</td>\n",
       "    </tr>\n",
       "    <tr>\n",
       "      <th>1</th>\n",
       "      <td>AAL</td>\n",
       "      <td>Q1-19</td>\n",
       "      <td>31/03/2019</td>\n",
       "      <td>31.339823</td>\n",
       "    </tr>\n",
       "    <tr>\n",
       "      <th>2</th>\n",
       "      <td>AAP</td>\n",
       "      <td>Q1-19</td>\n",
       "      <td>31/03/2019</td>\n",
       "      <td>152.464035</td>\n",
       "    </tr>\n",
       "    <tr>\n",
       "      <th>3</th>\n",
       "      <td>AAPL</td>\n",
       "      <td>Q1-19</td>\n",
       "      <td>31/03/2019</td>\n",
       "      <td>45.441719</td>\n",
       "    </tr>\n",
       "    <tr>\n",
       "      <th>4</th>\n",
       "      <td>ABBV</td>\n",
       "      <td>Q1-19</td>\n",
       "      <td>31/03/2019</td>\n",
       "      <td>61.163391</td>\n",
       "    </tr>\n",
       "  </tbody>\n",
       "</table>\n",
       "</div>"
      ],
      "text/plain": [
       "  ticker quarter quarter_end  Q_End_Price\n",
       "0      A   Q1-19  31/03/2019    76.857788\n",
       "1    AAL   Q1-19  31/03/2019    31.339823\n",
       "2    AAP   Q1-19  31/03/2019   152.464035\n",
       "3   AAPL   Q1-19  31/03/2019    45.441719\n",
       "4   ABBV   Q1-19  31/03/2019    61.163391"
      ]
     },
     "execution_count": 5,
     "metadata": {},
     "output_type": "execute_result"
    }
   ],
   "source": [
    "df.head()"
   ]
  },
  {
   "cell_type": "code",
   "execution_count": 6,
   "id": "4c9df6e9-c128-48b1-b18f-010af2aadb16",
   "metadata": {
    "execution": {
     "iopub.execute_input": "2025-06-08T16:07:36.397336Z",
     "iopub.status.busy": "2025-06-08T16:07:36.396833Z",
     "iopub.status.idle": "2025-06-08T16:07:36.834242Z",
     "shell.execute_reply": "2025-06-08T16:07:36.834025Z",
     "shell.execute_reply.started": "2025-06-08T16:07:36.397302Z"
    }
   },
   "outputs": [
    {
     "name": "stderr",
     "output_type": "stream",
     "text": [
      "/Users/chloecurtis/.pyenv/versions/3.12.9/envs/corporate-sentiment-tracker/lib/python3.12/site-packages/tqdm/auto.py:21: TqdmWarning: IProgress not found. Please update jupyter and ipywidgets. See https://ipywidgets.readthedocs.io/en/stable/user_install.html\n",
      "  from .autonotebook import tqdm as notebook_tqdm\n"
     ]
    }
   ],
   "source": [
    "import pandas as pd\n",
    "import yfinance as yf\n",
    "from functools import lru_cache\n",
    "import swifter  # Optional but faster if installed\n",
    "import os"
   ]
  },
  {
   "cell_type": "code",
   "execution_count": 11,
   "id": "4f82285d-2fb4-4364-a54d-654e09e6cfe0",
   "metadata": {
    "execution": {
     "iopub.execute_input": "2025-06-08T16:09:28.020507Z",
     "iopub.status.busy": "2025-06-08T16:09:28.020153Z",
     "iopub.status.idle": "2025-06-08T16:09:28.027410Z",
     "shell.execute_reply": "2025-06-08T16:09:28.026749Z",
     "shell.execute_reply.started": "2025-06-08T16:09:28.020488Z"
    }
   },
   "outputs": [],
   "source": [
    "# ---------- 1. Cache yf.Ticker ----------\n",
    "@lru_cache(maxsize=1000)\n",
    "def get_stock(ticker):\n",
    "    return yf.Ticker(ticker)\n",
    "\n",
    "# ---------- 2. Combined earnings + previous close logic ----------\n",
    "def process_row(ticker, quarter_end):\n",
    "    try:\n",
    "        quarter_end = pd.to_datetime(quarter_end, dayfirst=True)\n",
    "        stock = get_stock(ticker)\n",
    "\n",
    "        earnings_df = stock.get_earnings_dates(limit=12)\n",
    "        if earnings_df is None or earnings_df.empty:\n",
    "            return None, None\n",
    "\n",
    "        earnings_df = earnings_df.copy()\n",
    "        earnings_df.index = pd.to_datetime(earnings_df.index, errors='coerce')\n",
    "        earnings_df.dropna(inplace=True)\n",
    "\n",
    "        valid_dates = earnings_df[earnings_df.index <= quarter_end]\n",
    "        if valid_dates.empty:\n",
    "            return None, None\n",
    "\n",
    "        earnings_date = valid_dates.index.max()\n",
    "\n",
    "        prev_day = earnings_date - pd.Timedelta(days=1)\n",
    "        start_date = prev_day - pd.Timedelta(days=5)\n",
    "        history = stock.history(start=start_date.strftime('%Y-%m-%d'), end=earnings_date.strftime('%Y-%m-%d'))\n",
    "\n",
    "        for i in range(5):\n",
    "            lookup_day = prev_day - pd.Timedelta(days=i)\n",
    "            if lookup_day in history.index:\n",
    "                return earnings_date, history.loc[lookup_day, 'Close']\n",
    "\n",
    "    except Exception as e:\n",
    "        print(f\"Error for {ticker}: {e}\")\n",
    "\n",
    "    return None, None"
   ]
  },
  {
   "cell_type": "code",
   "execution_count": 12,
   "id": "890c8322-1951-4eb2-b8b1-6eb990097bc9",
   "metadata": {
    "execution": {
     "iopub.execute_input": "2025-06-08T16:09:30.382187Z",
     "iopub.status.busy": "2025-06-08T16:09:30.381769Z",
     "iopub.status.idle": "2025-06-08T16:09:30.593376Z",
     "shell.execute_reply": "2025-06-08T16:09:30.592404Z",
     "shell.execute_reply.started": "2025-06-08T16:09:30.382161Z"
    }
   },
   "outputs": [
    {
     "name": "stdout",
     "output_type": "stream",
     "text": [
      "Error for AAPL: 'NoneType' object is not subscriptable\n",
      "(None, None)\n",
      "Error for ZZZZ: 'NoneType' object is not subscriptable\n",
      "(None, None)\n"
     ]
    }
   ],
   "source": [
    "print(process_row(\"AAPL\", \"31/03/2019\"))  # Should return a real date + float close\n",
    "print(process_row(\"ZZZZ\", \"31/03/2019\"))"
   ]
  },
  {
   "cell_type": "code",
   "execution_count": null,
   "id": "b6ca6bd2-3908-4011-921f-43668f8df663",
   "metadata": {
    "execution": {
     "execution_failed": "2025-06-08T16:07:04.044Z",
     "iopub.execute_input": "2025-06-08T16:06:18.507799Z",
     "iopub.status.busy": "2025-06-08T16:06:18.507190Z"
    }
   },
   "outputs": [
    {
     "name": "stdout",
     "output_type": "stream",
     "text": [
      "Processing rows 0 to 499\n"
     ]
    },
    {
     "name": "stderr",
     "output_type": "stream",
     "text": [
      "Pandas Apply:   1%|▏                            | 3/500 [00:00<00:35, 14.17it/s]"
     ]
    },
    {
     "name": "stdout",
     "output_type": "stream",
     "text": [
      "Error for A: 'NoneType' object is not subscriptable\n",
      "Error for AAL: 'NoneType' object is not subscriptable\n"
     ]
    },
    {
     "name": "stderr",
     "output_type": "stream",
     "text": [
      "Pandas Apply:   1%|▎                            | 5/500 [00:00<00:42, 11.72it/s]"
     ]
    },
    {
     "name": "stdout",
     "output_type": "stream",
     "text": [
      "Error for AAP: 'NoneType' object is not subscriptable\n",
      "Error for AAPL: 'NoneType' object is not subscriptable\n",
      "Error for ABBV: 'NoneType' object is not subscriptable\n"
     ]
    },
    {
     "name": "stderr",
     "output_type": "stream",
     "text": [
      "Pandas Apply:   2%|▌                            | 9/500 [00:00<00:45, 10.84it/s]"
     ]
    },
    {
     "name": "stdout",
     "output_type": "stream",
     "text": [
      "Error for ABT: 'NoneType' object is not subscriptable\n",
      "Error for ACN: 'NoneType' object is not subscriptable\n",
      "Error for ADBE: 'NoneType' object is not subscriptable\n"
     ]
    },
    {
     "name": "stderr",
     "output_type": "stream",
     "text": [
      "Pandas Apply:   2%|▌                           | 11/500 [00:01<00:47, 10.37it/s]"
     ]
    },
    {
     "name": "stdout",
     "output_type": "stream",
     "text": [
      "Error for ADI: 'NoneType' object is not subscriptable\n",
      "Error for ADM: 'NoneType' object is not subscriptable\n"
     ]
    },
    {
     "name": "stderr",
     "output_type": "stream",
     "text": [
      "Pandas Apply:   3%|▋                           | 13/500 [00:01<00:45, 10.65it/s]"
     ]
    },
    {
     "name": "stdout",
     "output_type": "stream",
     "text": [
      "Error for ADP: 'NoneType' object is not subscriptable\n",
      "Error for ADSK: 'NoneType' object is not subscriptable\n",
      "Error for AEE: 'NoneType' object is not subscriptable\n"
     ]
    },
    {
     "name": "stderr",
     "output_type": "stream",
     "text": [
      "Pandas Apply:   3%|▊                           | 15/500 [00:01<00:46, 10.51it/s]"
     ]
    },
    {
     "name": "stdout",
     "output_type": "stream",
     "text": [
      "Error for AEP: 'NoneType' object is not subscriptable\n",
      "Error for AES: 'NoneType' object is not subscriptable\n"
     ]
    },
    {
     "name": "stderr",
     "output_type": "stream",
     "text": [
      "Pandas Apply:   4%|█                           | 19/500 [00:01<00:48,  9.98it/s]"
     ]
    },
    {
     "name": "stdout",
     "output_type": "stream",
     "text": [
      "Error for AFL: 'NoneType' object is not subscriptable\n",
      "Error for AIG: 'NoneType' object is not subscriptable\n",
      "Error for AIV: 'NoneType' object is not subscriptable\n"
     ]
    },
    {
     "name": "stderr",
     "output_type": "stream",
     "text": [
      "Pandas Apply:   4%|█▏                          | 21/500 [00:01<00:46, 10.29it/s]"
     ]
    },
    {
     "name": "stdout",
     "output_type": "stream",
     "text": [
      "Error for AIZ: 'NoneType' object is not subscriptable\n",
      "Error for AJG: 'NoneType' object is not subscriptable\n",
      "Error for AKAM: 'NoneType' object is not subscriptable\n"
     ]
    },
    {
     "name": "stderr",
     "output_type": "stream",
     "text": [
      "Pandas Apply:   5%|█▍                          | 25/500 [00:02<00:45, 10.51it/s]"
     ]
    },
    {
     "name": "stdout",
     "output_type": "stream",
     "text": [
      "Error for ALB: 'NoneType' object is not subscriptable\n",
      "Error for ALGN: 'NoneType' object is not subscriptable\n",
      "Error for ALK: 'NoneType' object is not subscriptable\n"
     ]
    },
    {
     "name": "stderr",
     "output_type": "stream",
     "text": [
      "Pandas Apply:   5%|█▌                          | 27/500 [00:02<00:44, 10.57it/s]"
     ]
    },
    {
     "name": "stdout",
     "output_type": "stream",
     "text": [
      "Error for ALL: 'NoneType' object is not subscriptable\n",
      "Error for ALLE: 'NoneType' object is not subscriptable\n"
     ]
    },
    {
     "name": "stderr",
     "output_type": "stream",
     "text": [
      "Pandas Apply:   6%|█▌                          | 29/500 [00:02<00:46, 10.13it/s]"
     ]
    },
    {
     "name": "stdout",
     "output_type": "stream",
     "text": [
      "Error for AMAT: 'NoneType' object is not subscriptable\n",
      "Error for AMD: 'NoneType' object is not subscriptable\n",
      "Error for AME: 'NoneType' object is not subscriptable\n"
     ]
    },
    {
     "name": "stderr",
     "output_type": "stream",
     "text": [
      "Pandas Apply:   7%|█▊                          | 33/500 [00:03<00:45, 10.37it/s]"
     ]
    },
    {
     "name": "stdout",
     "output_type": "stream",
     "text": [
      "Error for AMG: 'NoneType' object is not subscriptable\n",
      "Error for AMGN: 'NoneType' object is not subscriptable\n",
      "Error for AMP: 'NoneType' object is not subscriptable\n"
     ]
    },
    {
     "name": "stderr",
     "output_type": "stream",
     "text": [
      "Pandas Apply:   7%|█▉                          | 35/500 [00:03<00:46, 10.03it/s]"
     ]
    },
    {
     "name": "stdout",
     "output_type": "stream",
     "text": [
      "Error for AMT: 'NoneType' object is not subscriptable\n",
      "Error for AMZN: 'NoneType' object is not subscriptable\n"
     ]
    },
    {
     "name": "stderr",
     "output_type": "stream",
     "text": [
      "Pandas Apply:   7%|██                          | 37/500 [00:03<00:47,  9.72it/s]"
     ]
    },
    {
     "name": "stdout",
     "output_type": "stream",
     "text": [
      "Error for ANET: 'NoneType' object is not subscriptable\n",
      "Error for ANSS: 'NoneType' object is not subscriptable\n",
      "Error for AON: 'NoneType' object is not subscriptable\n"
     ]
    },
    {
     "name": "stderr",
     "output_type": "stream",
     "text": [
      "Pandas Apply:   8%|██▏                         | 39/500 [00:03<00:45, 10.04it/s]"
     ]
    },
    {
     "name": "stdout",
     "output_type": "stream",
     "text": [
      "Error for AOS: 'NoneType' object is not subscriptable\n",
      "Error for APA: 'NoneType' object is not subscriptable\n"
     ]
    },
    {
     "name": "stderr",
     "output_type": "stream",
     "text": [
      "Pandas Apply:   8%|██▎                         | 41/500 [00:03<00:46,  9.96it/s]"
     ]
    },
    {
     "name": "stdout",
     "output_type": "stream",
     "text": [
      "Error for APD: 'NoneType' object is not subscriptable\n",
      "Error for APH: 'NoneType' object is not subscriptable\n"
     ]
    },
    {
     "name": "stderr",
     "output_type": "stream",
     "text": [
      "Pandas Apply:   9%|██▍                         | 44/500 [00:04<00:48,  9.49it/s]"
     ]
    },
    {
     "name": "stdout",
     "output_type": "stream",
     "text": [
      "Error for APTV: 'NoneType' object is not subscriptable\n",
      "Error for ARE: 'NoneType' object is not subscriptable\n"
     ]
    },
    {
     "name": "stderr",
     "output_type": "stream",
     "text": [
      "Pandas Apply:   9%|██▌                         | 46/500 [00:04<00:48,  9.42it/s]"
     ]
    },
    {
     "name": "stdout",
     "output_type": "stream",
     "text": [
      "Error for ATO: 'NoneType' object is not subscriptable\n",
      "Error for AVB: 'NoneType' object is not subscriptable\n",
      "Error for AVGO: 'NoneType' object is not subscriptable\n"
     ]
    },
    {
     "name": "stderr",
     "output_type": "stream",
     "text": [
      "Pandas Apply:  10%|██▊                         | 50/500 [00:04<00:43, 10.37it/s]"
     ]
    },
    {
     "name": "stdout",
     "output_type": "stream",
     "text": [
      "Error for AVY: 'NoneType' object is not subscriptable\n",
      "Error for AWK: 'NoneType' object is not subscriptable\n",
      "Error for AXP: 'NoneType' object is not subscriptable\n"
     ]
    },
    {
     "name": "stderr",
     "output_type": "stream",
     "text": [
      "Pandas Apply:  10%|██▉                         | 52/500 [00:05<00:42, 10.47it/s]"
     ]
    },
    {
     "name": "stdout",
     "output_type": "stream",
     "text": [
      "Error for AZO: 'NoneType' object is not subscriptable\n",
      "Error for BA: 'NoneType' object is not subscriptable\n",
      "Error for BAC: 'NoneType' object is not subscriptable\n"
     ]
    },
    {
     "name": "stderr",
     "output_type": "stream",
     "text": [
      "Pandas Apply:  11%|███                         | 55/500 [00:05<00:49,  8.94it/s]"
     ]
    },
    {
     "name": "stdout",
     "output_type": "stream",
     "text": [
      "Error for BAX: 'NoneType' object is not subscriptable\n",
      "Error for BBY: 'NoneType' object is not subscriptable\n"
     ]
    },
    {
     "name": "stderr",
     "output_type": "stream",
     "text": [
      "Pandas Apply:  11%|███▏                        | 57/500 [00:05<00:47,  9.31it/s]"
     ]
    },
    {
     "name": "stdout",
     "output_type": "stream",
     "text": [
      "Error for BDX: 'NoneType' object is not subscriptable\n",
      "Error for BEN: 'NoneType' object is not subscriptable\n",
      "Error for BF-B: 'NoneType' object is not subscriptable\n"
     ]
    },
    {
     "name": "stderr",
     "output_type": "stream",
     "text": [
      "Pandas Apply:  12%|███▍                        | 61/500 [00:06<00:42, 10.39it/s]"
     ]
    },
    {
     "name": "stdout",
     "output_type": "stream",
     "text": [
      "Error for BHF: 'NoneType' object is not subscriptable\n",
      "Error for BIIB: 'NoneType' object is not subscriptable\n",
      "Error for BK: 'NoneType' object is not subscriptable\n"
     ]
    },
    {
     "name": "stderr",
     "output_type": "stream",
     "text": [
      "Pandas Apply:  13%|███▌                        | 63/500 [00:06<00:43,  9.97it/s]"
     ]
    },
    {
     "name": "stdout",
     "output_type": "stream",
     "text": [
      "Error for BKNG: 'NoneType' object is not subscriptable\n",
      "Error for BLK: 'NoneType' object is not subscriptable\n"
     ]
    },
    {
     "name": "stderr",
     "output_type": "stream",
     "text": [
      "Pandas Apply:  13%|███▋                        | 65/500 [00:06<00:43, 10.08it/s]"
     ]
    },
    {
     "name": "stdout",
     "output_type": "stream",
     "text": [
      "Error for BMY: 'NoneType' object is not subscriptable\n",
      "Error for BR: 'NoneType' object is not subscriptable\n",
      "Error for BRK-B: 'NoneType' object is not subscriptable\n"
     ]
    },
    {
     "name": "stderr",
     "output_type": "stream",
     "text": [
      "Pandas Apply:  14%|███▊                        | 69/500 [00:06<00:41, 10.33it/s]"
     ]
    },
    {
     "name": "stdout",
     "output_type": "stream",
     "text": [
      "Error for BSX: 'NoneType' object is not subscriptable\n",
      "Error for BWA: 'NoneType' object is not subscriptable\n",
      "Error for BXP: 'NoneType' object is not subscriptable\n"
     ]
    },
    {
     "name": "stderr",
     "output_type": "stream",
     "text": [
      "Pandas Apply:  14%|███▉                        | 71/500 [00:07<00:42, 10.15it/s]"
     ]
    },
    {
     "name": "stdout",
     "output_type": "stream",
     "text": [
      "Error for C: 'NoneType' object is not subscriptable\n",
      "Error for CAG: 'NoneType' object is not subscriptable\n",
      "Error for CAH: 'NoneType' object is not subscriptable\n"
     ]
    },
    {
     "name": "stderr",
     "output_type": "stream",
     "text": [
      "Pandas Apply:  15%|████▏                       | 75/500 [00:07<00:39, 10.73it/s]"
     ]
    },
    {
     "name": "stdout",
     "output_type": "stream",
     "text": [
      "Error for CAT: 'NoneType' object is not subscriptable\n",
      "Error for CB: 'NoneType' object is not subscriptable\n",
      "Error for CBOE: 'NoneType' object is not subscriptable\n"
     ]
    },
    {
     "name": "stderr",
     "output_type": "stream",
     "text": [
      "Pandas Apply:  15%|████▎                       | 77/500 [00:07<00:39, 10.68it/s]"
     ]
    },
    {
     "name": "stdout",
     "output_type": "stream",
     "text": [
      "Error for CBRE: 'NoneType' object is not subscriptable\n",
      "Error for CCI: 'NoneType' object is not subscriptable\n",
      "Error for CCL: 'NoneType' object is not subscriptable\n"
     ]
    },
    {
     "name": "stderr",
     "output_type": "stream",
     "text": [
      "Pandas Apply:  16%|████▌                       | 81/500 [00:07<00:40, 10.46it/s]"
     ]
    },
    {
     "name": "stdout",
     "output_type": "stream",
     "text": [
      "Error for CDNS: 'NoneType' object is not subscriptable\n",
      "Error for CE: 'NoneType' object is not subscriptable\n",
      "Error for CF: 'NoneType' object is not subscriptable\n"
     ]
    },
    {
     "name": "stderr",
     "output_type": "stream",
     "text": [
      "Pandas Apply:  17%|████▋                       | 83/500 [00:08<00:40, 10.39it/s]"
     ]
    },
    {
     "name": "stdout",
     "output_type": "stream",
     "text": [
      "Error for CFG: 'NoneType' object is not subscriptable\n",
      "Error for CHD: 'NoneType' object is not subscriptable\n",
      "Error for CHRW: 'NoneType' object is not subscriptable\n"
     ]
    },
    {
     "name": "stderr",
     "output_type": "stream",
     "text": [
      "Pandas Apply:  17%|████▊                       | 87/500 [00:08<00:38, 10.86it/s]"
     ]
    },
    {
     "name": "stdout",
     "output_type": "stream",
     "text": [
      "Error for CHTR: 'NoneType' object is not subscriptable\n",
      "Error for CI: 'NoneType' object is not subscriptable\n",
      "Error for CINF: 'NoneType' object is not subscriptable\n"
     ]
    },
    {
     "name": "stderr",
     "output_type": "stream",
     "text": [
      "Pandas Apply:  18%|████▉                       | 89/500 [00:08<00:39, 10.46it/s]"
     ]
    },
    {
     "name": "stdout",
     "output_type": "stream",
     "text": [
      "Error for CL: 'NoneType' object is not subscriptable\n",
      "Error for CLX: 'NoneType' object is not subscriptable\n"
     ]
    },
    {
     "name": "stderr",
     "output_type": "stream",
     "text": [
      "Pandas Apply:  18%|█████                       | 91/500 [00:08<00:42,  9.69it/s]"
     ]
    },
    {
     "name": "stdout",
     "output_type": "stream",
     "text": [
      "Error for CMA: 'NoneType' object is not subscriptable\n",
      "Error for CMCSA: 'NoneType' object is not subscriptable\n"
     ]
    },
    {
     "name": "stderr",
     "output_type": "stream",
     "text": [
      "Pandas Apply:  19%|█████▏                      | 93/500 [00:09<00:46,  8.68it/s]"
     ]
    },
    {
     "name": "stdout",
     "output_type": "stream",
     "text": [
      "Error for CME: 'NoneType' object is not subscriptable\n",
      "Error for CMG: 'NoneType' object is not subscriptable\n"
     ]
    },
    {
     "name": "stderr",
     "output_type": "stream",
     "text": [
      "Pandas Apply:  19%|█████▎                      | 95/500 [00:09<00:43,  9.32it/s]"
     ]
    },
    {
     "name": "stdout",
     "output_type": "stream",
     "text": [
      "Error for CMI: 'NoneType' object is not subscriptable\n",
      "Error for CMS: 'NoneType' object is not subscriptable\n",
      "Error for CNC: 'NoneType' object is not subscriptable\n"
     ]
    },
    {
     "name": "stderr",
     "output_type": "stream",
     "text": [
      "Pandas Apply:  20%|█████▍                      | 98/500 [00:09<00:42,  9.43it/s]"
     ]
    },
    {
     "name": "stdout",
     "output_type": "stream",
     "text": [
      "Error for CNP: 'NoneType' object is not subscriptable\n",
      "Error for COF: 'NoneType' object is not subscriptable\n"
     ]
    },
    {
     "name": "stderr",
     "output_type": "stream",
     "text": [
      "Pandas Apply:  20%|█████▍                     | 100/500 [00:09<00:39, 10.03it/s]"
     ]
    },
    {
     "name": "stdout",
     "output_type": "stream",
     "text": [
      "Error for COO: 'NoneType' object is not subscriptable\n",
      "Error for COP: 'NoneType' object is not subscriptable\n",
      "Error for COST: 'NoneType' object is not subscriptable\n"
     ]
    },
    {
     "name": "stderr",
     "output_type": "stream",
     "text": [
      "Pandas Apply:  21%|█████▌                     | 104/500 [00:10<00:37, 10.47it/s]"
     ]
    },
    {
     "name": "stdout",
     "output_type": "stream",
     "text": [
      "Error for COTY: 'NoneType' object is not subscriptable\n",
      "Error for CPB: 'NoneType' object is not subscriptable\n",
      "Error for CPRI: 'NoneType' object is not subscriptable\n"
     ]
    },
    {
     "name": "stderr",
     "output_type": "stream",
     "text": [
      "Pandas Apply:  21%|█████▋                     | 106/500 [00:10<00:38, 10.25it/s]"
     ]
    },
    {
     "name": "stdout",
     "output_type": "stream",
     "text": [
      "Error for CPRT: 'NoneType' object is not subscriptable\n",
      "Error for CRM: 'NoneType' object is not subscriptable\n"
     ]
    },
    {
     "name": "stderr",
     "output_type": "stream",
     "text": [
      "Pandas Apply:  22%|█████▊                     | 108/500 [00:10<00:37, 10.56it/s]"
     ]
    },
    {
     "name": "stdout",
     "output_type": "stream",
     "text": [
      "Error for CSCO: 'NoneType' object is not subscriptable\n",
      "Error for CSX: 'NoneType' object is not subscriptable\n",
      "Error for CTAS: 'NoneType' object is not subscriptable\n"
     ]
    },
    {
     "name": "stderr",
     "output_type": "stream",
     "text": [
      "Pandas Apply:  22%|█████▉                     | 110/500 [00:10<00:36, 10.63it/s]"
     ]
    },
    {
     "name": "stdout",
     "output_type": "stream",
     "text": [
      "Error for CTSH: 'NoneType' object is not subscriptable\n",
      "Error for CVS: 'NoneType' object is not subscriptable\n"
     ]
    },
    {
     "name": "stderr",
     "output_type": "stream",
     "text": [
      "Pandas Apply:  22%|██████                     | 112/500 [00:11<00:37, 10.21it/s]"
     ]
    },
    {
     "name": "stdout",
     "output_type": "stream",
     "text": [
      "Error for CVX: 'NoneType' object is not subscriptable\n",
      "Error for D: 'NoneType' object is not subscriptable\n"
     ]
    },
    {
     "name": "stderr",
     "output_type": "stream",
     "text": [
      "Pandas Apply:  23%|██████▏                    | 115/500 [00:11<00:39,  9.68it/s]"
     ]
    },
    {
     "name": "stdout",
     "output_type": "stream",
     "text": [
      "Error for DAL: 'NoneType' object is not subscriptable\n",
      "Error for DE: 'NoneType' object is not subscriptable\n",
      "Error for DFS: 'NoneType' object is not subscriptable\n"
     ]
    },
    {
     "name": "stderr",
     "output_type": "stream",
     "text": [
      "Pandas Apply:  24%|██████▍                    | 119/500 [00:11<00:41,  9.10it/s]"
     ]
    },
    {
     "name": "stdout",
     "output_type": "stream",
     "text": [
      "Error for DG: 'NoneType' object is not subscriptable\n",
      "Error for DGX: 'NoneType' object is not subscriptable\n",
      "Error for DHI: 'NoneType' object is not subscriptable\n"
     ]
    },
    {
     "name": "stderr",
     "output_type": "stream",
     "text": [
      "Pandas Apply:  24%|██████▌                    | 121/500 [00:12<00:39,  9.72it/s]"
     ]
    },
    {
     "name": "stdout",
     "output_type": "stream",
     "text": [
      "Error for DHR: 'NoneType' object is not subscriptable\n",
      "Error for DIS: 'NoneType' object is not subscriptable\n",
      "Error for DLR: 'NoneType' object is not subscriptable\n"
     ]
    },
    {
     "name": "stderr",
     "output_type": "stream",
     "text": [
      "Pandas Apply:  25%|██████▊                    | 125/500 [00:12<00:38,  9.75it/s]"
     ]
    },
    {
     "name": "stdout",
     "output_type": "stream",
     "text": [
      "Error for DLTR: 'NoneType' object is not subscriptable\n",
      "Error for DOV: 'NoneType' object is not subscriptable\n",
      "Error for DRI: 'NoneType' object is not subscriptable\n"
     ]
    },
    {
     "name": "stderr",
     "output_type": "stream",
     "text": [
      "Pandas Apply:  26%|██████▉                    | 128/500 [00:12<00:36, 10.16it/s]"
     ]
    },
    {
     "name": "stdout",
     "output_type": "stream",
     "text": [
      "Error for DTE: 'NoneType' object is not subscriptable\n",
      "Error for DUK: 'NoneType' object is not subscriptable\n",
      "Error for DVA: 'NoneType' object is not subscriptable\n"
     ]
    },
    {
     "name": "stderr",
     "output_type": "stream",
     "text": [
      "Pandas Apply:  26%|███████                    | 130/500 [00:12<00:35, 10.43it/s]"
     ]
    },
    {
     "name": "stdout",
     "output_type": "stream",
     "text": [
      "Error for DVN: 'NoneType' object is not subscriptable\n",
      "Error for DXC: 'NoneType' object is not subscriptable\n",
      "Error for EA: 'NoneType' object is not subscriptable\n"
     ]
    },
    {
     "name": "stderr",
     "output_type": "stream",
     "text": [
      "Pandas Apply:  27%|███████▏                   | 134/500 [00:13<00:35, 10.46it/s]"
     ]
    },
    {
     "name": "stdout",
     "output_type": "stream",
     "text": [
      "Error for EBAY: 'NoneType' object is not subscriptable\n",
      "Error for ECL: 'NoneType' object is not subscriptable\n",
      "Error for ED: 'NoneType' object is not subscriptable\n"
     ]
    },
    {
     "name": "stderr",
     "output_type": "stream",
     "text": [
      "Pandas Apply:  27%|███████▎                   | 136/500 [00:13<00:37,  9.73it/s]"
     ]
    },
    {
     "name": "stdout",
     "output_type": "stream",
     "text": [
      "Error for EFX: 'NoneType' object is not subscriptable\n",
      "Error for EIX: 'NoneType' object is not subscriptable\n",
      "Error for EL: 'NoneType' object is not subscriptable\n"
     ]
    },
    {
     "name": "stderr",
     "output_type": "stream",
     "text": [
      "Exception ignored from cffi callback <function buffer_callback at 0x109e4b560>:\n",
      "Traceback (most recent call last):\n",
      "  File \"/Users/chloecurtis/.pyenv/versions/3.12.9/envs/corporate-sentiment-tracker/lib/python3.12/site-packages/curl_cffi/curl.py\", line 67, in buffer_callback\n",
      "    @ffi.def_extern()\n",
      "    \n",
      "KeyboardInterrupt: \n",
      "Pandas Apply:  28%|███████▍                   | 138/500 [00:13<00:32, 11.01it/s]"
     ]
    },
    {
     "name": "stdout",
     "output_type": "stream",
     "text": [
      "Error for EMN: Failed to perform, curl: (23) Failure writing output to destination, passed 13 returned 0. See https://curl.se/libcurl/c/libcurl-errors.html first for more details.\n",
      "Error for EMR: 'NoneType' object is not subscriptable\n"
     ]
    },
    {
     "name": "stderr",
     "output_type": "stream",
     "text": [
      "Pandas Apply:  28%|███████▋                   | 142/500 [00:14<00:35, 10.23it/s]"
     ]
    },
    {
     "name": "stdout",
     "output_type": "stream",
     "text": [
      "Error for EOG: 'NoneType' object is not subscriptable\n",
      "Error for EQIX: 'NoneType' object is not subscriptable\n",
      "Error for EQR: 'NoneType' object is not subscriptable\n"
     ]
    },
    {
     "name": "stderr",
     "output_type": "stream",
     "text": [
      "Pandas Apply:  29%|███████▊                   | 144/500 [00:14<00:34, 10.45it/s]"
     ]
    },
    {
     "name": "stdout",
     "output_type": "stream",
     "text": [
      "Error for ES: 'NoneType' object is not subscriptable\n",
      "Error for ESS: 'NoneType' object is not subscriptable\n",
      "Error for ETN: 'NoneType' object is not subscriptable\n"
     ]
    },
    {
     "name": "stderr",
     "output_type": "stream",
     "text": [
      "Pandas Apply:  30%|███████▉                   | 148/500 [00:14<00:32, 10.89it/s]"
     ]
    },
    {
     "name": "stdout",
     "output_type": "stream",
     "text": [
      "Error for ETR: 'NoneType' object is not subscriptable\n",
      "Error for EVRG: 'NoneType' object is not subscriptable\n",
      "Error for EW: 'NoneType' object is not subscriptable\n"
     ]
    },
    {
     "name": "stderr",
     "output_type": "stream",
     "text": [
      "Pandas Apply:  30%|████████                   | 150/500 [00:14<00:32, 10.87it/s]"
     ]
    },
    {
     "name": "stdout",
     "output_type": "stream",
     "text": [
      "Error for EXC: 'NoneType' object is not subscriptable\n",
      "Error for EXPD: 'NoneType' object is not subscriptable\n",
      "Error for EXPE: 'NoneType' object is not subscriptable\n"
     ]
    },
    {
     "name": "stderr",
     "output_type": "stream",
     "text": [
      "Pandas Apply:  31%|████████▎                  | 154/500 [00:15<00:31, 10.95it/s]"
     ]
    },
    {
     "name": "stdout",
     "output_type": "stream",
     "text": [
      "Error for EXR: 'NoneType' object is not subscriptable\n",
      "Error for F: 'NoneType' object is not subscriptable\n",
      "Error for FANG: 'NoneType' object is not subscriptable\n"
     ]
    },
    {
     "name": "stderr",
     "output_type": "stream",
     "text": [
      "Exception ignored from cffi callback <function buffer_callback at 0x109e4b560>:\n",
      "Traceback (most recent call last):\n",
      "  File \"/Users/chloecurtis/.pyenv/versions/3.12.9/envs/corporate-sentiment-tracker/lib/python3.12/site-packages/curl_cffi/curl.py\", line 67, in buffer_callback\n",
      "    @ffi.def_extern()\n",
      "    \n",
      "KeyboardInterrupt: \n",
      "Pandas Apply:  31%|████████▍                  | 156/500 [00:15<00:32, 10.56it/s]"
     ]
    },
    {
     "name": "stdout",
     "output_type": "stream",
     "text": [
      "Error for FAST: 'NoneType' object is not subscriptable\n",
      "Error for FCX: Failed to perform, curl: (23) Failure writing output to destination, passed 13 returned 0. See https://curl.se/libcurl/c/libcurl-errors.html first for more details.\n",
      "Error for FDX: 'NoneType' object is not subscriptable\n"
     ]
    },
    {
     "name": "stderr",
     "output_type": "stream",
     "text": [
      "Pandas Apply:  32%|████████▋                  | 160/500 [00:15<00:31, 10.85it/s]"
     ]
    },
    {
     "name": "stdout",
     "output_type": "stream",
     "text": [
      "Error for FE: 'NoneType' object is not subscriptable\n",
      "Error for FFIV: 'NoneType' object is not subscriptable\n",
      "Error for FIS: 'NoneType' object is not subscriptable\n"
     ]
    },
    {
     "name": "stderr",
     "output_type": "stream",
     "text": [
      "Pandas Apply:  32%|████████▋                  | 162/500 [00:15<00:30, 11.05it/s]"
     ]
    },
    {
     "name": "stdout",
     "output_type": "stream",
     "text": [
      "Error for FITB: 'NoneType' object is not subscriptable\n",
      "Error for FL: 'NoneType' object is not subscriptable\n",
      "Error for FLR: 'NoneType' object is not subscriptable\n"
     ]
    },
    {
     "name": "stderr",
     "output_type": "stream",
     "text": [
      "Pandas Apply:  33%|████████▊                  | 164/500 [00:16<00:30, 10.89it/s]"
     ]
    },
    {
     "name": "stdout",
     "output_type": "stream",
     "text": [
      "Error for FLS: 'NoneType' object is not subscriptable\n",
      "Error for FMC: 'NoneType' object is not subscriptable\n"
     ]
    },
    {
     "name": "stderr",
     "output_type": "stream",
     "text": [
      "Pandas Apply:  33%|████████▉                  | 166/500 [00:16<00:31, 10.45it/s]"
     ]
    },
    {
     "name": "stdout",
     "output_type": "stream",
     "text": [
      "Error for FOX: 'NoneType' object is not subscriptable\n",
      "Error for FOXA: 'NoneType' object is not subscriptable\n"
     ]
    },
    {
     "name": "stderr",
     "output_type": "stream",
     "text": [
      "Pandas Apply:  34%|█████████▏                 | 170/500 [00:16<00:31, 10.48it/s]"
     ]
    },
    {
     "name": "stdout",
     "output_type": "stream",
     "text": [
      "Error for FRT: 'NoneType' object is not subscriptable\n",
      "Error for FTI: 'NoneType' object is not subscriptable\n",
      "Error for FTNT: 'NoneType' object is not subscriptable\n"
     ]
    },
    {
     "name": "stderr",
     "output_type": "stream",
     "text": [
      "Pandas Apply:  34%|█████████▎                 | 172/500 [00:16<00:31, 10.36it/s]"
     ]
    },
    {
     "name": "stdout",
     "output_type": "stream",
     "text": [
      "Error for FTV: 'NoneType' object is not subscriptable\n",
      "Error for GD: 'NoneType' object is not subscriptable\n",
      "Error for GE: 'NoneType' object is not subscriptable\n"
     ]
    },
    {
     "name": "stderr",
     "output_type": "stream",
     "text": [
      "Pandas Apply:  35%|█████████▍                 | 174/500 [00:17<00:30, 10.74it/s]"
     ]
    },
    {
     "name": "stdout",
     "output_type": "stream",
     "text": [
      "Error for GILD: 'NoneType' object is not subscriptable\n",
      "Error for GIS: 'NoneType' object is not subscriptable\n"
     ]
    },
    {
     "name": "stderr",
     "output_type": "stream",
     "text": [
      "Pandas Apply:  36%|█████████▌                 | 178/500 [00:17<00:31, 10.31it/s]"
     ]
    },
    {
     "name": "stdout",
     "output_type": "stream",
     "text": [
      "Error for GLW: 'NoneType' object is not subscriptable\n",
      "Error for GM: 'NoneType' object is not subscriptable\n",
      "Error for GOOG: 'NoneType' object is not subscriptable\n"
     ]
    },
    {
     "name": "stderr",
     "output_type": "stream",
     "text": [
      "Pandas Apply:  36%|█████████▋                 | 180/500 [00:17<00:32,  9.97it/s]"
     ]
    },
    {
     "name": "stdout",
     "output_type": "stream",
     "text": [
      "Error for GOOGL: 'NoneType' object is not subscriptable\n",
      "Error for GPC: 'NoneType' object is not subscriptable\n",
      "Error for GPN: 'NoneType' object is not subscriptable\n"
     ]
    },
    {
     "name": "stderr",
     "output_type": "stream",
     "text": [
      "Pandas Apply:  37%|█████████▉                 | 184/500 [00:18<00:30, 10.42it/s]"
     ]
    },
    {
     "name": "stdout",
     "output_type": "stream",
     "text": [
      "Error for GRMN: 'NoneType' object is not subscriptable\n",
      "Error for GS: 'NoneType' object is not subscriptable\n",
      "Error for GWW: 'NoneType' object is not subscriptable\n"
     ]
    },
    {
     "name": "stderr",
     "output_type": "stream",
     "text": [
      "Pandas Apply:  37%|██████████                 | 186/500 [00:18<00:30, 10.35it/s]"
     ]
    },
    {
     "name": "stdout",
     "output_type": "stream",
     "text": [
      "Error for HAL: 'NoneType' object is not subscriptable\n",
      "Error for HAS: 'NoneType' object is not subscriptable\n",
      "Error for HBAN: 'NoneType' object is not subscriptable\n"
     ]
    },
    {
     "name": "stderr",
     "output_type": "stream",
     "text": [
      "Pandas Apply:  38%|██████████▎                | 190/500 [00:18<00:29, 10.39it/s]"
     ]
    },
    {
     "name": "stdout",
     "output_type": "stream",
     "text": [
      "Error for HBI: 'NoneType' object is not subscriptable\n",
      "Error for HCA: 'NoneType' object is not subscriptable\n",
      "Error for HD: 'NoneType' object is not subscriptable\n"
     ]
    },
    {
     "name": "stderr",
     "output_type": "stream",
     "text": [
      "Pandas Apply:  38%|██████████▎                | 192/500 [00:18<00:30, 10.08it/s]"
     ]
    },
    {
     "name": "stdout",
     "output_type": "stream",
     "text": [
      "Error for HES: 'NoneType' object is not subscriptable\n",
      "Error for HIG: 'NoneType' object is not subscriptable\n"
     ]
    },
    {
     "name": "stderr",
     "output_type": "stream",
     "text": [
      "Pandas Apply:  39%|██████████▍                | 194/500 [00:19<00:29, 10.21it/s]"
     ]
    },
    {
     "name": "stdout",
     "output_type": "stream",
     "text": [
      "Error for HII: 'NoneType' object is not subscriptable\n",
      "Error for HLT: 'NoneType' object is not subscriptable\n",
      "Error for HOG: 'NoneType' object is not subscriptable\n"
     ]
    },
    {
     "name": "stderr",
     "output_type": "stream",
     "text": [
      "Pandas Apply:  40%|██████████▋                | 198/500 [00:19<00:28, 10.50it/s]"
     ]
    },
    {
     "name": "stdout",
     "output_type": "stream",
     "text": [
      "Error for HOLX: 'NoneType' object is not subscriptable\n",
      "Error for HON: 'NoneType' object is not subscriptable\n",
      "Error for HP: 'NoneType' object is not subscriptable\n"
     ]
    },
    {
     "name": "stderr",
     "output_type": "stream",
     "text": [
      "Pandas Apply:  40%|██████████▊                | 200/500 [00:19<00:27, 10.75it/s]"
     ]
    },
    {
     "name": "stdout",
     "output_type": "stream",
     "text": [
      "Error for HPE: 'NoneType' object is not subscriptable\n",
      "Error for HPQ: 'NoneType' object is not subscriptable\n",
      "Error for HRB: 'NoneType' object is not subscriptable\n"
     ]
    },
    {
     "name": "stderr",
     "output_type": "stream",
     "text": [
      "Pandas Apply:  41%|███████████                | 204/500 [00:19<00:27, 10.82it/s]"
     ]
    },
    {
     "name": "stdout",
     "output_type": "stream",
     "text": [
      "Error for HRL: 'NoneType' object is not subscriptable\n",
      "Error for HSIC: 'NoneType' object is not subscriptable\n",
      "Error for HST: 'NoneType' object is not subscriptable\n"
     ]
    },
    {
     "name": "stderr",
     "output_type": "stream",
     "text": [
      "Pandas Apply:  41%|███████████                | 206/500 [00:20<00:27, 10.58it/s]"
     ]
    },
    {
     "name": "stdout",
     "output_type": "stream",
     "text": [
      "Error for HSY: 'NoneType' object is not subscriptable\n",
      "Error for HUM: 'NoneType' object is not subscriptable\n"
     ]
    },
    {
     "name": "stderr",
     "output_type": "stream",
     "text": [
      "Pandas Apply:  42%|███████████▏               | 208/500 [00:20<00:30,  9.68it/s]"
     ]
    },
    {
     "name": "stdout",
     "output_type": "stream",
     "text": [
      "Error for IBM: 'NoneType' object is not subscriptable\n",
      "Error for ICE: 'NoneType' object is not subscriptable\n"
     ]
    },
    {
     "name": "stderr",
     "output_type": "stream",
     "text": [
      "Pandas Apply:  42%|███████████▎               | 210/500 [00:20<00:29,  9.96it/s]"
     ]
    },
    {
     "name": "stdout",
     "output_type": "stream",
     "text": [
      "Error for IDXX: 'NoneType' object is not subscriptable\n",
      "Error for IFF: 'NoneType' object is not subscriptable\n"
     ]
    },
    {
     "name": "stderr",
     "output_type": "stream",
     "text": [
      "Pandas Apply:  42%|███████████▍               | 212/500 [00:20<00:30,  9.42it/s]"
     ]
    },
    {
     "name": "stdout",
     "output_type": "stream",
     "text": [
      "Error for ILMN: 'NoneType' object is not subscriptable\n",
      "Error for INCY: 'NoneType' object is not subscriptable\n"
     ]
    },
    {
     "name": "stderr",
     "output_type": "stream",
     "text": [
      "Pandas Apply:  43%|███████████▌               | 214/500 [00:21<00:30,  9.34it/s]"
     ]
    },
    {
     "name": "stdout",
     "output_type": "stream",
     "text": [
      "Error for INTC: 'NoneType' object is not subscriptable\n",
      "Error for INTU: 'NoneType' object is not subscriptable\n"
     ]
    },
    {
     "name": "stderr",
     "output_type": "stream",
     "text": [
      "Pandas Apply:  43%|███████████▋               | 217/500 [00:21<00:28,  9.79it/s]"
     ]
    },
    {
     "name": "stdout",
     "output_type": "stream",
     "text": [
      "Error for IP: 'NoneType' object is not subscriptable\n",
      "Error for IPG: 'NoneType' object is not subscriptable\n",
      "Error for IPGP: 'NoneType' object is not subscriptable\n"
     ]
    },
    {
     "name": "stderr",
     "output_type": "stream",
     "text": [
      "Exception ignored from cffi callback <function buffer_callback at 0x109e4b560>:\n",
      "Traceback (most recent call last):\n",
      "  File \"/Users/chloecurtis/.pyenv/versions/3.12.9/envs/corporate-sentiment-tracker/lib/python3.12/site-packages/curl_cffi/curl.py\", line 67, in buffer_callback\n",
      "    @ffi.def_extern()\n",
      "    \n",
      "KeyboardInterrupt: \n",
      "Pandas Apply:  44%|███████████▉               | 221/500 [00:21<00:24, 11.48it/s]"
     ]
    },
    {
     "name": "stdout",
     "output_type": "stream",
     "text": [
      "Error for IQV: 'NoneType' object is not subscriptable\n",
      "Error for IR: Failed to perform, curl: (23) Failure writing output to destination, passed 13 returned 0. See https://curl.se/libcurl/c/libcurl-errors.html first for more details.\n",
      "Error for IRM: 'NoneType' object is not subscriptable\n",
      "Error for ISRG: 'NoneType' object is not subscriptable\n"
     ]
    },
    {
     "name": "stderr",
     "output_type": "stream",
     "text": [
      "Pandas Apply:  45%|████████████               | 223/500 [00:21<00:24, 11.14it/s]"
     ]
    },
    {
     "name": "stdout",
     "output_type": "stream",
     "text": [
      "Error for IT: 'NoneType' object is not subscriptable\n",
      "Error for ITW: 'NoneType' object is not subscriptable\n",
      "Error for IVZ: 'NoneType' object is not subscriptable\n"
     ]
    },
    {
     "name": "stderr",
     "output_type": "stream",
     "text": [
      "Pandas Apply:  45%|████████████▏              | 225/500 [00:21<00:24, 11.09it/s]"
     ]
    },
    {
     "name": "stdout",
     "output_type": "stream",
     "text": [
      "Error for JBHT: 'NoneType' object is not subscriptable\n",
      "Error for JCI: 'NoneType' object is not subscriptable\n"
     ]
    },
    {
     "name": "stderr",
     "output_type": "stream",
     "text": [
      "Pandas Apply:  46%|████████████▎              | 229/500 [00:22<00:25, 10.59it/s]"
     ]
    },
    {
     "name": "stdout",
     "output_type": "stream",
     "text": [
      "Error for JEF: 'NoneType' object is not subscriptable\n",
      "Error for JKHY: 'NoneType' object is not subscriptable\n",
      "Error for JNJ: 'NoneType' object is not subscriptable\n"
     ]
    },
    {
     "name": "stderr",
     "output_type": "stream",
     "text": [
      "Pandas Apply:  46%|████████████▍              | 231/500 [00:22<00:26, 10.28it/s]"
     ]
    },
    {
     "name": "stdout",
     "output_type": "stream",
     "text": [
      "Error for JNPR: 'NoneType' object is not subscriptable\n",
      "Error for JPM: 'NoneType' object is not subscriptable\n",
      "Error for JWN: 'NoneType' object is not subscriptable\n"
     ]
    },
    {
     "name": "stderr",
     "output_type": "stream",
     "text": [
      "Exception ignored from cffi callback <function buffer_callback at 0x109e4b560>:\n",
      "Traceback (most recent call last):\n",
      "  File \"/Users/chloecurtis/.pyenv/versions/3.12.9/envs/corporate-sentiment-tracker/lib/python3.12/site-packages/curl_cffi/curl.py\", line 67, in buffer_callback\n",
      "    @ffi.def_extern()\n",
      "    \n",
      "KeyboardInterrupt: \n",
      "Pandas Apply:  47%|████████████▌              | 233/500 [00:22<00:24, 10.73it/s]"
     ]
    },
    {
     "name": "stdout",
     "output_type": "stream",
     "text": [
      "Error for K: Failed to perform, curl: (23) Failure writing output to destination, passed 13 returned 0. See https://curl.se/libcurl/c/libcurl-errors.html first for more details.\n",
      "Error for KEY: 'NoneType' object is not subscriptable\n"
     ]
    },
    {
     "name": "stderr",
     "output_type": "stream",
     "text": [
      "Pandas Apply:  47%|████████████▋              | 236/500 [00:23<00:28,  9.28it/s]"
     ]
    },
    {
     "name": "stdout",
     "output_type": "stream",
     "text": [
      "Error for KEYS: 'NoneType' object is not subscriptable\n",
      "Error for KHC: 'NoneType' object is not subscriptable\n"
     ]
    },
    {
     "name": "stderr",
     "output_type": "stream",
     "text": [
      "Pandas Apply:  48%|████████████▊              | 238/500 [00:23<00:27,  9.39it/s]"
     ]
    },
    {
     "name": "stdout",
     "output_type": "stream",
     "text": [
      "Error for KIM: 'NoneType' object is not subscriptable\n",
      "Error for KLAC: 'NoneType' object is not subscriptable\n"
     ]
    },
    {
     "name": "stderr",
     "output_type": "stream",
     "text": [
      "Pandas Apply:  48%|████████████▉              | 240/500 [00:23<00:27,  9.45it/s]"
     ]
    },
    {
     "name": "stdout",
     "output_type": "stream",
     "text": [
      "Error for KMB: 'NoneType' object is not subscriptable\n",
      "Error for KMI: 'NoneType' object is not subscriptable\n"
     ]
    },
    {
     "name": "stderr",
     "output_type": "stream",
     "text": [
      "Pandas Apply:  49%|█████████████              | 243/500 [00:23<00:25, 10.06it/s]"
     ]
    },
    {
     "name": "stdout",
     "output_type": "stream",
     "text": [
      "Error for KMX: 'NoneType' object is not subscriptable\n",
      "Error for KO: 'NoneType' object is not subscriptable\n",
      "Error for KR: 'NoneType' object is not subscriptable\n"
     ]
    },
    {
     "name": "stderr",
     "output_type": "stream",
     "text": [
      "Pandas Apply:  49%|█████████████▏             | 245/500 [00:24<00:24, 10.48it/s]"
     ]
    },
    {
     "name": "stdout",
     "output_type": "stream",
     "text": [
      "Error for KSS: 'NoneType' object is not subscriptable\n",
      "Error for L: 'NoneType' object is not subscriptable\n",
      "Error for LB: 'NoneType' object is not subscriptable\n"
     ]
    },
    {
     "name": "stderr",
     "output_type": "stream",
     "text": [
      "Pandas Apply:  50%|█████████████▍             | 249/500 [00:24<00:24, 10.44it/s]"
     ]
    },
    {
     "name": "stdout",
     "output_type": "stream",
     "text": [
      "Error for LEG: 'NoneType' object is not subscriptable\n",
      "Error for LEN: 'NoneType' object is not subscriptable\n",
      "Error for LH: 'NoneType' object is not subscriptable\n"
     ]
    },
    {
     "name": "stderr",
     "output_type": "stream",
     "text": [
      "Pandas Apply:  50%|█████████████▌             | 251/500 [00:24<00:23, 10.74it/s]"
     ]
    },
    {
     "name": "stdout",
     "output_type": "stream",
     "text": [
      "Error for LIN: 'NoneType' object is not subscriptable\n",
      "Error for LKQ: 'NoneType' object is not subscriptable\n",
      "Error for LLY: 'NoneType' object is not subscriptable\n"
     ]
    },
    {
     "name": "stderr",
     "output_type": "stream",
     "text": [
      "Pandas Apply:  51%|█████████████▊             | 255/500 [00:24<00:22, 10.99it/s]"
     ]
    },
    {
     "name": "stdout",
     "output_type": "stream",
     "text": [
      "Error for LMT: 'NoneType' object is not subscriptable\n",
      "Error for LNC: 'NoneType' object is not subscriptable\n",
      "Error for LNT: 'NoneType' object is not subscriptable\n"
     ]
    },
    {
     "name": "stderr",
     "output_type": "stream",
     "text": [
      "Pandas Apply:  51%|█████████████▉             | 257/500 [00:25<00:23, 10.15it/s]"
     ]
    },
    {
     "name": "stdout",
     "output_type": "stream",
     "text": [
      "Error for LOW: 'NoneType' object is not subscriptable\n",
      "Error for LRCX: 'NoneType' object is not subscriptable\n"
     ]
    },
    {
     "name": "stderr",
     "output_type": "stream",
     "text": [
      "Pandas Apply:  52%|█████████████▉             | 259/500 [00:25<00:25,  9.38it/s]"
     ]
    },
    {
     "name": "stdout",
     "output_type": "stream",
     "text": [
      "Error for LUV: 'NoneType' object is not subscriptable\n",
      "Error for LW: 'NoneType' object is not subscriptable\n",
      "Error for LYB: 'NoneType' object is not subscriptable\n"
     ]
    },
    {
     "name": "stderr",
     "output_type": "stream",
     "text": [
      "Pandas Apply:  52%|██████████████             | 261/500 [00:25<00:24,  9.75it/s]"
     ]
    },
    {
     "name": "stdout",
     "output_type": "stream",
     "text": [
      "Error for M: 'NoneType' object is not subscriptable\n",
      "Error for MA: 'NoneType' object is not subscriptable\n"
     ]
    },
    {
     "name": "stderr",
     "output_type": "stream",
     "text": [
      "Pandas Apply:  53%|██████████████▎            | 265/500 [00:26<00:25,  9.08it/s]"
     ]
    },
    {
     "name": "stdout",
     "output_type": "stream",
     "text": [
      "Error for MAA: 'NoneType' object is not subscriptable\n",
      "Error for MAC: 'NoneType' object is not subscriptable\n",
      "Error for MAR: 'NoneType' object is not subscriptable\n"
     ]
    },
    {
     "name": "stderr",
     "output_type": "stream",
     "text": [
      "Pandas Apply:  53%|██████████████▍            | 267/500 [00:26<00:24,  9.65it/s]"
     ]
    },
    {
     "name": "stdout",
     "output_type": "stream",
     "text": [
      "Error for MAS: 'NoneType' object is not subscriptable\n",
      "Error for MAT: 'NoneType' object is not subscriptable\n",
      "Error for MCD: 'NoneType' object is not subscriptable\n"
     ]
    },
    {
     "name": "stderr",
     "output_type": "stream",
     "text": [
      "Pandas Apply:  54%|██████████████▋            | 271/500 [00:26<00:23,  9.93it/s]"
     ]
    },
    {
     "name": "stdout",
     "output_type": "stream",
     "text": [
      "Error for MCHP: 'NoneType' object is not subscriptable\n",
      "Error for MCK: 'NoneType' object is not subscriptable\n",
      "Error for MCO: 'NoneType' object is not subscriptable\n"
     ]
    },
    {
     "name": "stderr",
     "output_type": "stream",
     "text": [
      "Pandas Apply:  55%|██████████████▋            | 273/500 [00:26<00:24,  9.38it/s]"
     ]
    },
    {
     "name": "stdout",
     "output_type": "stream",
     "text": [
      "Error for MDLZ: 'NoneType' object is not subscriptable\n",
      "Error for MDT: 'NoneType' object is not subscriptable\n"
     ]
    },
    {
     "name": "stderr",
     "output_type": "stream",
     "text": [
      "Pandas Apply:  55%|██████████████▉            | 276/500 [00:27<00:22,  9.96it/s]"
     ]
    },
    {
     "name": "stdout",
     "output_type": "stream",
     "text": [
      "Error for MET: 'NoneType' object is not subscriptable\n",
      "Error for MGM: 'NoneType' object is not subscriptable\n",
      "Error for MHK: 'NoneType' object is not subscriptable\n"
     ]
    },
    {
     "name": "stderr",
     "output_type": "stream",
     "text": [
      "Pandas Apply:  56%|███████████████            | 278/500 [00:27<00:22,  9.94it/s]"
     ]
    },
    {
     "name": "stdout",
     "output_type": "stream",
     "text": [
      "Error for MKC: 'NoneType' object is not subscriptable\n",
      "Error for MLM: 'NoneType' object is not subscriptable\n",
      "Error for MMC: 'NoneType' object is not subscriptable\n"
     ]
    },
    {
     "name": "stderr",
     "output_type": "stream",
     "text": [
      "Pandas Apply:  56%|███████████████            | 280/500 [00:27<00:21, 10.35it/s]"
     ]
    },
    {
     "name": "stdout",
     "output_type": "stream",
     "text": [
      "Error for MMM: 'NoneType' object is not subscriptable\n",
      "Error for MNST: 'NoneType' object is not subscriptable\n",
      "Error for MO: 'NoneType' object is not subscriptable\n"
     ]
    },
    {
     "name": "stderr",
     "output_type": "stream",
     "text": [
      "Pandas Apply:  57%|███████████████▎           | 284/500 [00:27<00:21, 10.02it/s]"
     ]
    },
    {
     "name": "stdout",
     "output_type": "stream",
     "text": [
      "Error for MOS: 'NoneType' object is not subscriptable\n",
      "Error for MPC: 'NoneType' object is not subscriptable\n"
     ]
    },
    {
     "name": "stderr",
     "output_type": "stream",
     "text": [
      "Pandas Apply:  57%|███████████████▍           | 286/500 [00:28<00:21, 10.01it/s]"
     ]
    },
    {
     "name": "stdout",
     "output_type": "stream",
     "text": [
      "Error for MRK: 'NoneType' object is not subscriptable\n",
      "Error for MS: 'NoneType' object is not subscriptable\n",
      "Error for MSCI: 'NoneType' object is not subscriptable\n"
     ]
    },
    {
     "name": "stderr",
     "output_type": "stream",
     "text": [
      "Pandas Apply:  58%|███████████████▋           | 290/500 [00:28<00:20, 10.34it/s]"
     ]
    },
    {
     "name": "stdout",
     "output_type": "stream",
     "text": [
      "Error for MSFT: 'NoneType' object is not subscriptable\n",
      "Error for MSI: 'NoneType' object is not subscriptable\n",
      "Error for MTB: 'NoneType' object is not subscriptable\n"
     ]
    },
    {
     "name": "stderr",
     "output_type": "stream",
     "text": [
      "Pandas Apply:  58%|███████████████▊           | 292/500 [00:28<00:19, 10.53it/s]"
     ]
    },
    {
     "name": "stdout",
     "output_type": "stream",
     "text": [
      "Error for MTD: 'NoneType' object is not subscriptable\n",
      "Error for MU: 'NoneType' object is not subscriptable\n",
      "Error for NCLH: 'NoneType' object is not subscriptable\n"
     ]
    },
    {
     "name": "stderr",
     "output_type": "stream",
     "text": [
      "Pandas Apply:  59%|███████████████▉           | 294/500 [00:28<00:19, 10.59it/s]"
     ]
    },
    {
     "name": "stdout",
     "output_type": "stream",
     "text": [
      "Error for NDAQ: 'NoneType' object is not subscriptable\n",
      "Error for NEE: 'NoneType' object is not subscriptable\n"
     ]
    },
    {
     "name": "stderr",
     "output_type": "stream",
     "text": [
      "Pandas Apply:  60%|████████████████           | 298/500 [00:29<00:19, 10.46it/s]"
     ]
    },
    {
     "name": "stdout",
     "output_type": "stream",
     "text": [
      "Error for NEM: 'NoneType' object is not subscriptable\n",
      "Error for NFLX: 'NoneType' object is not subscriptable\n",
      "Error for NI: 'NoneType' object is not subscriptable\n"
     ]
    },
    {
     "name": "stderr",
     "output_type": "stream",
     "text": [
      "Pandas Apply:  60%|████████████████▏          | 300/500 [00:29<00:19, 10.30it/s]"
     ]
    },
    {
     "name": "stdout",
     "output_type": "stream",
     "text": [
      "Error for NKE: 'NoneType' object is not subscriptable\n",
      "Error for NKTR: 'NoneType' object is not subscriptable\n",
      "Error for NOC: 'NoneType' object is not subscriptable\n"
     ]
    },
    {
     "name": "stderr",
     "output_type": "stream",
     "text": [
      "Pandas Apply:  61%|████████████████▍          | 304/500 [00:29<00:18, 10.63it/s]"
     ]
    },
    {
     "name": "stdout",
     "output_type": "stream",
     "text": [
      "Error for NOV: 'NoneType' object is not subscriptable\n",
      "Error for NRG: 'NoneType' object is not subscriptable\n",
      "Error for NSC: 'NoneType' object is not subscriptable\n"
     ]
    },
    {
     "name": "stderr",
     "output_type": "stream",
     "text": [
      "Pandas Apply:  61%|████████████████▌          | 306/500 [00:30<00:18, 10.32it/s]"
     ]
    },
    {
     "name": "stdout",
     "output_type": "stream",
     "text": [
      "Error for NTAP: 'NoneType' object is not subscriptable\n",
      "Error for NTRS: 'NoneType' object is not subscriptable\n",
      "Error for NUE: 'NoneType' object is not subscriptable\n"
     ]
    },
    {
     "name": "stderr",
     "output_type": "stream",
     "text": [
      "Pandas Apply:  62%|████████████████▋          | 310/500 [00:30<00:17, 10.77it/s]"
     ]
    },
    {
     "name": "stdout",
     "output_type": "stream",
     "text": [
      "Error for NVDA: 'NoneType' object is not subscriptable\n",
      "Error for NWL: 'NoneType' object is not subscriptable\n",
      "Error for NWS: 'NoneType' object is not subscriptable\n"
     ]
    },
    {
     "name": "stderr",
     "output_type": "stream",
     "text": [
      "Pandas Apply:  62%|████████████████▊          | 312/500 [00:30<00:17, 10.84it/s]"
     ]
    },
    {
     "name": "stdout",
     "output_type": "stream",
     "text": [
      "Error for NWSA: 'NoneType' object is not subscriptable\n",
      "Error for O: 'NoneType' object is not subscriptable\n",
      "Error for OKE: 'NoneType' object is not subscriptable\n"
     ]
    },
    {
     "name": "stderr",
     "output_type": "stream",
     "text": [
      "Pandas Apply:  63%|█████████████████          | 316/500 [00:30<00:16, 11.20it/s]"
     ]
    },
    {
     "name": "stdout",
     "output_type": "stream",
     "text": [
      "Error for OMC: 'NoneType' object is not subscriptable\n",
      "Error for ORCL: 'NoneType' object is not subscriptable\n",
      "Error for ORLY: 'NoneType' object is not subscriptable\n"
     ]
    },
    {
     "name": "stderr",
     "output_type": "stream",
     "text": [
      "Pandas Apply:  64%|█████████████████▏         | 318/500 [00:31<00:16, 11.23it/s]"
     ]
    },
    {
     "name": "stdout",
     "output_type": "stream",
     "text": [
      "Error for OXY: 'NoneType' object is not subscriptable\n",
      "Error for PAYX: 'NoneType' object is not subscriptable\n",
      "Error for PCAR: 'NoneType' object is not subscriptable\n"
     ]
    },
    {
     "name": "stderr",
     "output_type": "stream",
     "text": [
      "Pandas Apply:  64%|█████████████████▍         | 322/500 [00:31<00:15, 11.15it/s]"
     ]
    },
    {
     "name": "stdout",
     "output_type": "stream",
     "text": [
      "Error for PEG: 'NoneType' object is not subscriptable\n",
      "Error for PEP: 'NoneType' object is not subscriptable\n",
      "Error for PFE: 'NoneType' object is not subscriptable\n"
     ]
    },
    {
     "name": "stderr",
     "output_type": "stream",
     "text": [
      "Pandas Apply:  65%|█████████████████▍         | 324/500 [00:31<00:16, 10.98it/s]"
     ]
    },
    {
     "name": "stdout",
     "output_type": "stream",
     "text": [
      "Error for PFG: 'NoneType' object is not subscriptable\n",
      "Error for PG: 'NoneType' object is not subscriptable\n"
     ]
    },
    {
     "name": "stderr",
     "output_type": "stream",
     "text": [
      "Pandas Apply:  65%|█████████████████▌         | 326/500 [00:31<00:17, 10.17it/s]"
     ]
    },
    {
     "name": "stdout",
     "output_type": "stream",
     "text": [
      "Error for PGR: 'NoneType' object is not subscriptable\n",
      "Error for PH: 'NoneType' object is not subscriptable\n",
      "Error for PHM: 'NoneType' object is not subscriptable\n"
     ]
    },
    {
     "name": "stderr",
     "output_type": "stream",
     "text": [
      "Pandas Apply:  66%|█████████████████▋         | 328/500 [00:32<00:17,  9.95it/s]"
     ]
    },
    {
     "name": "stdout",
     "output_type": "stream",
     "text": [
      "Error for PKG: 'NoneType' object is not subscriptable\n",
      "Error for PLD: 'NoneType' object is not subscriptable\n"
     ]
    },
    {
     "name": "stderr",
     "output_type": "stream",
     "text": [
      "Pandas Apply:  66%|█████████████████▊         | 331/500 [00:32<00:17,  9.68it/s]"
     ]
    },
    {
     "name": "stdout",
     "output_type": "stream",
     "text": [
      "Error for PM: 'NoneType' object is not subscriptable\n",
      "Error for PNC: 'NoneType' object is not subscriptable\n",
      "Error for PNR: 'NoneType' object is not subscriptable\n"
     ]
    },
    {
     "name": "stderr",
     "output_type": "stream",
     "text": [
      "Pandas Apply:  67%|█████████████████▉         | 333/500 [00:32<00:16, 10.10it/s]Exception ignored from cffi callback <function buffer_callback at 0x109e4b560>:\n",
      "Traceback (most recent call last):\n",
      "  File \"/Users/chloecurtis/.pyenv/versions/3.12.9/envs/corporate-sentiment-tracker/lib/python3.12/site-packages/curl_cffi/curl.py\", line 67, in buffer_callback\n",
      "    @ffi.def_extern()\n",
      "    \n",
      "KeyboardInterrupt: \n",
      "Pandas Apply:  67%|██████████████████         | 335/500 [00:32<00:14, 11.35it/s]"
     ]
    },
    {
     "name": "stdout",
     "output_type": "stream",
     "text": [
      "Error for PNW: 'NoneType' object is not subscriptable\n",
      "Error for PPG: Failed to perform, curl: (23) Failure writing output to destination, passed 13 returned 0. See https://curl.se/libcurl/c/libcurl-errors.html first for more details.\n",
      "Error for PPL: 'NoneType' object is not subscriptable\n"
     ]
    },
    {
     "name": "stderr",
     "output_type": "stream",
     "text": [
      "Pandas Apply:  67%|██████████████████▏        | 337/500 [00:32<00:15, 10.66it/s]"
     ]
    },
    {
     "name": "stdout",
     "output_type": "stream",
     "text": [
      "Error for PRGO: 'NoneType' object is not subscriptable\n",
      "Error for PRU: 'NoneType' object is not subscriptable\n"
     ]
    },
    {
     "name": "stderr",
     "output_type": "stream",
     "text": [
      "Pandas Apply:  68%|██████████████████▎        | 339/500 [00:33<00:15, 10.27it/s]"
     ]
    },
    {
     "name": "stdout",
     "output_type": "stream",
     "text": [
      "Error for PSA: 'NoneType' object is not subscriptable\n",
      "Error for PSX: 'NoneType' object is not subscriptable\n"
     ]
    },
    {
     "name": "stderr",
     "output_type": "stream",
     "text": [
      "Pandas Apply:  68%|██████████████████▍        | 341/500 [00:33<00:16,  9.87it/s]"
     ]
    },
    {
     "name": "stdout",
     "output_type": "stream",
     "text": [
      "Error for PVH: 'NoneType' object is not subscriptable\n",
      "Error for PWR: 'NoneType' object is not subscriptable\n",
      "Error for PYPL: 'NoneType' object is not subscriptable\n"
     ]
    },
    {
     "name": "stderr",
     "output_type": "stream",
     "text": [
      "Pandas Apply:  69%|██████████████████▋        | 345/500 [00:33<00:15,  9.99it/s]"
     ]
    },
    {
     "name": "stdout",
     "output_type": "stream",
     "text": [
      "Error for QCOM: 'NoneType' object is not subscriptable\n",
      "Error for QRVO: 'NoneType' object is not subscriptable\n",
      "Error for RCL: 'NoneType' object is not subscriptable\n"
     ]
    },
    {
     "name": "stderr",
     "output_type": "stream",
     "text": [
      "Pandas Apply:  69%|██████████████████▋        | 347/500 [00:33<00:15, 10.12it/s]"
     ]
    },
    {
     "name": "stdout",
     "output_type": "stream",
     "text": [
      "Error for REG: 'NoneType' object is not subscriptable\n",
      "Error for REGN: 'NoneType' object is not subscriptable\n",
      "Error for RF: 'NoneType' object is not subscriptable\n"
     ]
    },
    {
     "name": "stderr",
     "output_type": "stream",
     "text": [
      "Pandas Apply:  70%|██████████████████▉        | 351/500 [00:34<00:13, 10.76it/s]"
     ]
    },
    {
     "name": "stdout",
     "output_type": "stream",
     "text": [
      "Error for RHI: 'NoneType' object is not subscriptable\n",
      "Error for RJF: 'NoneType' object is not subscriptable\n",
      "Error for RL: 'NoneType' object is not subscriptable\n"
     ]
    },
    {
     "name": "stderr",
     "output_type": "stream",
     "text": [
      "Pandas Apply:  71%|███████████████████        | 353/500 [00:34<00:13, 10.52it/s]"
     ]
    },
    {
     "name": "stdout",
     "output_type": "stream",
     "text": [
      "Error for RMD: 'NoneType' object is not subscriptable\n",
      "Error for ROK: 'NoneType' object is not subscriptable\n",
      "Error for ROL: 'NoneType' object is not subscriptable\n"
     ]
    },
    {
     "name": "stderr",
     "output_type": "stream",
     "text": [
      "Pandas Apply:  71%|███████████████████▎       | 357/500 [00:34<00:13, 10.60it/s]"
     ]
    },
    {
     "name": "stdout",
     "output_type": "stream",
     "text": [
      "Error for ROP: 'NoneType' object is not subscriptable\n",
      "Error for ROST: 'NoneType' object is not subscriptable\n",
      "Error for RSG: 'NoneType' object is not subscriptable\n"
     ]
    },
    {
     "name": "stderr",
     "output_type": "stream",
     "text": [
      "Pandas Apply:  72%|███████████████████▍       | 359/500 [00:35<00:13, 10.40it/s]"
     ]
    },
    {
     "name": "stdout",
     "output_type": "stream",
     "text": [
      "Error for SBAC: 'NoneType' object is not subscriptable\n",
      "Error for SBUX: 'NoneType' object is not subscriptable\n",
      "Error for SCHW: 'NoneType' object is not subscriptable\n"
     ]
    },
    {
     "name": "stderr",
     "output_type": "stream",
     "text": [
      "Pandas Apply:  73%|███████████████████▌       | 363/500 [00:35<00:12, 10.72it/s]"
     ]
    },
    {
     "name": "stdout",
     "output_type": "stream",
     "text": [
      "Error for SEE: 'NoneType' object is not subscriptable\n",
      "Error for SHW: 'NoneType' object is not subscriptable\n",
      "Error for SJM: 'NoneType' object is not subscriptable\n"
     ]
    },
    {
     "name": "stderr",
     "output_type": "stream",
     "text": [
      "Pandas Apply:  73%|███████████████████▋       | 365/500 [00:35<00:12, 10.78it/s]"
     ]
    },
    {
     "name": "stdout",
     "output_type": "stream",
     "text": [
      "Error for SLB: 'NoneType' object is not subscriptable\n",
      "Error for SLG: 'NoneType' object is not subscriptable\n"
     ]
    },
    {
     "name": "stderr",
     "output_type": "stream",
     "text": [
      "Pandas Apply:  73%|███████████████████▊       | 367/500 [00:35<00:13, 10.06it/s]"
     ]
    },
    {
     "name": "stdout",
     "output_type": "stream",
     "text": [
      "Error for SNA: 'NoneType' object is not subscriptable\n",
      "Error for SNPS: 'NoneType' object is not subscriptable\n"
     ]
    },
    {
     "name": "stderr",
     "output_type": "stream",
     "text": [
      "Pandas Apply:  74%|███████████████████▉       | 369/500 [00:36<00:13,  9.69it/s]"
     ]
    },
    {
     "name": "stdout",
     "output_type": "stream",
     "text": [
      "Error for SO: 'NoneType' object is not subscriptable\n",
      "Error for SPG: 'NoneType' object is not subscriptable\n"
     ]
    },
    {
     "name": "stderr",
     "output_type": "stream",
     "text": [
      "Pandas Apply:  74%|████████████████████       | 372/500 [00:36<00:13,  9.80it/s]"
     ]
    },
    {
     "name": "stdout",
     "output_type": "stream",
     "text": [
      "Error for SPGI: 'NoneType' object is not subscriptable\n",
      "Error for SRE: 'NoneType' object is not subscriptable\n",
      "Error for STI: 'NoneType' object is not subscriptable\n"
     ]
    },
    {
     "name": "stderr",
     "output_type": "stream",
     "text": [
      "Pandas Apply:  75%|████████████████████▏      | 374/500 [00:36<00:13,  9.65it/s]"
     ]
    },
    {
     "name": "stdout",
     "output_type": "stream",
     "text": [
      "Error for STT: 'NoneType' object is not subscriptable\n",
      "Error for STX: 'NoneType' object is not subscriptable\n"
     ]
    },
    {
     "name": "stderr",
     "output_type": "stream",
     "text": [
      "Pandas Apply:  75%|████████████████████▎      | 376/500 [00:36<00:12, 10.01it/s]"
     ]
    },
    {
     "name": "stdout",
     "output_type": "stream",
     "text": [
      "Error for STZ: 'NoneType' object is not subscriptable\n",
      "Error for SWK: 'NoneType' object is not subscriptable\n",
      "Error for SWKS: 'NoneType' object is not subscriptable\n"
     ]
    },
    {
     "name": "stderr",
     "output_type": "stream",
     "text": [
      "Pandas Apply:  76%|████████████████████▌      | 380/500 [00:37<00:11, 10.10it/s]"
     ]
    },
    {
     "name": "stdout",
     "output_type": "stream",
     "text": [
      "Error for SYF: 'NoneType' object is not subscriptable\n",
      "Error for SYK: 'NoneType' object is not subscriptable\n",
      "Error for SYY: 'NoneType' object is not subscriptable\n"
     ]
    }
   ],
   "source": [
    "# ---------- 3. Main loop ----------\n",
    "df['quarter_end'] = pd.to_datetime(df['quarter_end'], dayfirst=True)\n",
    "output_file = \"earnings_with_prices.csv\"\n",
    "df_master = pd.DataFrame()\n",
    "batch_size = 500\n",
    "\n",
    "for i in range(0, len(df), batch_size):\n",
    "    print(f\"Processing rows {i} to {i + batch_size - 1}\")\n",
    "    df_batch = df.iloc[i:i+batch_size].copy()\n",
    "\n",
    "    df_batch[['earnings_date', 'prev_day_close']] = df_batch.swifter.apply(\n",
    "        lambda row: pd.Series(process_row(row['ticker'], row['quarter_end'])),\n",
    "        axis=1\n",
    "    )\n",
    "\n",
    "    df_master = pd.concat([df_master, df_batch], ignore_index=True)\n",
    "\n",
    "    # Save after each batch (overwrite)\n",
    "    df_master.to_csv(output_file, index=False)\n",
    "    print(f\"Batch saved: {output_file}\")\n"
   ]
  },
  {
   "cell_type": "code",
   "execution_count": 13,
   "id": "600dc70f-0d6d-4d29-9cca-33407aa54337",
   "metadata": {
    "execution": {
     "iopub.execute_input": "2025-06-08T16:10:15.227237Z",
     "iopub.status.busy": "2025-06-08T16:10:15.226660Z",
     "iopub.status.idle": "2025-06-08T16:10:15.469519Z",
     "shell.execute_reply": "2025-06-08T16:10:15.469150Z",
     "shell.execute_reply.started": "2025-06-08T16:10:15.227200Z"
    }
   },
   "outputs": [
    {
     "ename": "TypeError",
     "evalue": "'NoneType' object is not subscriptable",
     "output_type": "error",
     "traceback": [
      "\u001b[31m---------------------------------------------------------------------------\u001b[39m",
      "\u001b[31mTypeError\u001b[39m                                 Traceback (most recent call last)",
      "\u001b[36mCell\u001b[39m\u001b[36m \u001b[39m\u001b[32mIn[13]\u001b[39m\u001b[32m, line 6\u001b[39m\n\u001b[32m      4\u001b[39m ticker = \u001b[33m\"\u001b[39m\u001b[33mAAPL\u001b[39m\u001b[33m\"\u001b[39m\n\u001b[32m      5\u001b[39m stock = yf.Ticker(ticker)\n\u001b[32m----> \u001b[39m\u001b[32m6\u001b[39m earnings_df = \u001b[43mstock\u001b[49m\u001b[43m.\u001b[49m\u001b[43mget_earnings_dates\u001b[49m\u001b[43m(\u001b[49m\u001b[43mlimit\u001b[49m\u001b[43m=\u001b[49m\u001b[32;43m12\u001b[39;49m\u001b[43m)\u001b[49m\n\u001b[32m      8\u001b[39m \u001b[38;5;28mprint\u001b[39m(\u001b[33m\"\u001b[39m\u001b[33mearnings_df type:\u001b[39m\u001b[33m\"\u001b[39m, \u001b[38;5;28mtype\u001b[39m(earnings_df))\n\u001b[32m      9\u001b[39m \u001b[38;5;28mprint\u001b[39m(\u001b[33m\"\u001b[39m\u001b[33mearnings_df content:\u001b[39m\u001b[33m\"\u001b[39m)\n",
      "\u001b[36mFile \u001b[39m\u001b[32m~/.pyenv/versions/3.12.9/envs/corporate-sentiment-tracker/lib/python3.12/site-packages/yfinance/utils.py:99\u001b[39m, in \u001b[36mlog_indent_decorator.<locals>.wrapper\u001b[39m\u001b[34m(*args, **kwargs)\u001b[39m\n\u001b[32m     96\u001b[39m logger.debug(\u001b[33mf\u001b[39m\u001b[33m'\u001b[39m\u001b[33mEntering \u001b[39m\u001b[38;5;132;01m{\u001b[39;00mfunc.\u001b[34m__name__\u001b[39m\u001b[38;5;132;01m}\u001b[39;00m\u001b[33m()\u001b[39m\u001b[33m'\u001b[39m)\n\u001b[32m     98\u001b[39m \u001b[38;5;28;01mwith\u001b[39;00m IndentationContext():\n\u001b[32m---> \u001b[39m\u001b[32m99\u001b[39m     result = \u001b[43mfunc\u001b[49m\u001b[43m(\u001b[49m\u001b[43m*\u001b[49m\u001b[43margs\u001b[49m\u001b[43m,\u001b[49m\u001b[43m \u001b[49m\u001b[43m*\u001b[49m\u001b[43m*\u001b[49m\u001b[43mkwargs\u001b[49m\u001b[43m)\u001b[49m\n\u001b[32m    101\u001b[39m logger.debug(\u001b[33mf\u001b[39m\u001b[33m'\u001b[39m\u001b[33mExiting \u001b[39m\u001b[38;5;132;01m{\u001b[39;00mfunc.\u001b[34m__name__\u001b[39m\u001b[38;5;132;01m}\u001b[39;00m\u001b[33m()\u001b[39m\u001b[33m'\u001b[39m)\n\u001b[32m    102\u001b[39m \u001b[38;5;28;01mreturn\u001b[39;00m result\n",
      "\u001b[36mFile \u001b[39m\u001b[32m~/.pyenv/versions/3.12.9/envs/corporate-sentiment-tracker/lib/python3.12/site-packages/yfinance/base.py:754\u001b[39m, in \u001b[36mTickerBase.get_earnings_dates\u001b[39m\u001b[34m(self, limit, proxy)\u001b[39m\n\u001b[32m    751\u001b[39m json_data = response.json()\n\u001b[32m    753\u001b[39m \u001b[38;5;66;03m# Extract data\u001b[39;00m\n\u001b[32m--> \u001b[39m\u001b[32m754\u001b[39m columns = [row[\u001b[33m'\u001b[39m\u001b[33mlabel\u001b[39m\u001b[33m'\u001b[39m] \u001b[38;5;28;01mfor\u001b[39;00m row \u001b[38;5;129;01min\u001b[39;00m \u001b[43mjson_data\u001b[49m\u001b[43m[\u001b[49m\u001b[33;43m'\u001b[39;49m\u001b[33;43mfinance\u001b[39;49m\u001b[33;43m'\u001b[39;49m\u001b[43m]\u001b[49m\u001b[43m[\u001b[49m\u001b[33;43m'\u001b[39;49m\u001b[33;43mresult\u001b[39;49m\u001b[33;43m'\u001b[39;49m\u001b[43m]\u001b[49m\u001b[43m[\u001b[49m\u001b[32;43m0\u001b[39;49m\u001b[43m]\u001b[49m[\u001b[33m'\u001b[39m\u001b[33mdocuments\u001b[39m\u001b[33m'\u001b[39m][\u001b[32m0\u001b[39m][\u001b[33m'\u001b[39m\u001b[33mcolumns\u001b[39m\u001b[33m'\u001b[39m]]\n\u001b[32m    755\u001b[39m rows = json_data[\u001b[33m'\u001b[39m\u001b[33mfinance\u001b[39m\u001b[33m'\u001b[39m][\u001b[33m'\u001b[39m\u001b[33mresult\u001b[39m\u001b[33m'\u001b[39m][\u001b[32m0\u001b[39m][\u001b[33m'\u001b[39m\u001b[33mdocuments\u001b[39m\u001b[33m'\u001b[39m][\u001b[32m0\u001b[39m][\u001b[33m'\u001b[39m\u001b[33mrows\u001b[39m\u001b[33m'\u001b[39m]\n\u001b[32m    756\u001b[39m df = pd.DataFrame(rows, columns=columns)\n",
      "\u001b[31mTypeError\u001b[39m: 'NoneType' object is not subscriptable"
     ]
    }
   ],
   "source": [
    "import yfinance as yf\n",
    "import pandas as pd\n",
    "\n",
    "ticker = \"AAPL\"\n",
    "stock = yf.Ticker(ticker)\n",
    "earnings_df = stock.get_earnings_dates(limit=12)\n",
    "\n",
    "print(\"earnings_df type:\", type(earnings_df))\n",
    "print(\"earnings_df content:\")\n",
    "print(earnings_df)\n",
    "\n",
    "print(\"earnings_df index:\")\n",
    "print(earnings_df.index)\n",
    "print(\"earnings_df.index type:\", type(earnings_df.index))"
   ]
  },
  {
   "cell_type": "code",
   "execution_count": null,
   "id": "4b4c866c-da80-41df-88ce-4b48ca1b48f8",
   "metadata": {},
   "outputs": [],
   "source": []
  },
  {
   "cell_type": "code",
   "execution_count": null,
   "id": "43bff120-8de4-4579-98a9-953749a1ee0b",
   "metadata": {},
   "outputs": [],
   "source": [
    "# Add columns for earnings date and time\n",
    "df[\"EarningsDate\"] = None\n",
    "df[\"EarningsTime\"] = None\n",
    "\n",
    "for idx, row in df.iterrows():\n",
    "    ticker = row[\"ticker\"]\n",
    "    quarter = row[\"quarter\"]\n",
    "\n",
    "    try:\n",
    "        start_date, end_date = get_quarter_date_range(quarter)\n",
    "\n",
    "        # Fetch earnings dates\n",
    "        ticker_obj = yf.Ticker(ticker)\n",
    "        earnings_df = ticker_obj.get_earnings_dates(limit=40)\n",
    "\n",
    "        if earnings_df is not None and not earnings_df.empty:\n",
    "            # Localize range to match earnings_df index timezone\n",
    "            tz = earnings_df.index.tz or pytz.timezone(\"America/New_York\")\n",
    "            start_date = tz.localize(start_date)\n",
    "            end_date = tz.localize(end_date)\n",
    "\n",
    "            # Filter earnings within the range\n",
    "            filtered = earnings_df[(earnings_df.index >= start_date) & (earnings_df.index <= end_date)]\n",
    "\n",
    "            if not filtered.empty:\n",
    "                full_dt = filtered.index[0]\n",
    "                df.at[idx, \"EarningsDate\"] = full_dt  # full timestamp\n",
    "                df.at[idx, \"EarningsTime\"] = full_dt.time()  # just time (HH:MM:SS)\n",
    "            else:\n",
    "                print(f\"No earnings data for {ticker} in {quarter}\")\n",
    "    except Exception as e:\n",
    "        print(f\"Error fetching earnings for {ticker}: {e}\")"
   ]
  },
  {
   "cell_type": "code",
   "execution_count": null,
   "id": "3e86260d-fb0a-4ee3-b550-9d41a563d1bc",
   "metadata": {},
   "outputs": [],
   "source": []
  },
  {
   "cell_type": "code",
   "execution_count": null,
   "id": "7c9e8086-573b-4f7d-9da3-fd257354e5f8",
   "metadata": {},
   "outputs": [],
   "source": []
  },
  {
   "cell_type": "code",
   "execution_count": null,
   "id": "300332de-e2fb-42c3-97c0-5c44862d73ac",
   "metadata": {},
   "outputs": [],
   "source": []
  },
  {
   "cell_type": "code",
   "execution_count": 92,
   "id": "0f56e44f-6109-4721-bee1-a4954e91e673",
   "metadata": {
    "execution": {
     "iopub.execute_input": "2025-06-05T16:21:09.389172Z",
     "iopub.status.busy": "2025-06-05T16:21:09.388240Z",
     "iopub.status.idle": "2025-06-05T16:21:09.397553Z",
     "shell.execute_reply": "2025-06-05T16:21:09.396546Z",
     "shell.execute_reply.started": "2025-06-05T16:21:09.389131Z"
    }
   },
   "outputs": [],
   "source": [
    "df = pd.DataFrame(data, columns=[\"Quarter\", \"Ticker\", \"CIK\", \"Company\"])"
   ]
  },
  {
   "cell_type": "code",
   "execution_count": 93,
   "id": "35f3415c-833b-452c-8722-f188b6cb8b54",
   "metadata": {
    "execution": {
     "iopub.execute_input": "2025-06-05T16:21:09.723164Z",
     "iopub.status.busy": "2025-06-05T16:21:09.722531Z",
     "iopub.status.idle": "2025-06-05T16:21:09.741195Z",
     "shell.execute_reply": "2025-06-05T16:21:09.740358Z",
     "shell.execute_reply.started": "2025-06-05T16:21:09.723115Z"
    }
   },
   "outputs": [
    {
     "ename": "SyntaxError",
     "evalue": "expected 'except' or 'finally' block (828948841.py, line 43)",
     "output_type": "error",
     "traceback": [
      "  \u001b[36mCell\u001b[39m\u001b[36m \u001b[39m\u001b[32mIn[93]\u001b[39m\u001b[32m, line 43\u001b[39m\n\u001b[31m    \u001b[39m\u001b[31mdf[\"EarningsDate\"] = None\u001b[39m\n                             ^\n\u001b[31mSyntaxError\u001b[39m\u001b[31m:\u001b[39m expected 'except' or 'finally' block\n"
     ]
    }
   ],
   "source": [
    "def get_close_price(ticker, earnings_dt, session):\n",
    "    try:\n",
    "        ticker_obj = yf.Ticker(ticker)\n",
    "        earnings_dt = pd.Timestamp(earnings_dt)\n",
    "\n",
    "        if session == \"BMO\":\n",
    "            price_date = earnings_dt\n",
    "        elif session == \"AMC\":\n",
    "            price_date = earnings_dt + pd.Timedelta(days=1)\n",
    "        else:\n",
    "            return None\n",
    "            \n",
    "        price_data = ticker_obj.history(start=price_date, end=price_date + pd.Timedelta(days=2))\n",
    "\n",
    "        if price_date in price_data.index:\n",
    "            return price_data.loc[price_date][\"Close\"]\n",
    "        else:\n",
    "            return price_data[\"Close\"].iloc[0] if not price_data.empty else None\n",
    "\n",
    "        # Calculate CoD (Change on Day %)\n",
    "        try:\n",
    "                if session == \"BMO\":\n",
    "                    prev_day = full_dt.date() - pd.Timedelta(days=1)\n",
    "                    price_data = ticker_obj.history(start=prev_day, end=full_dt.date() + pd.Timedelta(days=1))\n",
    "                    if prev_day in price_data.index and full_dt.date() in price_data.index:\n",
    "                        prev_close = price_data.loc[prev_day][\"Close\"]\n",
    "                        today_close = price_data.loc[full_dt.date()][\"Close\"]\n",
    "                        cod = ((today_close - prev_close) / prev_close) * 100                            \n",
    "                        df.at[idx, \"CoD\"] = round(cod, 2)\n",
    "                elif session == \"AMC\":\n",
    "                    next_day = full_dt.date() + pd.Timedelta(days=1)\n",
    "                    price_data = ticker_obj.history(start=full_dt.date(), end=next_day + pd.Timedelta(days=1))\n",
    "                    if full_dt.date() in price_data.index and next_day in price_data.index:\n",
    "                        today_close = price_data.loc[full_dt.date()][\"Close\"]\n",
    "                        next_close = price_data.loc[next_day][\"Close\"]\n",
    "                        cod = ((next_close - today_close) / today_close) * 100\n",
    "                        df.at[idx, \"CoD\"] = round(cod, 2)\n",
    "                    \n",
    "        except Exception as e:\n",
    "            print(f\"Error getting close price for {ticker} on {earnings_dt}: {e}\")\n",
    "\n",
    "# Initialize columns\n",
    "df[\"EarningsDate\"] = None\n",
    "df[\"EarningsTime\"] = None\n",
    "df[\"EarningsSession\"] = None\n",
    "df[\"ClosePriceEarnings\"] = None\n",
    "df[\"Sector\"] = None\n",
    "df[\"CoD\"] = None\n",
    "\n",
    "# Process each row\n",
    "for idx, row in df.iterrows():\n",
    "    ticker = row[\"Ticker\"]\n",
    "    quarter = row[\"Quarter\"]\n",
    "\n",
    "    try:\n",
    "        start_date, end_date = get_quarter_date_range(quarter)\n",
    "        ticker_obj = yf.Ticker(ticker)\n",
    "\n",
    "        earnings_df = ticker_obj.get_earnings_dates(limit=30)\n",
    "\n",
    "        if earnings_df is not None and not earnings_df.empty:\n",
    "            tz = earnings_df.index.tz or pytz.timezone(\"America/New_York\")\n",
    "            start_date = tz.localize(start_date)\n",
    "            end_date = tz.localize(end_date)\n",
    "\n",
    "            filtered = earnings_df[(earnings_df.index >= start_date) & (earnings_df.index <= end_date)]\n",
    "\n",
    "            if not filtered.empty:\n",
    "                full_dt = filtered.index[0]\n",
    "                df.at[idx, \"EarningsDate\"] = full_dt.date()\n",
    "                df.at[idx, \"EarningsTime\"] = full_dt.time()\n",
    "\n",
    "                # Determine session (AMC or BMO)\n",
    "                session = \"AMC\" if full_dt.time() >= datetime.strptime(\"15:00:00\", \"%H:%M:%S\").time() else \"BMO\"\n",
    "                df.at[idx, \"EarningsSession\"] = session\n",
    "\n",
    "                # Get close price\n",
    "                close_price = get_close_price(ticker, full_dt.date(), session)\n",
    "                df.at[idx, \"ClosePriceEarnings\"] = close_price\n",
    "\n",
    "        # Get sector info\n",
    "        info = ticker_obj.info\n",
    "        df.at[idx, \"Sector\"] = info.get(\"sector\", \"N/A\")\n",
    "        \n",
    "    except Exception as e:\n",
    "        print(f\"Error processing {ticker}: {e}\")\n",
    "\n",
    "df"
   ]
  },
  {
   "cell_type": "code",
   "execution_count": 80,
   "id": "554211a2-9627-4c46-b573-dce7f32a3a74",
   "metadata": {
    "execution": {
     "iopub.execute_input": "2025-06-05T16:08:53.756849Z",
     "iopub.status.busy": "2025-06-05T16:08:53.755251Z",
     "iopub.status.idle": "2025-06-05T16:08:53.765703Z",
     "shell.execute_reply": "2025-06-05T16:08:53.764887Z",
     "shell.execute_reply.started": "2025-06-05T16:08:53.756802Z"
    }
   },
   "outputs": [],
   "source": [
    "from datetime import time\n",
    "\n",
    "# Define cutoff time\n",
    "cutoff = time(12, 0)  # 3:00 PM\n",
    "\n",
    "df[\"EarningsSession\"] = df[\"EarningsTime\"].apply(\n",
    "    lambda t: \"AMC\" if pd.notnull(t) and t > cutoff else (\"BMO\" if pd.notnull(t) else None)\n",
    ")"
   ]
  },
  {
   "cell_type": "code",
   "execution_count": 81,
   "id": "bf29e94b-3801-4f85-b5d8-81b03b74d45e",
   "metadata": {
    "execution": {
     "iopub.execute_input": "2025-06-05T16:08:54.729362Z",
     "iopub.status.busy": "2025-06-05T16:08:54.728580Z",
     "iopub.status.idle": "2025-06-05T16:08:54.739713Z",
     "shell.execute_reply": "2025-06-05T16:08:54.738957Z",
     "shell.execute_reply.started": "2025-06-05T16:08:54.729330Z"
    }
   },
   "outputs": [
    {
     "data": {
      "text/html": [
       "<div>\n",
       "<style scoped>\n",
       "    .dataframe tbody tr th:only-of-type {\n",
       "        vertical-align: middle;\n",
       "    }\n",
       "\n",
       "    .dataframe tbody tr th {\n",
       "        vertical-align: top;\n",
       "    }\n",
       "\n",
       "    .dataframe thead th {\n",
       "        text-align: right;\n",
       "    }\n",
       "</style>\n",
       "<table border=\"1\" class=\"dataframe\">\n",
       "  <thead>\n",
       "    <tr style=\"text-align: right;\">\n",
       "      <th></th>\n",
       "      <th>Quarter</th>\n",
       "      <th>Ticker</th>\n",
       "      <th>CIK</th>\n",
       "      <th>Company</th>\n",
       "      <th>EarningsDate</th>\n",
       "      <th>EarningsTime</th>\n",
       "      <th>EarningsSession</th>\n",
       "      <th>ClosePriceEarnings</th>\n",
       "      <th>Sector</th>\n",
       "      <th>CoD</th>\n",
       "    </tr>\n",
       "  </thead>\n",
       "  <tbody>\n",
       "    <tr>\n",
       "      <th>0</th>\n",
       "      <td>Q1-19</td>\n",
       "      <td>A</td>\n",
       "      <td>0001090872</td>\n",
       "      <td>AGILENT TECHNOLOGIES, INC.</td>\n",
       "      <td>2019-02-20</td>\n",
       "      <td>16:05:00</td>\n",
       "      <td>AMC</td>\n",
       "      <td>74.476906</td>\n",
       "      <td>Healthcare</td>\n",
       "      <td>None</td>\n",
       "    </tr>\n",
       "    <tr>\n",
       "      <th>1</th>\n",
       "      <td>Q1-19</td>\n",
       "      <td>AAL</td>\n",
       "      <td>0000006201</td>\n",
       "      <td>American Airlines Group Inc.</td>\n",
       "      <td>2019-01-24</td>\n",
       "      <td>07:30:00</td>\n",
       "      <td>BMO</td>\n",
       "      <td>33.124378</td>\n",
       "      <td>Industrials</td>\n",
       "      <td>None</td>\n",
       "    </tr>\n",
       "    <tr>\n",
       "      <th>2</th>\n",
       "      <td>Q1-19</td>\n",
       "      <td>AAP</td>\n",
       "      <td>0001158449</td>\n",
       "      <td>ADVANCE AUTO PARTS INC</td>\n",
       "      <td>2019-02-19</td>\n",
       "      <td>06:30:00</td>\n",
       "      <td>BMO</td>\n",
       "      <td>149.37854</td>\n",
       "      <td>Consumer Cyclical</td>\n",
       "      <td>None</td>\n",
       "    </tr>\n",
       "    <tr>\n",
       "      <th>3</th>\n",
       "      <td>Q1-19</td>\n",
       "      <td>AAPL</td>\n",
       "      <td>0000320193</td>\n",
       "      <td>Apple Inc.</td>\n",
       "      <td>2019-01-29</td>\n",
       "      <td>16:30:00</td>\n",
       "      <td>AMC</td>\n",
       "      <td>39.363914</td>\n",
       "      <td>Technology</td>\n",
       "      <td>None</td>\n",
       "    </tr>\n",
       "    <tr>\n",
       "      <th>4</th>\n",
       "      <td>Q1-19</td>\n",
       "      <td>ABBV</td>\n",
       "      <td>0001551152</td>\n",
       "      <td>AbbVie Inc.</td>\n",
       "      <td>2019-01-25</td>\n",
       "      <td>07:47:00</td>\n",
       "      <td>BMO</td>\n",
       "      <td>61.125439</td>\n",
       "      <td>Healthcare</td>\n",
       "      <td>None</td>\n",
       "    </tr>\n",
       "  </tbody>\n",
       "</table>\n",
       "</div>"
      ],
      "text/plain": [
       "  Quarter Ticker         CIK                       Company EarningsDate  \\\n",
       "0   Q1-19      A  0001090872    AGILENT TECHNOLOGIES, INC.   2019-02-20   \n",
       "1   Q1-19    AAL  0000006201  American Airlines Group Inc.   2019-01-24   \n",
       "2   Q1-19    AAP  0001158449        ADVANCE AUTO PARTS INC   2019-02-19   \n",
       "3   Q1-19   AAPL  0000320193                    Apple Inc.   2019-01-29   \n",
       "4   Q1-19   ABBV  0001551152                   AbbVie Inc.   2019-01-25   \n",
       "\n",
       "  EarningsTime EarningsSession ClosePriceEarnings             Sector   CoD  \n",
       "0     16:05:00             AMC          74.476906         Healthcare  None  \n",
       "1     07:30:00             BMO          33.124378        Industrials  None  \n",
       "2     06:30:00             BMO          149.37854  Consumer Cyclical  None  \n",
       "3     16:30:00             AMC          39.363914         Technology  None  \n",
       "4     07:47:00             BMO          61.125439         Healthcare  None  "
      ]
     },
     "execution_count": 81,
     "metadata": {},
     "output_type": "execute_result"
    }
   ],
   "source": [
    "df"
   ]
  },
  {
   "cell_type": "code",
   "execution_count": null,
   "id": "40676162-faa1-427e-bc54-29ae18d070a9",
   "metadata": {},
   "outputs": [],
   "source": []
  },
  {
   "cell_type": "code",
   "execution_count": null,
   "id": "56786424-bc4f-48b7-a1c5-978d0bf10904",
   "metadata": {},
   "outputs": [],
   "source": []
  },
  {
   "cell_type": "code",
   "execution_count": 95,
   "id": "da45d500-e3c4-467e-be6f-0bf2fcea9b0b",
   "metadata": {
    "execution": {
     "iopub.execute_input": "2025-06-05T16:22:10.757915Z",
     "iopub.status.busy": "2025-06-05T16:22:10.757281Z",
     "iopub.status.idle": "2025-06-05T16:22:10.856476Z",
     "shell.execute_reply": "2025-06-05T16:22:10.856002Z",
     "shell.execute_reply.started": "2025-06-05T16:22:10.757860Z"
    }
   },
   "outputs": [
    {
     "ename": "KeyError",
     "evalue": "'ticker'",
     "output_type": "error",
     "traceback": [
      "\u001b[31m---------------------------------------------------------------------------\u001b[39m",
      "\u001b[31mKeyError\u001b[39m                                  Traceback (most recent call last)",
      "\u001b[36mFile \u001b[39m\u001b[32m~/.pyenv/versions/3.12.9/envs/corporate-sentiment-tracker/lib/python3.12/site-packages/pandas/core/indexes/base.py:3805\u001b[39m, in \u001b[36mIndex.get_loc\u001b[39m\u001b[34m(self, key)\u001b[39m\n\u001b[32m   3804\u001b[39m \u001b[38;5;28;01mtry\u001b[39;00m:\n\u001b[32m-> \u001b[39m\u001b[32m3805\u001b[39m     \u001b[38;5;28;01mreturn\u001b[39;00m \u001b[38;5;28;43mself\u001b[39;49m\u001b[43m.\u001b[49m\u001b[43m_engine\u001b[49m\u001b[43m.\u001b[49m\u001b[43mget_loc\u001b[49m\u001b[43m(\u001b[49m\u001b[43mcasted_key\u001b[49m\u001b[43m)\u001b[49m\n\u001b[32m   3806\u001b[39m \u001b[38;5;28;01mexcept\u001b[39;00m \u001b[38;5;167;01mKeyError\u001b[39;00m \u001b[38;5;28;01mas\u001b[39;00m err:\n",
      "\u001b[36mFile \u001b[39m\u001b[32mindex.pyx:167\u001b[39m, in \u001b[36mpandas._libs.index.IndexEngine.get_loc\u001b[39m\u001b[34m()\u001b[39m\n",
      "\u001b[36mFile \u001b[39m\u001b[32mindex.pyx:196\u001b[39m, in \u001b[36mpandas._libs.index.IndexEngine.get_loc\u001b[39m\u001b[34m()\u001b[39m\n",
      "\u001b[36mFile \u001b[39m\u001b[32mpandas/_libs/hashtable_class_helper.pxi:7081\u001b[39m, in \u001b[36mpandas._libs.hashtable.PyObjectHashTable.get_item\u001b[39m\u001b[34m()\u001b[39m\n",
      "\u001b[36mFile \u001b[39m\u001b[32mpandas/_libs/hashtable_class_helper.pxi:7089\u001b[39m, in \u001b[36mpandas._libs.hashtable.PyObjectHashTable.get_item\u001b[39m\u001b[34m()\u001b[39m\n",
      "\u001b[31mKeyError\u001b[39m: 'ticker'",
      "\nThe above exception was the direct cause of the following exception:\n",
      "\u001b[31mKeyError\u001b[39m                                  Traceback (most recent call last)",
      "\u001b[36mCell\u001b[39m\u001b[36m \u001b[39m\u001b[32mIn[95]\u001b[39m\u001b[32m, line 7\u001b[39m\n\u001b[32m      5\u001b[39m \u001b[38;5;66;03m# Loop over rows\u001b[39;00m\n\u001b[32m      6\u001b[39m \u001b[38;5;28;01mfor\u001b[39;00m idx, row \u001b[38;5;129;01min\u001b[39;00m df.iterrows():\n\u001b[32m----> \u001b[39m\u001b[32m7\u001b[39m     ticker = \u001b[43mrow\u001b[49m\u001b[43m[\u001b[49m\u001b[33;43m\"\u001b[39;49m\u001b[33;43mticker\u001b[39;49m\u001b[33;43m\"\u001b[39;49m\u001b[43m]\u001b[49m\n\u001b[32m      8\u001b[39m     quarter = row[\u001b[33m\"\u001b[39m\u001b[33mquarter\u001b[39m\u001b[33m\"\u001b[39m]\n\u001b[32m     10\u001b[39m     \u001b[38;5;28;01mtry\u001b[39;00m:\n",
      "\u001b[36mFile \u001b[39m\u001b[32m~/.pyenv/versions/3.12.9/envs/corporate-sentiment-tracker/lib/python3.12/site-packages/pandas/core/series.py:1121\u001b[39m, in \u001b[36mSeries.__getitem__\u001b[39m\u001b[34m(self, key)\u001b[39m\n\u001b[32m   1118\u001b[39m     \u001b[38;5;28;01mreturn\u001b[39;00m \u001b[38;5;28mself\u001b[39m._values[key]\n\u001b[32m   1120\u001b[39m \u001b[38;5;28;01melif\u001b[39;00m key_is_scalar:\n\u001b[32m-> \u001b[39m\u001b[32m1121\u001b[39m     \u001b[38;5;28;01mreturn\u001b[39;00m \u001b[38;5;28;43mself\u001b[39;49m\u001b[43m.\u001b[49m\u001b[43m_get_value\u001b[49m\u001b[43m(\u001b[49m\u001b[43mkey\u001b[49m\u001b[43m)\u001b[49m\n\u001b[32m   1123\u001b[39m \u001b[38;5;66;03m# Convert generator to list before going through hashable part\u001b[39;00m\n\u001b[32m   1124\u001b[39m \u001b[38;5;66;03m# (We will iterate through the generator there to check for slices)\u001b[39;00m\n\u001b[32m   1125\u001b[39m \u001b[38;5;28;01mif\u001b[39;00m is_iterator(key):\n",
      "\u001b[36mFile \u001b[39m\u001b[32m~/.pyenv/versions/3.12.9/envs/corporate-sentiment-tracker/lib/python3.12/site-packages/pandas/core/series.py:1237\u001b[39m, in \u001b[36mSeries._get_value\u001b[39m\u001b[34m(self, label, takeable)\u001b[39m\n\u001b[32m   1234\u001b[39m     \u001b[38;5;28;01mreturn\u001b[39;00m \u001b[38;5;28mself\u001b[39m._values[label]\n\u001b[32m   1236\u001b[39m \u001b[38;5;66;03m# Similar to Index.get_value, but we do not fall back to positional\u001b[39;00m\n\u001b[32m-> \u001b[39m\u001b[32m1237\u001b[39m loc = \u001b[38;5;28;43mself\u001b[39;49m\u001b[43m.\u001b[49m\u001b[43mindex\u001b[49m\u001b[43m.\u001b[49m\u001b[43mget_loc\u001b[49m\u001b[43m(\u001b[49m\u001b[43mlabel\u001b[49m\u001b[43m)\u001b[49m\n\u001b[32m   1239\u001b[39m \u001b[38;5;28;01mif\u001b[39;00m is_integer(loc):\n\u001b[32m   1240\u001b[39m     \u001b[38;5;28;01mreturn\u001b[39;00m \u001b[38;5;28mself\u001b[39m._values[loc]\n",
      "\u001b[36mFile \u001b[39m\u001b[32m~/.pyenv/versions/3.12.9/envs/corporate-sentiment-tracker/lib/python3.12/site-packages/pandas/core/indexes/base.py:3812\u001b[39m, in \u001b[36mIndex.get_loc\u001b[39m\u001b[34m(self, key)\u001b[39m\n\u001b[32m   3807\u001b[39m     \u001b[38;5;28;01mif\u001b[39;00m \u001b[38;5;28misinstance\u001b[39m(casted_key, \u001b[38;5;28mslice\u001b[39m) \u001b[38;5;129;01mor\u001b[39;00m (\n\u001b[32m   3808\u001b[39m         \u001b[38;5;28misinstance\u001b[39m(casted_key, abc.Iterable)\n\u001b[32m   3809\u001b[39m         \u001b[38;5;129;01mand\u001b[39;00m \u001b[38;5;28many\u001b[39m(\u001b[38;5;28misinstance\u001b[39m(x, \u001b[38;5;28mslice\u001b[39m) \u001b[38;5;28;01mfor\u001b[39;00m x \u001b[38;5;129;01min\u001b[39;00m casted_key)\n\u001b[32m   3810\u001b[39m     ):\n\u001b[32m   3811\u001b[39m         \u001b[38;5;28;01mraise\u001b[39;00m InvalidIndexError(key)\n\u001b[32m-> \u001b[39m\u001b[32m3812\u001b[39m     \u001b[38;5;28;01mraise\u001b[39;00m \u001b[38;5;167;01mKeyError\u001b[39;00m(key) \u001b[38;5;28;01mfrom\u001b[39;00m\u001b[38;5;250m \u001b[39m\u001b[34;01merr\u001b[39;00m\n\u001b[32m   3813\u001b[39m \u001b[38;5;28;01mexcept\u001b[39;00m \u001b[38;5;167;01mTypeError\u001b[39;00m:\n\u001b[32m   3814\u001b[39m     \u001b[38;5;66;03m# If we have a listlike key, _check_indexing_error will raise\u001b[39;00m\n\u001b[32m   3815\u001b[39m     \u001b[38;5;66;03m#  InvalidIndexError. Otherwise we fall through and re-raise\u001b[39;00m\n\u001b[32m   3816\u001b[39m     \u001b[38;5;66;03m#  the TypeError.\u001b[39;00m\n\u001b[32m   3817\u001b[39m     \u001b[38;5;28mself\u001b[39m._check_indexing_error(key)\n",
      "\u001b[31mKeyError\u001b[39m: 'ticker'"
     ]
    }
   ],
   "source": []
  },
  {
   "cell_type": "code",
   "execution_count": null,
   "id": "72e13f46-b329-4769-9e58-80e2f200579c",
   "metadata": {},
   "outputs": [],
   "source": []
  },
  {
   "cell_type": "code",
   "execution_count": null,
   "id": "c9fe9b51-adb0-4ba0-861c-06e56aec119e",
   "metadata": {},
   "outputs": [],
   "source": []
  },
  {
   "cell_type": "code",
   "execution_count": null,
   "id": "c70facb3-548f-4533-9d5a-95d7a0b9974f",
   "metadata": {},
   "outputs": [],
   "source": []
  },
  {
   "cell_type": "code",
   "execution_count": 16,
   "id": "b7e97390-a1d1-403b-ace7-a65350912b55",
   "metadata": {
    "execution": {
     "iopub.execute_input": "2025-06-05T13:51:01.700150Z",
     "iopub.status.busy": "2025-06-05T13:51:01.699509Z",
     "iopub.status.idle": "2025-06-05T13:51:02.213973Z",
     "shell.execute_reply": "2025-06-05T13:51:02.212826Z",
     "shell.execute_reply.started": "2025-06-05T13:51:01.700110Z"
    }
   },
   "outputs": [
    {
     "name": "stdout",
     "output_type": "stream",
     "text": [
      "  Quarter Ticker         CIK                       Company EarningsDate\n",
      "0   Q1-19      A  0001090872    AGILENT TECHNOLOGIES, INC.         None\n",
      "1   Q1-19    AAL  0000006201  American Airlines Group Inc.         None\n",
      "2   Q1-19    AAP  0001158449        ADVANCE AUTO PARTS INC         None\n",
      "3   Q1-19   AAPL  0000320193                    Apple Inc.         None\n",
      "4   Q1-19   ABBV  0001551152                   AbbVie Inc.         None\n"
     ]
    }
   ],
   "source": [
    "def get_quarter_date_range(qtr_str):\n",
    "    qtr, yr = qtr_str.split('-')\n",
    "    year_full = int(\"20\" + yr) if len(yr) == 2 else int(yr)\n",
    "    start_date = pd.to_datetime(f\"{year_full}-{quarter_months[qtr][0]}\")\n",
    "    end_date = pd.to_datetime(f\"{year_full}-{quarter_months[qtr][1]}\")\n",
    "    return start_date, end_date\n",
    "\n",
    "def get_earnings_date(ticker, start_date, end_date):\n",
    "    try:\n",
    "        ticker_obj = yf.Ticker(ticker)\n",
    "        # Try to get earnings dates DataFrame\n",
    "        earnings_dates_df = ticker_obj.get_earnings_dates(limit=10)  # last 10 earnings dates\n",
    "\n",
    "        if earnings_dates_df is None or earnings_dates_df.empty:\n",
    "            return None\n",
    "\n",
    "        # Inspect columns\n",
    "        # Typical columns: 'EPS Estimate', 'Reported EPS', 'Surprise(%)', 'EPS Report Date'\n",
    "        # Look for date columns:\n",
    "        date_col_candidates = [col for col in earnings_dates_df.columns if 'date' in col.lower()]\n",
    "        if not date_col_candidates:\n",
    "            return None\n",
    "        \n",
    "        date_col = date_col_candidates[0]\n",
    "        \n",
    "        earnings_dates_df[date_col] = pd.to_datetime(earnings_dates_df[date_col], errors='coerce')\n",
    "        filtered = earnings_dates_df[\n",
    "            (earnings_dates_df[date_col] >= start_date) & \n",
    "            (earnings_dates_df[date_col] <= end_date)\n",
    "        ]\n",
    "\n",
    "        if filtered.empty:\n",
    "            return None\n",
    "        \n",
    "        # Return earliest earnings date in that quarter\n",
    "        return filtered[date_col].iloc[0].date()\n",
    "    except Exception as e:\n",
    "        print(f\"Error fetching earnings for {ticker}: {e}\")\n",
    "        return None\n",
    "\n",
    "earnings_dates = []\n",
    "for idx, row in df.iterrows():\n",
    "    start_date, end_date = get_quarter_date_range(row['Quarter'])\n",
    "    earnings_date = get_earnings_date(row['Ticker'], start_date, end_date)\n",
    "    earnings_dates.append(earnings_date)\n",
    "\n",
    "df['EarningsDate'] = earnings_dates\n",
    "print(df)"
   ]
  },
  {
   "cell_type": "code",
   "execution_count": 13,
   "id": "2c2e98c3-6329-4327-b881-7f3f640130f0",
   "metadata": {
    "execution": {
     "iopub.execute_input": "2025-06-05T13:46:23.206011Z",
     "iopub.status.busy": "2025-06-05T13:46:23.205137Z",
     "iopub.status.idle": "2025-06-05T13:46:23.215635Z",
     "shell.execute_reply": "2025-06-05T13:46:23.214697Z",
     "shell.execute_reply.started": "2025-06-05T13:46:23.205976Z"
    }
   },
   "outputs": [
    {
     "data": {
      "text/html": [
       "<div>\n",
       "<style scoped>\n",
       "    .dataframe tbody tr th:only-of-type {\n",
       "        vertical-align: middle;\n",
       "    }\n",
       "\n",
       "    .dataframe tbody tr th {\n",
       "        vertical-align: top;\n",
       "    }\n",
       "\n",
       "    .dataframe thead th {\n",
       "        text-align: right;\n",
       "    }\n",
       "</style>\n",
       "<table border=\"1\" class=\"dataframe\">\n",
       "  <thead>\n",
       "    <tr style=\"text-align: right;\">\n",
       "      <th></th>\n",
       "      <th>Quarter</th>\n",
       "      <th>Ticker</th>\n",
       "      <th>CIK</th>\n",
       "      <th>Company</th>\n",
       "      <th>EarningsDateRange</th>\n",
       "      <th>EarningsDate</th>\n",
       "    </tr>\n",
       "  </thead>\n",
       "  <tbody>\n",
       "    <tr>\n",
       "      <th>0</th>\n",
       "      <td>Q1-19</td>\n",
       "      <td>A</td>\n",
       "      <td>0001090872</td>\n",
       "      <td>AGILENT TECHNOLOGIES, INC.</td>\n",
       "      <td>2019-01-01 to 2019-03-31</td>\n",
       "      <td>None</td>\n",
       "    </tr>\n",
       "    <tr>\n",
       "      <th>1</th>\n",
       "      <td>Q1-19</td>\n",
       "      <td>AAL</td>\n",
       "      <td>0000006201</td>\n",
       "      <td>American Airlines Group Inc.</td>\n",
       "      <td>2019-01-01 to 2019-03-31</td>\n",
       "      <td>None</td>\n",
       "    </tr>\n",
       "    <tr>\n",
       "      <th>2</th>\n",
       "      <td>Q1-19</td>\n",
       "      <td>AAP</td>\n",
       "      <td>0001158449</td>\n",
       "      <td>ADVANCE AUTO PARTS INC</td>\n",
       "      <td>2019-01-01 to 2019-03-31</td>\n",
       "      <td>None</td>\n",
       "    </tr>\n",
       "    <tr>\n",
       "      <th>3</th>\n",
       "      <td>Q1-19</td>\n",
       "      <td>AAPL</td>\n",
       "      <td>0000320193</td>\n",
       "      <td>Apple Inc.</td>\n",
       "      <td>2019-01-01 to 2019-03-31</td>\n",
       "      <td>None</td>\n",
       "    </tr>\n",
       "    <tr>\n",
       "      <th>4</th>\n",
       "      <td>Q1-19</td>\n",
       "      <td>ABBV</td>\n",
       "      <td>0001551152</td>\n",
       "      <td>AbbVie Inc.</td>\n",
       "      <td>2019-01-01 to 2019-03-31</td>\n",
       "      <td>None</td>\n",
       "    </tr>\n",
       "  </tbody>\n",
       "</table>\n",
       "</div>"
      ],
      "text/plain": [
       "  Quarter Ticker         CIK                       Company  \\\n",
       "0   Q1-19      A  0001090872    AGILENT TECHNOLOGIES, INC.   \n",
       "1   Q1-19    AAL  0000006201  American Airlines Group Inc.   \n",
       "2   Q1-19    AAP  0001158449        ADVANCE AUTO PARTS INC   \n",
       "3   Q1-19   AAPL  0000320193                    Apple Inc.   \n",
       "4   Q1-19   ABBV  0001551152                   AbbVie Inc.   \n",
       "\n",
       "          EarningsDateRange EarningsDate  \n",
       "0  2019-01-01 to 2019-03-31         None  \n",
       "1  2019-01-01 to 2019-03-31         None  \n",
       "2  2019-01-01 to 2019-03-31         None  \n",
       "3  2019-01-01 to 2019-03-31         None  \n",
       "4  2019-01-01 to 2019-03-31         None  "
      ]
     },
     "execution_count": 13,
     "metadata": {},
     "output_type": "execute_result"
    }
   ],
   "source": [
    "df"
   ]
  },
  {
   "cell_type": "code",
   "execution_count": 26,
   "id": "370aaf71-5a21-461a-be22-629f6bd98fa7",
   "metadata": {
    "execution": {
     "iopub.execute_input": "2025-06-05T14:27:07.225734Z",
     "iopub.status.busy": "2025-06-05T14:27:07.224396Z",
     "iopub.status.idle": "2025-06-05T14:27:07.602404Z",
     "shell.execute_reply": "2025-06-05T14:27:07.600875Z",
     "shell.execute_reply.started": "2025-06-05T14:27:07.225685Z"
    }
   },
   "outputs": [
    {
     "name": "stdout",
     "output_type": "stream",
     "text": [
      "Error fetching earnings for AAPL: Invalid comparison between dtype=datetime64[ns, America/New_York] and Timestamp\n",
      "Error fetching earnings for AAPL: Invalid comparison between dtype=datetime64[ns, America/New_York] and Timestamp\n",
      "Error fetching earnings for AAPL: Invalid comparison between dtype=datetime64[ns, America/New_York] and Timestamp\n",
      "  Quarter Ticker EarningsDate\n",
      "0   Q1-19   AAPL         None\n",
      "1   Q1-19   AAPL         None\n",
      "2   Q2-19   AAPL         None\n"
     ]
    }
   ],
   "source": [
    "import pandas as pd\n",
    "import yfinance as yf\n",
    "from datetime import datetime\n",
    "\n",
    "# Sample data (replace with your full DataFrame)\n",
    "data = {\n",
    "    \"Quarter\": [\"Q1-19\", \"Q1-19\", \"Q2-19\"],\n",
    "    \"Ticker\": [\"AAPL\", \"AAPL\", \"AAPL\"],\n",
    "}\n",
    "df = pd.DataFrame(data)\n",
    "\n",
    "# Helper to convert quarter string to date range\n",
    "def quarter_to_dates(quarter_str):\n",
    "    q, y = quarter_str.split(\"-\")\n",
    "    year = int(\"20\" + y)  # convert '19' -> 2019\n",
    "    if q == \"Q1\":\n",
    "        return (datetime(year, 1, 1), datetime(year, 3, 31))\n",
    "    elif q == \"Q2\":\n",
    "        return (datetime(year, 4, 1), datetime(year, 6, 30))\n",
    "    elif q == \"Q3\":\n",
    "        return (datetime(year, 7, 1), datetime(year, 9, 30))\n",
    "    elif q == \"Q4\":\n",
    "        return (datetime(year, 10, 1), datetime(year, 12, 31))\n",
    "\n",
    "# Add a new column for earnings date(s)\n",
    "df[\"EarningsDate\"] = None\n",
    "\n",
    "for idx, row in df.iterrows():\n",
    "    ticker = row[\"Ticker\"]\n",
    "    quarter = row[\"Quarter\"]\n",
    "    start_date, end_date = quarter_to_dates(quarter)\n",
    "\n",
    "    ticker_obj = yf.Ticker(ticker)\n",
    "\n",
    "    try:\n",
    "        earnings_df = ticker_obj.get_earnings_dates(limit=30)\n",
    "        if earnings_df.empty:\n",
    "            print(f\"No earnings data for {ticker}\")\n",
    "            continue\n",
    "\n",
    "        # earnings_df.index contains earnings dates as pandas Timestamp\n",
    "        # Filter rows where the earnings date falls within quarter range\n",
    "        mask = (earnings_df.index >= pd.Timestamp(start_date)) & (earnings_df.index <= pd.Timestamp(end_date))\n",
    "        filtered = earnings_df.loc[mask]\n",
    "\n",
    "        if not filtered.empty:\n",
    "            # Store earnings dates as string joined by comma (if multiple)\n",
    "            earnings_dates_str = \", \".join(date.strftime(\"%Y-%m-%d\") for date in filtered.index)\n",
    "            df.at[idx, \"EarningsDate\"] = earnings_dates_str\n",
    "        else:\n",
    "            df.at[idx, \"EarningsDate\"] = None\n",
    "            print(f\"No earnings in quarter {quarter} for {ticker}\")\n",
    "\n",
    "    except Exception as e:\n",
    "        print(f\"Error fetching earnings for {ticker}: {e}\")\n",
    "        df.at[idx, \"EarningsDate\"] = None\n",
    "\n",
    "print(df)\n"
   ]
  },
  {
   "cell_type": "code",
   "execution_count": 18,
   "id": "00fc98a3-2095-4cc6-92ed-861dacb8094c",
   "metadata": {
    "execution": {
     "iopub.execute_input": "2025-06-05T13:51:47.526039Z",
     "iopub.status.busy": "2025-06-05T13:51:47.525139Z",
     "iopub.status.idle": "2025-06-05T13:51:47.644549Z",
     "shell.execute_reply": "2025-06-05T13:51:47.642657Z",
     "shell.execute_reply.started": "2025-06-05T13:51:47.526005Z"
    }
   },
   "outputs": [
    {
     "name": "stdout",
     "output_type": "stream",
     "text": [
      "Looking for earnings dates between 2019-01-01 and 2019-03-31\n",
      "Earnings Dates DataFrame:\n",
      "                           EPS Estimate  Reported EPS  Surprise(%)\n",
      "Earnings Date                                                     \n",
      "2026-04-29 06:59:00-04:00           NaN           NaN          NaN\n",
      "2026-01-28 16:00:00-05:00           NaN           NaN          NaN\n",
      "2025-10-29 06:59:00-04:00           NaN           NaN          NaN\n",
      "2025-07-30 06:59:00-04:00           NaN           NaN          NaN\n",
      "2025-05-01 16:30:00-04:00          1.63          1.65         1.41\n",
      "2025-01-30 16:31:00-05:00          2.35          2.40         2.15\n",
      "2024-10-31 16:31:00-04:00          1.60          1.64         2.35\n",
      "2024-08-01 16:30:00-04:00          1.35          1.40         3.99\n",
      "2024-05-02 16:31:00-04:00          1.50          1.53         1.97\n",
      "2024-02-01 16:00:00-05:00          2.10          2.18         3.90\n",
      "Date columns found: []\n",
      "No date columns found in earnings data.\n"
     ]
    }
   ],
   "source": [
    "import yfinance as yf\n",
    "import pandas as pd\n",
    "\n",
    "ticker = \"AAPL\"\n",
    "quarter = \"Q1-19\"\n",
    "\n",
    "# Helper to get quarter date range\n",
    "def get_quarter_date_range(qtr_str):\n",
    "    quarter_months = {\n",
    "        \"Q1\": (\"01-01\", \"03-31\"),\n",
    "        \"Q2\": (\"04-01\", \"06-30\"),\n",
    "        \"Q3\": (\"07-01\", \"09-30\"),\n",
    "        \"Q4\": (\"10-01\", \"12-31\"),\n",
    "    }\n",
    "    qtr, yr = qtr_str.split('-')\n",
    "    year_full = int(\"20\" + yr)\n",
    "    start_date = pd.to_datetime(f\"{year_full}-{quarter_months[qtr][0]}\")\n",
    "    end_date = pd.to_datetime(f\"{year_full}-{quarter_months[qtr][1]}\")\n",
    "    return start_date, end_date\n",
    "\n",
    "start_date, end_date = get_quarter_date_range(quarter)\n",
    "print(f\"Looking for earnings dates between {start_date.date()} and {end_date.date()}\")\n",
    "\n",
    "ticker_obj = yf.Ticker(ticker)\n",
    "\n",
    "try:\n",
    "    # Try get_earnings_dates\n",
    "    earnings_dates_df = ticker_obj.get_earnings_dates(limit=10)\n",
    "    print(\"Earnings Dates DataFrame:\")\n",
    "    print(earnings_dates_df)\n",
    "\n",
    "    if earnings_dates_df is None or earnings_dates_df.empty:\n",
    "        print(\"No earnings dates data found.\")\n",
    "    else:\n",
    "        # Identify possible date columns\n",
    "        date_cols = [col for col in earnings_dates_df.columns if 'date' in col.lower()]\n",
    "        print(\"Date columns found:\", date_cols)\n",
    "        \n",
    "        if date_cols:\n",
    "            date_col = date_cols[0]\n",
    "            earnings_dates_df[date_col] = pd.to_datetime(earnings_dates_df[date_col], errors='coerce')\n",
    "            filtered = earnings_dates_df[\n",
    "                (earnings_dates_df[date_col] >= start_date) & \n",
    "                (earnings_dates_df[date_col] <= end_date)\n",
    "            ]\n",
    "            print(f\"Earnings dates within the quarter {quarter}:\")\n",
    "            print(filtered)\n",
    "        else:\n",
    "            print(\"No date columns found in earnings data.\")\n",
    "except Exception as e:\n",
    "    print(f\"Error fetching earnings dates: {e}\")\n"
   ]
  },
  {
   "cell_type": "code",
   "execution_count": 24,
   "id": "9e598814-f6cc-4e1b-853a-e73fa9119ff7",
   "metadata": {
    "execution": {
     "iopub.execute_input": "2025-06-05T14:13:35.315898Z",
     "iopub.status.busy": "2025-06-05T14:13:35.315075Z",
     "iopub.status.idle": "2025-06-05T14:13:35.351896Z",
     "shell.execute_reply": "2025-06-05T14:13:35.351586Z",
     "shell.execute_reply.started": "2025-06-05T14:13:35.315840Z"
    }
   },
   "outputs": [],
   "source": [
    "#changings\n",
    "tickers = \"WMT\"\n",
    "start_year = 2014\n",
    "end_year = 2024\n",
    "\n",
    "ticker = yf.Ticker(tickers)\n",
    "\n",
    "# Historical Prices\n",
    "price_data = ticker.history(start=f\"{start_year}-01-01\", end=f\"{end_year}-12-31\")"
   ]
  },
  {
   "cell_type": "code",
   "execution_count": 25,
   "id": "04aa649f-30ec-4d93-8951-310fe6a5a74e",
   "metadata": {
    "execution": {
     "iopub.execute_input": "2025-06-05T14:13:37.085848Z",
     "iopub.status.busy": "2025-06-05T14:13:37.085382Z",
     "iopub.status.idle": "2025-06-05T14:13:37.511250Z",
     "shell.execute_reply": "2025-06-05T14:13:37.510556Z",
     "shell.execute_reply.started": "2025-06-05T14:13:37.085818Z"
    }
   },
   "outputs": [
    {
     "name": "stdout",
     "output_type": "stream",
     "text": [
      "          Date  Close Price  Estimated Market Cap\n",
      "0   2024-11-19        85.96          687789142137\n",
      "1   2024-08-15        72.44          579553715562\n",
      "2   2024-05-16        63.36          506931258636\n",
      "3   2024-02-20        57.63          461073039406\n",
      "4   2023-11-16        50.94          407594740495\n",
      "5   2023-08-17        50.83          406680576322\n",
      "6   2023-05-18        49.28          394255885126\n",
      "7   2023-02-21        47.55          380469378651\n",
      "8   2022-11-15        47.41          379323468733\n",
      "9   2022-08-16        44.82          358561546563\n",
      "10  2022-05-17        42.05          336462836311\n",
      "11  2022-02-17        44.13          353097407349\n",
      "12  2021-11-16        45.31          362544777662\n",
      "13  2021-08-17        47.70          381612816371\n",
      "14  2021-05-18        44.75          358036707917\n",
      "15  2021-02-18        43.06          344516832659\n",
      "16  2020-11-17        46.55          372461652097\n",
      "17  2020-08-18        41.98          335906225332\n",
      "18  2020-05-19        38.78          310293513415\n",
      "19  2020-02-18        36.81          294477972678\n",
      "20  2019-11-14        36.95          295662613711\n",
      "21  2019-08-15        34.52          276156080188\n",
      "22  2019-05-16        30.88          247052272594\n",
      "23  2019-02-19        30.82          246578922829\n",
      "24  2018-11-15        29.85          238857666125\n",
      "25  2018-08-16        29.58          236698017360\n",
      "26  2018-05-17        25.19          201572742332\n",
      "27  2018-02-20        27.72          221795755688\n",
      "28  2017-11-16        29.19          233550679399\n",
      "29  2017-08-17        23.35          186849898198\n",
      "30  2017-05-18        22.58          180649669426\n",
      "31  2017-02-21        20.52          164147956182\n",
      "32  2016-11-17        19.73          157826223418\n",
      "33  2016-08-18        21.18          169482442304\n",
      "34  2016-05-19        19.59          156775859404\n",
      "35  2016-02-18        17.89          143151220908\n",
      "36  2015-11-17        16.58          132663314335\n",
      "37  2015-08-18        19.23          153829227360\n",
      "38  2015-05-19        21.01          168068970278\n",
      "39  2015-02-19        22.67          181418263820\n",
      "40  2014-11-13        22.39          179157590636\n",
      "41  2014-08-14        20.08          160688785443\n",
      "42  2014-05-15        20.61          164873241316\n",
      "43  2014-02-20        19.47          155794243882\n",
      "                  WMT\n",
      "2014-01-02  20.899689\n",
      "2014-01-03  20.830828\n",
      "2014-01-06  20.714283\n",
      "2014-01-07  20.777845\n",
      "2014-01-08  20.613640\n",
      "2014-01-09  20.682503\n",
      "2014-01-10  20.669250\n",
      "2014-01-13  20.523596\n",
      "2014-01-14  20.648073\n",
      "2014-01-15  20.568617\n"
     ]
    },
    {
     "data": {
      "text/html": [
       "<div>\n",
       "<style scoped>\n",
       "    .dataframe tbody tr th:only-of-type {\n",
       "        vertical-align: middle;\n",
       "    }\n",
       "\n",
       "    .dataframe tbody tr th {\n",
       "        vertical-align: top;\n",
       "    }\n",
       "\n",
       "    .dataframe thead th {\n",
       "        text-align: right;\n",
       "    }\n",
       "</style>\n",
       "<table border=\"1\" class=\"dataframe\">\n",
       "  <thead>\n",
       "    <tr style=\"text-align: right;\">\n",
       "      <th></th>\n",
       "      <th>Ticker</th>\n",
       "      <th>Short Name</th>\n",
       "      <th>Long Name</th>\n",
       "      <th>Latest Price</th>\n",
       "      <th>Latest Market Cap</th>\n",
       "      <th>Sector</th>\n",
       "      <th>Industry</th>\n",
       "    </tr>\n",
       "  </thead>\n",
       "  <tbody>\n",
       "    <tr>\n",
       "      <th>0</th>\n",
       "      <td>WMT</td>\n",
       "      <td>Walmart Inc.</td>\n",
       "      <td>Walmart Inc.</td>\n",
       "      <td>90.1</td>\n",
       "      <td>720913126468</td>\n",
       "      <td>Consumer Defensive</td>\n",
       "      <td>Discount Stores</td>\n",
       "    </tr>\n",
       "  </tbody>\n",
       "</table>\n",
       "</div>"
      ],
      "text/plain": [
       "  Ticker    Short Name     Long Name  Latest Price  Latest Market Cap  \\\n",
       "0    WMT  Walmart Inc.  Walmart Inc.          90.1       720913126468   \n",
       "\n",
       "               Sector         Industry  \n",
       "0  Consumer Defensive  Discount Stores  "
      ]
     },
     "execution_count": 25,
     "metadata": {},
     "output_type": "execute_result"
    }
   ],
   "source": [
    "# Earnings Dates\n",
    "earnings_df = ticker.get_earnings_dates(limit=100)\n",
    "earnings_dates = earnings_df.loc[\n",
    "    earnings_df.index.to_series().dt.year.between(start_year, end_year)\n",
    "].index.normalize()\n",
    "\n",
    "# Shares Outstanding\n",
    "shares_outstanding = ticker.info.get(\"sharesOutstanding\")\n",
    "\n",
    "# --- 1) Market Cap on Earnings Dates ---\n",
    "market_caps = []\n",
    "for date in earnings_dates:\n",
    "    date = pd.to_datetime(date) #normalize()\n",
    "\n",
    "    # Shift to previous available trading day if it's not in the price data\n",
    "    while date not in price_data.index:\n",
    "        date -= pd.Timedelta(days=1)\n",
    "\n",
    "    close_price = price_data.loc[date]['Close']\n",
    "    market_cap = close_price * shares_outstanding\n",
    "    market_caps.append({\n",
    "        'Date': date.strftime('%Y-%m-%d'),\n",
    "        'Close Price': round(close_price, 2),\n",
    "        'Estimated Market Cap': round(market_cap)\n",
    "    })\n",
    "\n",
    "market_cap_df = pd.DataFrame(market_caps)\n",
    "\n",
    "# closing price df\n",
    "closing_price_df = price_data[['Close']].copy()\n",
    "closing_price_df.columns = [tickers]\n",
    "closing_price_df.index = closing_price_df.index.normalize()\n",
    "closing_price_df.index = closing_price_df.index.date\n",
    "\n",
    "# --- 3) Latest Market Cap ---\n",
    "latest_price = price_data['Close'].iloc[-1]\n",
    "latest_market_cap = latest_price * shares_outstanding\n",
    "\n",
    "info = ticker.info\n",
    "sector = info.get(\"sector\", \"N/A\")\n",
    "industry = info.get(\"industry\", \"N/A\")\n",
    "long_name = info.get(\"longName\", \"N/A\")\n",
    "short_name = info.get(\"shortName\", \"N/A\")\n",
    "\n",
    "latest_market_cap_df = pd.DataFrame([{\n",
    "    'Ticker': tickers,\n",
    "    'Short Name': short_name,\n",
    "    'Long Name': long_name,\n",
    "    'Latest Price': round(latest_price, 2),\n",
    "    'Latest Market Cap': round(latest_market_cap),\n",
    "    'Sector': sector,\n",
    "    'Industry': industry\n",
    "}])\n",
    "\n",
    "#Market Cap on Earnings Dates for singular ticker\n",
    "print(market_cap_df)\n",
    "\n",
    "#Daily Closing Prices - can add column for each ticker\n",
    "print(closing_price_df.head(n=10))\n",
    "\n",
    "#Last Market Caps - can add row for each ticker\n",
    "latest_market_cap_df"
   ]
  },
  {
   "cell_type": "code",
   "execution_count": null,
   "id": "37cd22ba-a8ef-4093-9de7-8a06178f7e82",
   "metadata": {},
   "outputs": [],
   "source": []
  }
 ],
 "metadata": {
  "kernelspec": {
   "display_name": "Python 3 (ipykernel)",
   "language": "python",
   "name": "python3"
  },
  "language_info": {
   "codemirror_mode": {
    "name": "ipython",
    "version": 3
   },
   "file_extension": ".py",
   "mimetype": "text/x-python",
   "name": "python",
   "nbconvert_exporter": "python",
   "pygments_lexer": "ipython3",
   "version": "3.12.9"
  }
 },
 "nbformat": 4,
 "nbformat_minor": 5
}
