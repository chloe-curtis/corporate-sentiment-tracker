{
 "cells": [
  {
   "cell_type": "code",
   "execution_count": 85,
   "id": "907e5426-8a7b-4357-af83-8e5ccf145dc6",
   "metadata": {
    "tags": []
   },
   "outputs": [],
   "source": [
    "from google.cloud import bigquery\n",
    "import matplotlib.pyplot as plt"
   ]
  },
  {
   "cell_type": "code",
   "execution_count": 86,
   "id": "9a66a0b0-b4f2-4d12-8be2-84a5e2d653fb",
   "metadata": {
    "tags": []
   },
   "outputs": [],
   "source": [
    "# Initialize BigQuery client\n",
    "client = bigquery.Client()\n",
    "# Define your table path\n",
    "table_path = \"sentiment-lewagon.sentiment_db.final_v3\"\n",
    "# Load the table into a DataFrame\n",
    "df = client.list_rows(table_path).to_dataframe()\n",
    "# View the first few rows"
   ]
  },
  {
   "cell_type": "code",
   "execution_count": 87,
   "id": "d624eb8a-07ce-45af-8c84-7314c583f475",
   "metadata": {
    "tags": []
   },
   "outputs": [
    {
     "data": {
      "text/plain": [
       "(11134, 28)"
      ]
     },
     "execution_count": 87,
     "metadata": {},
     "output_type": "execute_result"
    }
   ],
   "source": [
    "df.shape"
   ]
  },
  {
   "cell_type": "code",
   "execution_count": 88,
   "id": "76c413d0-8414-44f6-8300-200049a8cfd4",
   "metadata": {
    "tags": []
   },
   "outputs": [],
   "source": [
    "df['year'] = df['year'].astype(int)\n",
    "df['quarter_year'] = df['quarter'] + '-' + df['year'].astype(str).str[-2:]"
   ]
  },
  {
   "cell_type": "code",
   "execution_count": 93,
   "id": "0e7ec48c-1ad2-45ea-918f-2133002e5cc1",
   "metadata": {
    "tags": []
   },
   "outputs": [
    {
     "data": {
      "text/plain": [
       "0        Q4-20\n",
       "1        Q4-21\n",
       "2        Q4-22\n",
       "3        Q4-20\n",
       "4        Q4-21\n",
       "         ...  \n",
       "11129    Q2-22\n",
       "11130    Q3-22\n",
       "11131    Q1-23\n",
       "11132    Q2-23\n",
       "11133    Q3-23\n",
       "Name: quarter_year, Length: 11134, dtype: object"
      ]
     },
     "execution_count": 93,
     "metadata": {},
     "output_type": "execute_result"
    }
   ],
   "source": []
  },
  {
   "cell_type": "code",
   "execution_count": 82,
   "id": "dcf5f62c-e565-4a90-8a74-702180c82321",
   "metadata": {
    "tags": []
   },
   "outputs": [],
   "source": [
    "df = df[[\"ticker\", \"quarter_year\", \"net_sentiment\"]]"
   ]
  },
  {
   "cell_type": "code",
   "execution_count": 83,
   "id": "fcc7b288-1919-444b-9e87-c137c04cb607",
   "metadata": {
    "tags": []
   },
   "outputs": [
    {
     "data": {
      "text/plain": [
       "(11134, 3)"
      ]
     },
     "execution_count": 83,
     "metadata": {},
     "output_type": "execute_result"
    }
   ],
   "source": [
    "df.shape"
   ]
  },
  {
   "cell_type": "code",
   "execution_count": 84,
   "id": "b4506658-9c54-4ee6-a564-014d1e3a6a66",
   "metadata": {
    "tags": []
   },
   "outputs": [],
   "source": [
    "df.to_csv(\"cc_ignore.csv\")"
   ]
  },
  {
   "cell_type": "code",
   "execution_count": null,
   "id": "868650aa-60e2-425c-8d75-1f17ca1437f9",
   "metadata": {},
   "outputs": [],
   "source": []
  }
 ],
 "metadata": {
  "environment": {
   "kernel": "conda-base-py",
   "name": "workbench-notebooks.m129",
   "type": "gcloud",
   "uri": "us-docker.pkg.dev/deeplearning-platform-release/gcr.io/workbench-notebooks:m129"
  },
  "kernelspec": {
   "display_name": "Python 3 (ipykernel) (Local)",
   "language": "python",
   "name": "conda-base-py"
  },
  "language_info": {
   "codemirror_mode": {
    "name": "ipython",
    "version": 3
   },
   "file_extension": ".py",
   "mimetype": "text/x-python",
   "name": "python",
   "nbconvert_exporter": "python",
   "pygments_lexer": "ipython3",
   "version": "3.10.16"
  }
 },
 "nbformat": 4,
 "nbformat_minor": 5
}
