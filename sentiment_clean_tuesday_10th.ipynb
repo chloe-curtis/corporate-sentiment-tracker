{
 "cells": [
  {
   "cell_type": "code",
   "execution_count": null,
   "id": "b7f7e87f-4bfa-423e-b2e0-915d248ad69f",
   "metadata": {},
   "outputs": [],
   "source": [
    "######## SENTIMENT TABLE AS DATAFRAME ################\n",
    "from google.cloud import bigquery\n",
    "\n",
    "# Initialize BigQuery client\n",
    "client = bigquery.Client()\n",
    "\n",
    "# Define your table path\n",
    "table_path = \"sentiment-lewagon.sentiment_db.SENTIMENT\"\n",
    "\n",
    "# Load the table into a DataFrame\n",
    "df = client.list_rows(table_path).to_dataframe()\n",
    "\n",
    "df = df.drop_duplicates()"
   ]
  },
  {
   "cell_type": "code",
   "execution_count": null,
   "id": "040065f2-3a01-4886-9cb3-f9746b94fb80",
   "metadata": {},
   "outputs": [],
   "source": [
    "import pandas as pd\n",
    "\n",
    "# Example: Assuming df is already your DataFrame\n",
    "# and it has these three columns:\n",
    "# 'count_positive_chunks', 'count_negative_chunks', 'count_neutral_chunks'\n",
    "\n",
    "def determine_sentiment(row):\n",
    "    max_val = max(row['count_positive_chunks'], row['count_negative_chunks'], row['count_neutral_chunks'])\n",
    "    if row['count_positive_chunks'] == max_val:\n",
    "        return 'positive'\n",
    "    elif row['count_negative_chunks'] == max_val:\n",
    "        return 'negative'\n",
    "    else:\n",
    "        return 'neutral'\n",
    "\n",
    "# Apply the function row-wise\n",
    "df['overall_sentiment'] = df.apply(determine_sentiment, axis=1)"
   ]
  },
  {
   "cell_type": "code",
   "execution_count": null,
   "id": "1109a56f-acff-4ea6-b45a-484c3dd1cfa3",
   "metadata": {},
   "outputs": [],
   "source": [
    "########### ADD NEW COLUMNS ###################\n",
    "total = df[['count_positive_chunks', 'count_negative_chunks', 'count_neutral_chunks']].sum(axis=1)\n",
    "total = total.replace(0, np.nan)  # Avoid division by zero\n",
    "df['count_pos_over_total_count'] = df['count_positive_chunks'] / total\n",
    "df['count_neg_over_total_count'] = df['count_negative_chunks'] / total\n",
    "df['count_neut_over_total_count'] = df['count_neutral_chunks'] / total\n",
    "df['net_sentiment'] = ((df['count_positive_chunks'] -df['count_negative_chunks']) / total"
   ]
  },
  {
   "cell_type": "code",
   "execution_count": null,
   "id": "6019869c-c583-4465-8dba-85cd8beec89c",
   "metadata": {},
   "outputs": [],
   "source": [
    "### get core_v3 from BG\n",
    "core_v3 = \"sentiment-lewagon.sentiment_db.core_v3\"\n",
    "# Load the table in DataFrame\n",
    "c = client.list_rows(core_v3).to_dataframe()"
   ]
  },
  {
   "cell_type": "code",
   "execution_count": null,
   "id": "9b068fe3-bb0b-44dd-80db-019713dd8283",
   "metadata": {},
   "outputs": [],
   "source": [
    "### only selects columns we would want\n",
    "d = c[['bucket_file_path', 'conformed_period_of_report', 'quarter', 'year']]"
   ]
  },
  {
   "cell_type": "code",
   "execution_count": null,
   "id": "4230609b-68c5-4c7a-af77-5c7f67fcdb4d",
   "metadata": {},
   "outputs": [],
   "source": [
    "### create new column for quarter-year combined\n",
    "d['quarter_year'] = d['quarter'] + '-' + d['year'].astype(str).str[-2:]"
   ]
  },
  {
   "cell_type": "code",
   "execution_count": null,
   "id": "f2d4627e-9243-4b0e-abfa-6122eb9bb33f",
   "metadata": {},
   "outputs": [],
   "source": [
    "sentiment_clean_v2 = pd.merge(df, d, on=\"bucket_file_path\", how = \"left\")"
   ]
  },
  {
   "cell_type": "code",
   "execution_count": null,
   "id": "5149dd6a-94f8-45fb-aba4-b0ab38db65ac",
   "metadata": {},
   "outputs": [],
   "source": [
    "from google.cloud import bigquery\n",
    "\n",
    "def upload_sentiment_clean_to_bq_(df):\n",
    "    \"\"\"\n",
    "    Uploads parsed MDA data from EDGAR filings to BigQuery.\n",
    "    Expects columns: cik, filename, management_discussion\n",
    "    \"\"\"\n",
    "    # Rename columns to lowercase\n",
    "    df.columns = df.columns.str.lower()\n",
    "\n",
    "\n",
    "    try:\n",
    "        # Keep only the required columns\n",
    "\n",
    "        BQ_PROJECT_ID = 'sentiment-lewagon'\n",
    "        BQ_DATASET_ID = 'sentiment_db'\n",
    "        BQ_TABLE_ID = 'sentiment_clean_v2'\n",
    "        table_ref = f\"{BQ_PROJECT_ID}.{BQ_DATASET_ID}.{BQ_TABLE_ID}\"\n",
    "\n",
    "        client = bigquery.Client()\n",
    "\n",
    "        job_config = bigquery.LoadJobConfig(\n",
    "            write_disposition=\"WRITE_APPEND\"\n",
    "        )\n",
    "\n",
    "        job = client.load_table_from_dataframe(df, table_ref, job_config=job_config)\n",
    "        job.result()\n",
    "\n",
    "        print(f\"✅ Uploaded {job.output_rows} rows to {table_ref}\")\n",
    "\n",
    "    except Exception as e:\n",
    "        print(f\"❌ Failed to upload DataFrame to BigQuery: {e}\")"
   ]
  },
  {
   "cell_type": "code",
   "execution_count": null,
   "id": "f2ef8133-8811-4aa4-988c-c1caafd945be",
   "metadata": {},
   "outputs": [],
   "source": [
    "upload_sentiment_clean_to_bq_(sentiment_clean_v2)"
   ]
  }
 ],
 "metadata": {
  "kernelspec": {
   "display_name": "Python 3 (ipykernel)",
   "language": "python",
   "name": "python3"
  },
  "language_info": {
   "codemirror_mode": {
    "name": "ipython",
    "version": 3
   },
   "file_extension": ".py",
   "mimetype": "text/x-python",
   "name": "python",
   "nbconvert_exporter": "python",
   "pygments_lexer": "ipython3",
   "version": "3.12.9"
  }
 },
 "nbformat": 4,
 "nbformat_minor": 5
}
