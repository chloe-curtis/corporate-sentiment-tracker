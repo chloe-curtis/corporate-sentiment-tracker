{
 "cells": [
  {
   "cell_type": "code",
   "execution_count": null,
   "id": "8a9c82b9-a8cf-4947-a006-1ed0576c4967",
   "metadata": {},
   "outputs": [],
   "source": [
    "######## SENTIMENT TABLE AS DATAFRAME ################\n",
    "from google.cloud import bigquery\n",
    "\n",
    "# Initialize BigQuery client\n",
    "client = bigquery.Client()\n",
    "\n",
    "# Define your table path\n",
    "table_path = \"sentiment-lewagon.sentiment_db.SENTIMENT\"\n",
    "\n",
    "# Load the table into a DataFrame\n",
    "df = client.list_rows(table_path).to_dataframe()\n",
    "\n",
    "df = df.drop_duplicates()\n",
    "\n",
    "# View the first few rows\n",
    "df\n"
   ]
  },
  {
   "cell_type": "code",
   "execution_count": null,
   "id": "68e6b428-ce29-47c9-893c-adda132b27e4",
   "metadata": {},
   "outputs": [],
   "source": [
    "import pandas as pd\n",
    "\n",
    "# Example: Assuming df is already your DataFrame\n",
    "# and it has these three columns:\n",
    "# 'count_positive_chunks', 'count_negative_chunks', 'count_neutral_chunks'\n",
    "\n",
    "def determine_sentiment(row):\n",
    "    max_val = max(row['count_positive_chunks'], row['count_negative_chunks'], row['count_neutral_chunks'])\n",
    "    if row['count_positive_chunks'] == max_val:\n",
    "        return 'positive'\n",
    "    elif row['count_negative_chunks'] == max_val:\n",
    "        return 'negative'\n",
    "    else:\n",
    "        return 'neutral'\n",
    "\n",
    "# Apply the function row-wise\n",
    "df['overall_sentiment'] = df.apply(determine_sentiment, axis=1)"
   ]
  },
  {
   "cell_type": "code",
   "execution_count": null,
   "id": "5fa57173-c1e8-4bd2-a176-588231aabba0",
   "metadata": {},
   "outputs": [],
   "source": [
    "########### ADD NEW COLUMNS ###################\n",
    "total = df[['count_positive_chunks', 'count_negative_chunks', 'count_neutral_chunks']].sum(axis=1)\n",
    "total = total.replace(0, np.nan)  # Avoid division by zero\n",
    "df['count_pos_over_total_count'] = df['count_positive_chunks'] / total\n",
    "df['count_neg_over_total_count'] = df['count_negative_chunks'] / total\n",
    "df['count_neut_over_total_count'] = df['count_neutral_chunks'] / total\n",
    "df['net_sentiment'] = ((df['count_positive_chunks'] -df['count_negative_chunks']) / total"
   ]
  },
  {
   "cell_type": "code",
   "execution_count": null,
   "id": "1e888959-f4fb-4349-8384-a7ff81f36dc3",
   "metadata": {},
   "outputs": [],
   "source": [
    "from google.cloud import bigquery\n",
    "\n",
    "def upload_sentiment_clean_to_bq_(df):\n",
    "    \"\"\"\n",
    "    Uploads parsed MDA data from EDGAR filings to BigQuery.\n",
    "    Expects columns: cik, filename, management_discussion\n",
    "    \"\"\"\n",
    "    # Rename columns to lowercase\n",
    "    df.columns = df.columns.str.lower()\n",
    "\n",
    "\n",
    "    try:\n",
    "        # Keep only the required columns\n",
    "\n",
    "        BQ_PROJECT_ID = 'sentiment-lewagon'\n",
    "        BQ_DATASET_ID = 'sentiment_db'\n",
    "        BQ_TABLE_ID = 'sentiment_clean_v2'\n",
    "        table_ref = f\"{BQ_PROJECT_ID}.{BQ_DATASET_ID}.{BQ_TABLE_ID}\"\n",
    "\n",
    "        client = bigquery.Client()\n",
    "\n",
    "        job_config = bigquery.LoadJobConfig(\n",
    "            write_disposition=\"WRITE_APPEND\"\n",
    "        )\n",
    "\n",
    "        job = client.load_table_from_dataframe(df, table_ref, job_config=job_config)\n",
    "        job.result()\n",
    "\n",
    "        print(f\"✅ Uploaded {job.output_rows} rows to {table_ref}\")\n",
    "\n",
    "    except Exception as e:\n",
    "        print(f\"❌ Failed to upload DataFrame to BigQuery: {e}\")"
   ]
  },
  {
   "cell_type": "code",
   "execution_count": null,
   "id": "09cd97d5-dcf5-42c8-9eef-917733268927",
   "metadata": {},
   "outputs": [],
   "source": [
    "upload_sentiment_clean_to_bq_(df)"
   ]
  }
 ],
 "metadata": {
  "kernelspec": {
   "display_name": "Python 3 (ipykernel)",
   "language": "python",
   "name": "python3"
  },
  "language_info": {
   "codemirror_mode": {
    "name": "ipython",
    "version": 3
   },
   "file_extension": ".py",
   "mimetype": "text/x-python",
   "name": "python",
   "nbconvert_exporter": "python",
   "pygments_lexer": "ipython3",
   "version": "3.12.9"
  }
 },
 "nbformat": 4,
 "nbformat_minor": 5
}
