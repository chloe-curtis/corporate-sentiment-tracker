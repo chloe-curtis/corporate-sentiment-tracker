{
 "cells": [
  {
   "cell_type": "code",
   "execution_count": null,
   "id": "8f55d9b7-991e-4fad-b253-9ebc2d95e086",
   "metadata": {},
   "outputs": [],
   "source": [
    "######## SENTIMENT TABLE AS DATAFRAME ################\n",
    "from google.cloud import bigquery\n",
    "\n",
    "# Initialize BigQuery client\n",
    "client = bigquery.Client()\n",
    "\n",
    "# Define your table path\n",
    "table_path = \"sentiment-lewagon.sentiment_db.SENTIMENT\"\n",
    "\n",
    "# Load the table into a DataFrame\n",
    "df = client.list_rows(table_path).to_dataframe()"
   ]
  },
  {
   "cell_type": "code",
   "execution_count": null,
   "id": "cc4b55dd-ed83-4306-96d3-4fc498a6b5fc",
   "metadata": {},
   "outputs": [],
   "source": [
    "import pandas as pd\n",
    "\n",
    "# Example: Assuming df is already your DataFrame\n",
    "# and it has these three columns:\n",
    "# 'count_positive_chunks', 'count_negative_chunks', 'count_neutral_chunks'\n",
    "\n",
    "def determine_sentiment(row):\n",
    "    max_val = max(row['count_positive_chunks'], row['count_negative_chunks'], row['count_neutral_chunks'])\n",
    "    if row['count_positive_chunks'] == max_val:\n",
    "        return 'positive'\n",
    "    elif row['count_negative_chunks'] == max_val:\n",
    "        return 'negative'\n",
    "    else:\n",
    "        return 'neutral'\n",
    "\n",
    "# Apply the function row-wise\n",
    "df['overall_sentiment'] = df.apply(determine_sentiment, axis=1)"
   ]
  },
  {
   "cell_type": "code",
   "execution_count": null,
   "id": "4d8f74b3-6dee-4329-96dc-c69a742c7870",
   "metadata": {},
   "outputs": [],
   "source": [
    "df['count_pos_over_total_count'] = df['count_positive_chunks']/df[['count_positive_chunks','count_negative_chunks','count_neutral_chunks']].sum(axis=1)\n",
    "df['count_neg_over_total_count'] = df['count_negative_chunks']/df[['count_positive_chunks','count_negative_chunks','count_neutral_chunks']].sum(axis=1)\n",
    "df['count_neut_over_total_count'] = df['count_neutral_chunks']/df[['count_positive_chunks','count_negative_chunks','count_neutral_chunks']].sum(axis=1)"
   ]
  }
 ],
 "metadata": {
  "kernelspec": {
   "display_name": "Python 3 (ipykernel)",
   "language": "python",
   "name": "python3"
  },
  "language_info": {
   "codemirror_mode": {
    "name": "ipython",
    "version": 3
   },
   "file_extension": ".py",
   "mimetype": "text/x-python",
   "name": "python",
   "nbconvert_exporter": "python",
   "pygments_lexer": "ipython3",
   "version": "3.12.9"
  }
 },
 "nbformat": 4,
 "nbformat_minor": 5
}
