{
 "cells": [
  {
   "cell_type": "code",
   "execution_count": null,
   "id": "63a65984-b443-42f1-a13b-7e319552ccec",
   "metadata": {},
   "outputs": [],
   "source": [
    "import pandas as pd\n",
    "from google.cloud import bigquery\n",
    "\n",
    "# Initialize BigQuery client\n",
    "client = bigquery.Client()\n",
    "\n",
    "# Define your table path\n",
    "sentiment_clean = \"sentiment-lewagon.sentiment_db.sentiment_clean\"\n",
    "core = \"sentiment-lewagon.sentiment_db.core_v3\"\n",
    "\n",
    "# Load the table into a DataFrame\n",
    "sc = client.list_rows(sentiment_clean).to_dataframe()\n",
    "sc.rename(columns={'bucket_filepath': 'bucket_file_path'}, inplace=True)\n",
    "core = client.list_rows(core).to_dataframe()\n",
    "\n",
    "#### CREATE FINAL TABLE\n",
    "final_table = pd.merge(core, sc, on = \"bucket_file_path\", how = \"left\")\n",
    "\n",
    "#### push final table to biq query\n",
    "\n",
    "def upload_fina_table_to_bq_(df):\n",
    "    \"\"\"\n",
    "    Uploads final static table to BQ\n",
    "    \"\"\"\n",
    "    # Rename columns to lowercase\n",
    "    df.columns = df.columns.str.lower()\n",
    "\n",
    "\n",
    "    try:\n",
    "        # Keep only the required columns\n",
    "\n",
    "        BQ_PROJECT_ID = 'sentiment-lewagon'\n",
    "        BQ_DATASET_ID = 'sentiment_db'\n",
    "        BQ_TABLE_ID = 'final_v5'\n",
    "        table_ref = f\"{BQ_PROJECT_ID}.{BQ_DATASET_ID}.{BQ_TABLE_ID}\"\n",
    "\n",
    "        client = bigquery.Client()\n",
    "\n",
    "        job_config = bigquery.LoadJobConfig(\n",
    "            write_disposition=\"WRITE_APPEND\"\n",
    "        )\n",
    "\n",
    "        job = client.load_table_from_dataframe(df, table_ref, job_config=job_config)\n",
    "        job.result()\n",
    "\n",
    "        print(f\"✅ Uploaded {job.output_rows} rows to {table_ref}\")\n",
    "\n",
    "    except Exception as e:\n",
    "        print(f\"❌ Failed to upload DataFrame to BigQuery: {e}\")\n",
    "\n",
    "\n",
    "###### call function to upload to BQ\n",
    "\n",
    "upload_fina_table_to_bq_(final_table)\n"
   ]
  }
 ],
 "metadata": {
  "kernelspec": {
   "display_name": "Python 3 (ipykernel)",
   "language": "python",
   "name": "python3"
  },
  "language_info": {
   "codemirror_mode": {
    "name": "ipython",
    "version": 3
   },
   "file_extension": ".py",
   "mimetype": "text/x-python",
   "name": "python",
   "nbconvert_exporter": "python",
   "pygments_lexer": "ipython3",
   "version": "3.12.9"
  }
 },
 "nbformat": 4,
 "nbformat_minor": 5
}
