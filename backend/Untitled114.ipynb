{
 "cells": [
  {
   "cell_type": "code",
   "execution_count": 21,
   "id": "51bc91a0-ae54-4e8b-9bb9-4707f9ad0405",
   "metadata": {
    "execution": {
     "iopub.execute_input": "2025-06-11T18:27:35.783215Z",
     "iopub.status.busy": "2025-06-11T18:27:35.782622Z",
     "iopub.status.idle": "2025-06-11T18:27:36.434578Z",
     "shell.execute_reply": "2025-06-11T18:27:36.434292Z",
     "shell.execute_reply.started": "2025-06-11T18:27:35.783177Z"
    },
    "scrolled": true
   },
   "outputs": [
    {
     "name": "stderr",
     "output_type": "stream",
     "text": [
      "[nltk_data] Downloading package punkt to\n",
      "[nltk_data]     /Users/chloecurtis/nltk_data...\n",
      "[nltk_data]   Package punkt is already up-to-date!\n"
     ]
    }
   ],
   "source": [
    "#finbert imports\n",
    "import re\n",
    "import torch\n",
    "import numpy as np\n",
    "from torch.nn.functional import softmax\n",
    "from transformers import AutoTokenizer, AutoModelForSequenceClassification\n",
    "import joblib\n",
    "import io\n",
    "from google.cloud import storage\n",
    "import pickle\n",
    "import pandas as pd\n",
    "from google.cloud import bigquery\n",
    "from nltk.tokenize import sent_tokenize\n",
    "import nltk\n",
    "nltk.download('punkt')\n",
    "\n",
    "#load finbert model\n",
    "tokenizer = AutoTokenizer.from_pretrained(\"ProsusAI/finbert\")\n",
    "model     = AutoModelForSequenceClassification.from_pretrained(\"ProsusAI/finbert\")\n",
    "local_model_path = \"pipeline.pkl\""
   ]
  },
  {
   "cell_type": "code",
   "execution_count": 127,
   "id": "097a600c-c798-4050-8c41-9a9323de2564",
   "metadata": {
    "execution": {
     "iopub.execute_input": "2025-06-11T18:53:50.391045Z",
     "iopub.status.busy": "2025-06-11T18:53:50.390381Z",
     "iopub.status.idle": "2025-06-11T18:53:50.395567Z",
     "shell.execute_reply": "2025-06-11T18:53:50.394567Z",
     "shell.execute_reply.started": "2025-06-11T18:53:50.390996Z"
    }
   },
   "outputs": [],
   "source": [
    "ticker_symbol = \"CCL\""
   ]
  },
  {
   "cell_type": "code",
   "execution_count": 128,
   "id": "f3223193-6098-4e0f-878c-79a7ae1ed750",
   "metadata": {
    "execution": {
     "iopub.execute_input": "2025-06-11T18:53:52.052111Z",
     "iopub.status.busy": "2025-06-11T18:53:52.051624Z",
     "iopub.status.idle": "2025-06-11T18:53:52.061524Z",
     "shell.execute_reply": "2025-06-11T18:53:52.060339Z",
     "shell.execute_reply.started": "2025-06-11T18:53:52.052079Z"
    }
   },
   "outputs": [],
   "source": [
    "text_mda = \"\"\"Item 2. Management's Discussion and Analysis of Financial Condition and Results of Operations. Unless the context otherwise requires, the use of the terms &#8220;Best Buy,&#8221; &#8220;we,&#8221; &#8220;us&#8221; and &#8220;our&#8221; refers to Best Buy Co., Inc. and its consolidated subsidiaries. Any references to our website addresses do not constitute incorporation by reference of the information contained on the websites.\n",
    "Management&#8217;s Discussion and Analysis of Financial Condition and Results of Operations (&#8220;MD&#38;A&#8221;) is intended to provide a reader of our financial statements with a narrative from the perspective of our management on our financial condition, results of operations, liquidity and certain other factors that may affect our future results. Unless otherwise noted, transactions and other factors significantly impacting our financial condition, results of operations and liquidity are discussed in order of magnitude. Our MD&#38;A should be read in conjunction with our Annual Report on Form 10-K for the fiscal year ended February 1, 2025 (including the information presented therein under Risk Factors ), as well as our other reports on Forms 10-Q and 8-K and other publicly available information. All amounts herein are unaudited. Overview. We are driven by our purpose to enrich lives through technology and our vision to personalize and humanize technology solutions for every stage of life . We accomplish this by leveraging our combination of tech expertise and a human touch to meet our customers&#8217; everyday needs, whether they come to us online, visit our stores or invite us into their homes. We have two reportable segments: Domestic and International. The Domestic segment is comprised of our operations in all states, districts and territories of the U.S. and our Best Buy Health business. The International segment is comprised of all our operations in Canada. Our fiscal year ends on the Saturday nearest the end of January. Our business, like that of many retailers, is seasonal. A large proportion of our revenue and earnings is generated in the fiscal fourth quarter, which includes the majority of the holiday shopping season. Comparable Sales. Throughout this MD&#38;A, we refer to comparable sales. Comparable sales is a metric used by management to evaluate the performance of our existing stores, websites and call centers by measuring the change in net sales for a particular period over the comparable prior period of equivalent length. Comparable sales includes revenue from stores, websites and call centers operating for at least 14 full months. Revenue from online sales is included in comparable sales and represents sales initiated on a website or app, regardless of whether customers choose to pick up product in store, curbside, at an alternative pick-up location or take delivery direct to their homes. Revenue from acquisitions is included in comparable sales beginning with the first full quarter following the first anniversary of the date of the acquisition. Comparable sales also includes credit card revenue, gift card breakage, commercial sales and sales of merchandise to wholesalers and dealers, as applicable. Revenue from stores closed more than 14 days, including but not limited to relocated, remodeled, expanded and downsized stores, or stores impacted by natural disasters, is excluded from comparable sales until at least 14 full months after reopening. Comparable sales excludes the impact of certain periodic warranty-related profit-share revenue, the effect of fluctuations in foreign currency exchange rates (applicable to our International segment only) and the impact of the 53 rd week (applicable in 53-week fiscal years only). Comparable sales is based on our fiscal calendar and is not adjusted to align calendar weeks. All periods presented apply this methodology consistently. Consistent with our comparable sales policy, revenue from Best Buy Express locations rebranded as a result of our previously announced collaboration with Bell Canada is excluded from our comparable sales calculation until locations have been operating for at least 14 full months. We believe comparable sales is a meaningful supplemental metric for investors to evaluate revenue performance resulting from growth in existing stores, websites and call centers versus the portion resulting from opening new stores or closing existing stores. The method of calculating comparable sales varies across the retail industry. As a result, our method of calculating comparable sales may not be the same as other retailers&#8217; methods. Non-GAAP Financial Measures This MD&#38;A includes financial information prepared in accordance with accounting principles generally accepted in the U.S. (&#8220;GAAP&#8221;), as well as certain non-GAAP financial measures, such as consolidated adjusted operating income, consolidated adjusted operating income rate, consolidated adjusted effective tax rate and consolidated adjusted diluted earnings per share (&#8220;EPS&#8221;). We believe that non-GAAP financial measures, when reviewed in conjunction with GAAP financial measures, provide additional useful information for evaluating current period performance and assessing future performance. For these reasons, internal management reporting, including budgets, forecasts and financial targets used for short-term incentives are based on non-GAAP financial measures. Generally, our non-GAAP financial measures include adjustments for items such as restructuring charges, goodwill and acquired intangible asset impairments, price-fixing settlements, gains and losses on sales of subsidiaries and certain investments, amortization of definite-lived intangible assets associated with acquisitions, certain acquisition-related costs and the tax effect of all such items. In addition, certain other items may be excluded from non-GAAP financial measures when we believe doing so provides greater clarity to management and our investors. We provide reconciliations of the most comparable financial measures presented in accordance with GAAP to presented non-GAAP financial measures that enable investors to understand the adjustments made in arriving at the non-GAAP financial measures and to evaluate performance using the same metrics as management. These non-GAAP financial measures should be considered in addition to, and not superior to or as a substitute for, GAAP financial measures. We strongly encourage investors and shareholders to review our financial statements and publicly filed reports in their entirety and not to rely on any single financial measure. Non-GAAP financial measures may be calculated differently from similarly titled measures used by other companies, thereby limiting their usefulness for comparative purposes. In our discussions of the operating results of our consolidated business and our International segment, we sometimes refer to the impact of changes in foreign currency exchange rates or the impact of foreign currency exchange rate fluctuations, which are references to the differences between the foreign currency exchange rates we use to convert the International segment&#8217;s operating results from local currencies into U.S. dollars for reporting purposes. We also may use the term &#8220;constant currency,&#8221; which represents results adjusted to exclude foreign currency impacts. We calculate those impacts as the difference between the current period results translated using the current period currency exchange rates and using the comparable prior period currency exchange rates. We believe the disclosure of revenue changes in constant currency provides useful supplementary information to investors in light of significant fluctuations in currency rates. Refer to the Non-GAAP Financial Measures section below for detailed reconciliations of items impacting consolidated adjusted operating income, consolidated adjusted effective tax rate and consolidated adjusted diluted EPS in the presented periods. Tariffs.We continue to face significant uncertainty regarding the scope, timing and magnitude of tariffs that may affect the products we sell and the consequent financial impact on our business. While we directly import approximately 2% to 3% of our overall assortment, our complex supply chain is heavily reliant on vendor imports from China, which we currently estimate make up approximately 30% to 35% of the products we purchase, compared to 55% disclosed within our Annual Report on Form 10-K for the fiscal year ended February 1, 2025. This is the result of vendors using production capabilities in multiple countries and leveraging their ability to flex sourcing options as the environment evolves. We currently estimate approximately 25% of the products we purchase are from the U.S. and Mexico. In conjunction with our vendors, we continue to seek to mitigate the impact of tariffs on our business and our customers.\"\"\""
   ]
  },
  {
   "cell_type": "code",
   "execution_count": 129,
   "id": "35f37e8c-72b3-4f2e-936f-19cd5d2318a6",
   "metadata": {
    "execution": {
     "iopub.execute_input": "2025-06-11T18:53:52.267468Z",
     "iopub.status.busy": "2025-06-11T18:53:52.266461Z",
     "iopub.status.idle": "2025-06-11T18:53:53.736325Z",
     "shell.execute_reply": "2025-06-11T18:53:53.736089Z",
     "shell.execute_reply.started": "2025-06-11T18:53:52.267428Z"
    }
   },
   "outputs": [
    {
     "name": "stdout",
     "output_type": "stream",
     "text": [
      "\n",
      "--- Sentiment Chunk Counts ---\n",
      "Number of Positive Chunks: 7\n",
      "Number of Negative Chunks: 2\n",
      "Number of Neutral Chunks: 42\n",
      "Total Chunks Analyzed: 51\n"
     ]
    }
   ],
   "source": [
    "md_a_text=text_mda\n",
    "labels = ['positive', 'negative', 'neutral']\n",
    "\n",
    "sentences = sent_tokenize(md_a_text)\n",
    "num_pos_chunks = 0\n",
    "num_neg_chunks = 0\n",
    "num_neu_chunks = 0\n",
    "sentence_sentiments = []\n",
    "for i, sentence in enumerate(sentences):\n",
    "    clean_sentence = sentence.strip()\n",
    "    if not clean_sentence:\n",
    "        continue\n",
    "    inputs = tokenizer(clean_sentence, return_tensors=\"pt\", padding=True, truncation=True, max_length=512)\n",
    "    with torch.no_grad():\n",
    "        outputs = model(**inputs)\n",
    "    predictions = torch.softmax(outputs.logits, dim=1)\n",
    "    sentiment_scores = predictions[0].tolist()\n",
    "    dominant_sentiment_index = torch.argmax(predictions)\n",
    "    dominant_sentiment = labels[dominant_sentiment_index]\n",
    "\n",
    "    if dominant_sentiment == 'positive':\n",
    "        num_pos_chunks += 1\n",
    "    elif dominant_sentiment == 'negative':\n",
    "        num_neg_chunks += 1\n",
    "    elif dominant_sentiment == 'neutral':\n",
    "        num_neu_chunks += 1\n",
    "\n",
    "    sentence_sentiments.append({\n",
    "        \"sentence\": clean_sentence,\n",
    "        \"positive\": sentiment_scores[0],\n",
    "        \"negative\": sentiment_scores[1],\n",
    "        \"neutral\": sentiment_scores[2],\n",
    "        \"dominant_sentiment\": dominant_sentiment\n",
    "    })\n",
    "\n",
    "print(\"\\n--- Sentiment Chunk Counts ---\")\n",
    "print(f\"Number of Positive Chunks: {num_pos_chunks}\")\n",
    "print(f\"Number of Negative Chunks: {num_neg_chunks}\")\n",
    "print(f\"Number of Neutral Chunks: {num_neu_chunks}\")\n",
    "print(f\"Total Chunks Analyzed: {len(sentence_sentiments)}\")"
   ]
  },
  {
   "cell_type": "code",
   "execution_count": 139,
   "id": "8d0f4d12-484d-45b2-8497-ba732fd68965",
   "metadata": {
    "execution": {
     "iopub.execute_input": "2025-06-11T18:53:59.582451Z",
     "iopub.status.busy": "2025-06-11T18:53:59.581943Z",
     "iopub.status.idle": "2025-06-11T18:53:59.587159Z",
     "shell.execute_reply": "2025-06-11T18:53:59.585883Z",
     "shell.execute_reply.started": "2025-06-11T18:53:59.582419Z"
    }
   },
   "outputs": [],
   "source": [
    "num_chunks = len(sentence_sentiments)"
   ]
  },
  {
   "cell_type": "code",
   "execution_count": 140,
   "id": "9ef3d7bd-ec1c-4004-a6b4-90d7551a0738",
   "metadata": {
    "execution": {
     "iopub.execute_input": "2025-06-11T18:53:59.843524Z",
     "iopub.status.busy": "2025-06-11T18:53:59.842792Z",
     "iopub.status.idle": "2025-06-11T18:53:59.849214Z",
     "shell.execute_reply": "2025-06-11T18:53:59.848297Z",
     "shell.execute_reply.started": "2025-06-11T18:53:59.843492Z"
    }
   },
   "outputs": [
    {
     "data": {
      "text/plain": [
       "0.09803921568627451"
      ]
     },
     "execution_count": 140,
     "metadata": {},
     "output_type": "execute_result"
    }
   ],
   "source": [
    "net_sentiment = ((num_pos_chunks - num_neg_chunks) / num_chunks)\n",
    "net_sentiment"
   ]
  },
  {
   "cell_type": "code",
   "execution_count": 141,
   "id": "9e22dead-3307-4996-94e5-2bbd01348d77",
   "metadata": {
    "execution": {
     "iopub.execute_input": "2025-06-11T18:54:00.053240Z",
     "iopub.status.busy": "2025-06-11T18:54:00.052383Z",
     "iopub.status.idle": "2025-06-11T18:54:00.061060Z",
     "shell.execute_reply": "2025-06-11T18:54:00.060399Z",
     "shell.execute_reply.started": "2025-06-11T18:54:00.053203Z"
    }
   },
   "outputs": [
    {
     "data": {
      "text/plain": [
       "True"
      ]
     },
     "execution_count": 141,
     "metadata": {},
     "output_type": "execute_result"
    }
   ],
   "source": [
    "neutral_ratio = num_neu_chunks / num_chunks\n",
    "neutral_dominance = neutral_ratio > 0.6\n",
    "neutral_dominance"
   ]
  },
  {
   "cell_type": "code",
   "execution_count": 142,
   "id": "3e83a44c-0735-4de6-baff-de4215887620",
   "metadata": {
    "execution": {
     "iopub.execute_input": "2025-06-11T18:54:00.356149Z",
     "iopub.status.busy": "2025-06-11T18:54:00.355618Z",
     "iopub.status.idle": "2025-06-11T18:54:00.437363Z",
     "shell.execute_reply": "2025-06-11T18:54:00.436480Z",
     "shell.execute_reply.started": "2025-06-11T18:54:00.356115Z"
    }
   },
   "outputs": [],
   "source": [
    "import yfinance as yf\n",
    "ticker = yf.Ticker(ticker_symbol)\n",
    "info = ticker.info\n",
    "industry = info.get('industry', 'N/A')"
   ]
  },
  {
   "cell_type": "code",
   "execution_count": 143,
   "id": "e3e2abc9-a751-4b71-86cb-5f3127210d71",
   "metadata": {
    "execution": {
     "iopub.execute_input": "2025-06-11T18:54:01.644493Z",
     "iopub.status.busy": "2025-06-11T18:54:01.643933Z",
     "iopub.status.idle": "2025-06-11T18:54:01.650458Z",
     "shell.execute_reply": "2025-06-11T18:54:01.649976Z",
     "shell.execute_reply.started": "2025-06-11T18:54:01.644449Z"
    }
   },
   "outputs": [
    {
     "data": {
      "text/plain": [
       "'Travel Services'"
      ]
     },
     "execution_count": 143,
     "metadata": {},
     "output_type": "execute_result"
    }
   ],
   "source": [
    "industry"
   ]
  },
  {
   "cell_type": "code",
   "execution_count": 144,
   "id": "6bf4c446-5e5e-4224-903f-4b12a08b5fc4",
   "metadata": {
    "execution": {
     "iopub.execute_input": "2025-06-11T18:54:02.007020Z",
     "iopub.status.busy": "2025-06-11T18:54:02.006528Z",
     "iopub.status.idle": "2025-06-11T18:54:02.013834Z",
     "shell.execute_reply": "2025-06-11T18:54:02.012148Z",
     "shell.execute_reply.started": "2025-06-11T18:54:02.006986Z"
    }
   },
   "outputs": [],
   "source": [
    "X_raw = {\n",
    "        \"net_sentiment\": net_sentiment,\n",
    "        \"industry\": industry,\n",
    "        \"q_num\": \"2\",\n",
    "        \"neutral_dominance\": neutral_dominance\n",
    "    }\n",
    "X_df = pd.DataFrame([X_raw])"
   ]
  },
  {
   "cell_type": "code",
   "execution_count": 145,
   "id": "dbc23417-5df9-4557-8c59-0093194ecf9a",
   "metadata": {
    "execution": {
     "iopub.execute_input": "2025-06-11T18:54:02.303261Z",
     "iopub.status.busy": "2025-06-11T18:54:02.302392Z",
     "iopub.status.idle": "2025-06-11T18:54:02.312153Z",
     "shell.execute_reply": "2025-06-11T18:54:02.311112Z",
     "shell.execute_reply.started": "2025-06-11T18:54:02.303224Z"
    }
   },
   "outputs": [],
   "source": [
    "X_new = X_df.astype({\n",
    "    'q_num': 'object',\n",
    "    'neutral_dominance': 'object',\n",
    "    'industry': 'object',\n",
    "    'net_sentiment': 'float'\n",
    "})"
   ]
  },
  {
   "cell_type": "code",
   "execution_count": 146,
   "id": "d498a859-2712-4599-a491-3cb4a34a8743",
   "metadata": {
    "execution": {
     "iopub.execute_input": "2025-06-11T18:54:02.615583Z",
     "iopub.status.busy": "2025-06-11T18:54:02.614843Z",
     "iopub.status.idle": "2025-06-11T18:54:02.622953Z",
     "shell.execute_reply": "2025-06-11T18:54:02.622152Z",
     "shell.execute_reply.started": "2025-06-11T18:54:02.615550Z"
    }
   },
   "outputs": [],
   "source": [
    "def load_model_from_local(model_path):\n",
    "    model_pipe = pickle.load(open(model_path,\"rb\"))\n",
    "    return model_pipe\n",
    "local_model_path = \"pipeline.pkl\""
   ]
  },
  {
   "cell_type": "code",
   "execution_count": 147,
   "id": "71f3a16f-83cb-4716-87b2-726dc8ec3b9e",
   "metadata": {
    "execution": {
     "iopub.execute_input": "2025-06-11T18:54:03.565063Z",
     "iopub.status.busy": "2025-06-11T18:54:03.564298Z",
     "iopub.status.idle": "2025-06-11T18:54:03.581098Z",
     "shell.execute_reply": "2025-06-11T18:54:03.580582Z",
     "shell.execute_reply.started": "2025-06-11T18:54:03.565027Z"
    }
   },
   "outputs": [
    {
     "name": "stdout",
     "output_type": "stream",
     "text": [
      "prediction [1]\n"
     ]
    },
    {
     "name": "stderr",
     "output_type": "stream",
     "text": [
      "/Users/chloecurtis/.pyenv/versions/3.12.9/envs/corporate-sentiment-tracker/lib/python3.12/site-packages/sklearn/base.py:440: InconsistentVersionWarning: Trying to unpickle estimator MinMaxScaler from version 1.6.1 when using version 1.7.0. This might lead to breaking code or invalid results. Use at your own risk. For more info please refer to:\n",
      "https://scikit-learn.org/stable/model_persistence.html#security-maintainability-limitations\n",
      "  warnings.warn(\n",
      "/Users/chloecurtis/.pyenv/versions/3.12.9/envs/corporate-sentiment-tracker/lib/python3.12/site-packages/sklearn/base.py:440: InconsistentVersionWarning: Trying to unpickle estimator Pipeline from version 1.6.1 when using version 1.7.0. This might lead to breaking code or invalid results. Use at your own risk. For more info please refer to:\n",
      "https://scikit-learn.org/stable/model_persistence.html#security-maintainability-limitations\n",
      "  warnings.warn(\n",
      "/Users/chloecurtis/.pyenv/versions/3.12.9/envs/corporate-sentiment-tracker/lib/python3.12/site-packages/sklearn/base.py:440: InconsistentVersionWarning: Trying to unpickle estimator OneHotEncoder from version 1.6.1 when using version 1.7.0. This might lead to breaking code or invalid results. Use at your own risk. For more info please refer to:\n",
      "https://scikit-learn.org/stable/model_persistence.html#security-maintainability-limitations\n",
      "  warnings.warn(\n",
      "/Users/chloecurtis/.pyenv/versions/3.12.9/envs/corporate-sentiment-tracker/lib/python3.12/site-packages/sklearn/base.py:440: InconsistentVersionWarning: Trying to unpickle estimator ColumnTransformer from version 1.6.1 when using version 1.7.0. This might lead to breaking code or invalid results. Use at your own risk. For more info please refer to:\n",
      "https://scikit-learn.org/stable/model_persistence.html#security-maintainability-limitations\n",
      "  warnings.warn(\n"
     ]
    },
    {
     "data": {
      "text/plain": [
       "array([1])"
      ]
     },
     "execution_count": 147,
     "metadata": {},
     "output_type": "execute_result"
    }
   ],
   "source": [
    "def make_prediction(X_new):\n",
    "# \"net_sentiment\":         net_sentiment,\n",
    "# \"neutral_dominance\":     neutral_dominance,\n",
    "# industry\n",
    "# quarter\n",
    "    pipe_model = load_model_from_local(local_model_path)\n",
    "    prediction = pipe_model.predict(X_new)\n",
    "    print(\"prediction\", prediction)\n",
    "    return prediction\n",
    "make_prediction(X_new)"
   ]
  },
  {
   "cell_type": "code",
   "execution_count": null,
   "id": "82965ec4-06fa-41f9-a965-3ade6f45a904",
   "metadata": {},
   "outputs": [],
   "source": []
  },
  {
   "cell_type": "code",
   "execution_count": null,
   "id": "6e838191-8c95-44ba-8009-ab308e9477c4",
   "metadata": {},
   "outputs": [],
   "source": []
  },
  {
   "cell_type": "code",
   "execution_count": null,
   "id": "4765b208-9856-4aca-8d78-213f7588818f",
   "metadata": {},
   "outputs": [],
   "source": []
  },
  {
   "cell_type": "code",
   "execution_count": null,
   "id": "2923b3f4-6996-437c-8c86-c220da016369",
   "metadata": {},
   "outputs": [],
   "source": []
  },
  {
   "cell_type": "code",
   "execution_count": null,
   "id": "9c745d08-806a-4481-bb64-4fd0daf0a557",
   "metadata": {},
   "outputs": [],
   "source": []
  }
 ],
 "metadata": {
  "kernelspec": {
   "display_name": "Python 3 (ipykernel)",
   "language": "python",
   "name": "python3"
  },
  "language_info": {
   "codemirror_mode": {
    "name": "ipython",
    "version": 3
   },
   "file_extension": ".py",
   "mimetype": "text/x-python",
   "name": "python",
   "nbconvert_exporter": "python",
   "pygments_lexer": "ipython3",
   "version": "3.12.9"
  }
 },
 "nbformat": 4,
 "nbformat_minor": 5
}
