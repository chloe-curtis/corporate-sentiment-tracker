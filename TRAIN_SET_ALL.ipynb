{
 "cells": [
  {
   "cell_type": "code",
   "execution_count": 22,
   "id": "bc818473-bf93-47d8-a383-e2f0973d3879",
   "metadata": {
    "tags": []
   },
   "outputs": [],
   "source": [
    "import pandas as pd\n",
    "from google.cloud import bigquery\n",
    "\n",
    "# Initialize BigQuery client\n",
    "client = bigquery.Client()\n",
    "\n",
    "# Define your table path\n",
    "sentiment_clean = \"sentiment-lewagon.sentiment_db.SENTIMENT_TRAIN_ALL\"\n",
    "core = \"sentiment-lewagon.sentiment_db.META\"\n",
    "\n",
    "# Load the table into a DataFrame\n",
    "sc = client.list_rows(sentiment_clean).to_dataframe()\n",
    "sc.rename(columns={'bucket_filepath': 'bucket_file_path'}, inplace=True)\n",
    "core = client.list_rows(core).to_dataframe()\n",
    "\n",
    "\n",
    "sc = sc.drop(columns=['cik','quarter','year','filename','conformed_period_of_report'])"
   ]
  },
  {
   "cell_type": "code",
   "execution_count": 23,
   "id": "d9b43b16-4eb9-40bb-8245-15f884e47f5b",
   "metadata": {
    "tags": []
   },
   "outputs": [],
   "source": [
    "#### CREATE FINAL TABLE\n",
    "meta = pd.merge(core, sc, on = \"bucket_file_path\", how = \"right\")\n",
    "\n",
    "##### add sector\n",
    "sector = pd.read_csv('ticker_sector_industry.csv')\n",
    "sector =sector.drop(columns=['industry'])\n",
    "##### combine sector and meta\n",
    "meta_sector = pd.merge(meta, sector, on= 'ticker', how = 'left') ### LJ: 11481 ### RJ 11646"
   ]
  },
  {
   "cell_type": "code",
   "execution_count": 28,
   "id": "766593fe-f958-415e-a31a-372e3ea89286",
   "metadata": {
    "tags": []
   },
   "outputs": [
    {
     "data": {
      "text/plain": [
       "np.int64(1002)"
      ]
     },
     "execution_count": 28,
     "metadata": {},
     "output_type": "execute_result"
    }
   ],
   "source": [
    "(meta_sector.total_chunks_analysed == 0 ).sum() ## 11635"
   ]
  },
  {
   "cell_type": "code",
   "execution_count": 1,
   "id": "57d2ae36-5e92-42ce-b2f9-63c7267e3ddf",
   "metadata": {},
   "outputs": [
    {
     "ename": "NameError",
     "evalue": "name 'meta_sector' is not defined",
     "output_type": "error",
     "traceback": [
      "\u001b[0;31m---------------------------------------------------------------------------\u001b[0m",
      "\u001b[0;31mNameError\u001b[0m                                 Traceback (most recent call last)",
      "Cell \u001b[0;32mIn[1], line 1\u001b[0m\n\u001b[0;32m----> 1\u001b[0m \u001b[43mmeta_sector\u001b[49m\n",
      "\u001b[0;31mNameError\u001b[0m: name 'meta_sector' is not defined"
     ]
    }
   ],
   "source": [
    "meta_sector"
   ]
  },
  {
   "cell_type": "code",
   "execution_count": 29,
   "id": "7d57f1ba-8dcf-47a9-b8d1-a509f033f0b5",
   "metadata": {
    "tags": []
   },
   "outputs": [
    {
     "data": {
      "text/plain": [
       "(10633, 29)"
      ]
     },
     "execution_count": 29,
     "metadata": {},
     "output_type": "execute_result"
    }
   ],
   "source": [
    "meta_sector = meta_sector.dropna()\n",
    "meta_sector.shape"
   ]
  },
  {
   "cell_type": "code",
   "execution_count": 30,
   "id": "9c2885f8-5b07-4de3-a142-0aa58818a0eb",
   "metadata": {
    "tags": []
   },
   "outputs": [
    {
     "data": {
      "text/plain": [
       "(10633, 29)"
      ]
     },
     "execution_count": 30,
     "metadata": {},
     "output_type": "execute_result"
    }
   ],
   "source": [
    "meta_sector = meta_sector.drop_duplicates()\n",
    "meta_sector.shape"
   ]
  },
  {
   "cell_type": "code",
   "execution_count": 31,
   "id": "2706e1e8-bb43-4131-aaeb-c4c447a7a52a",
   "metadata": {
    "tags": []
   },
   "outputs": [],
   "source": [
    "def upload_fina_table_to_bq_(df):\n",
    "    \"\"\"\n",
    "    Uploads final static table to BQ\n",
    "    \"\"\"\n",
    "    # Rename columns to lowercase\n",
    "    df.columns = df.columns.str.lower()\n",
    "\n",
    "\n",
    "    try:\n",
    "        # Keep only the required columns\n",
    "\n",
    "        BQ_PROJECT_ID = 'sentiment-lewagon'\n",
    "        BQ_DATASET_ID = 'sentiment_db'\n",
    "        BQ_TABLE_ID = 'TRAIN_SET_ALL'\n",
    "        table_ref = f\"{BQ_PROJECT_ID}.{BQ_DATASET_ID}.{BQ_TABLE_ID}\"\n",
    "\n",
    "        client = bigquery.Client()\n",
    "\n",
    "        job_config = bigquery.LoadJobConfig(\n",
    "            write_disposition=\"WRITE_APPEND\"\n",
    "        )\n",
    "\n",
    "        job = client.load_table_from_dataframe(df, table_ref, job_config=job_config)\n",
    "        job.result()\n",
    "\n",
    "        print(f\"✅ Uploaded {job.output_rows} rows to {table_ref}\")\n",
    "\n",
    "    except Exception as e:\n",
    "        print(f\"❌ Failed to upload DataFrame to BigQuery: {e}\")"
   ]
  },
  {
   "cell_type": "code",
   "execution_count": 32,
   "id": "806cef89-add3-4bf5-b464-9ba351b7755c",
   "metadata": {
    "tags": []
   },
   "outputs": [
    {
     "name": "stdout",
     "output_type": "stream",
     "text": [
      "✅ Uploaded 10633 rows to sentiment-lewagon.sentiment_db.TRAIN_SET_ALL\n"
     ]
    }
   ],
   "source": [
    "upload_fina_table_to_bq_(meta_sector)"
   ]
  },
  {
   "cell_type": "code",
   "execution_count": null,
   "id": "73fd112f-c3aa-427c-8bc4-20b76abff5b4",
   "metadata": {},
   "outputs": [],
   "source": []
  }
 ],
 "metadata": {
  "environment": {
   "kernel": "conda-base-py",
   "name": "workbench-notebooks.m129",
   "type": "gcloud",
   "uri": "us-docker.pkg.dev/deeplearning-platform-release/gcr.io/workbench-notebooks:m129"
  },
  "kernelspec": {
   "display_name": "Python 3 (ipykernel) (Local)",
   "language": "python",
   "name": "conda-base-py"
  },
  "language_info": {
   "codemirror_mode": {
    "name": "ipython",
    "version": 3
   },
   "file_extension": ".py",
   "mimetype": "text/x-python",
   "name": "python",
   "nbconvert_exporter": "python",
   "pygments_lexer": "ipython3",
   "version": "3.10.16"
  }
 },
 "nbformat": 4,
 "nbformat_minor": 5
}
